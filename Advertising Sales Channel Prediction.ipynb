{
 "cells": [
  {
   "cell_type": "markdown",
   "id": "32f71318",
   "metadata": {},
   "source": [
    "# Advertising Sales Channel Prediction"
   ]
  },
  {
   "cell_type": "markdown",
   "id": "60174e26",
   "metadata": {},
   "source": [
    "# Problem Statement"
   ]
  },
  {
   "cell_type": "markdown",
   "id": "a48550bb",
   "metadata": {},
   "source": [
    "Sales Channel Prediction Case Study  "
   ]
  },
  {
   "cell_type": "markdown",
   "id": "8c769a62",
   "metadata": {},
   "source": [
    "When a company enters a market, the distribution strategy and channel it uses are keys to its success in the market, as well as market know-how and customer knowledge and understanding. Because an effective distribution strategy under efficient supply-chain management opens doors for attaining competitive advantage and strong brand equity in the market, it is a component of the marketing mix that cannot be ignored . \n",
    "\n",
    "The distribution strategy and the channel design have to be right the first time. The case study of Sales channel includes the detailed study of TV, radio and newspaper channel. The predict the total sales generated from all the sales channel.  "
   ]
  },
  {
   "cell_type": "markdown",
   "id": "c4674b19",
   "metadata": {},
   "source": [
    "# Importing the required libraries"
   ]
  },
  {
   "cell_type": "code",
   "execution_count": 1,
   "id": "4d3056be",
   "metadata": {},
   "outputs": [],
   "source": [
    "#importing pandas and numpy library\n",
    "import pandas as pd\n",
    "import numpy as np"
   ]
  },
  {
   "cell_type": "code",
   "execution_count": 5,
   "id": "0307c1d5",
   "metadata": {},
   "outputs": [
    {
     "data": {
      "text/html": [
       "<div>\n",
       "<style scoped>\n",
       "    .dataframe tbody tr th:only-of-type {\n",
       "        vertical-align: middle;\n",
       "    }\n",
       "\n",
       "    .dataframe tbody tr th {\n",
       "        vertical-align: top;\n",
       "    }\n",
       "\n",
       "    .dataframe thead th {\n",
       "        text-align: right;\n",
       "    }\n",
       "</style>\n",
       "<table border=\"1\" class=\"dataframe\">\n",
       "  <thead>\n",
       "    <tr style=\"text-align: right;\">\n",
       "      <th></th>\n",
       "      <th>Unnamed: 0</th>\n",
       "      <th>TV</th>\n",
       "      <th>radio</th>\n",
       "      <th>newspaper</th>\n",
       "      <th>sales</th>\n",
       "    </tr>\n",
       "  </thead>\n",
       "  <tbody>\n",
       "    <tr>\n",
       "      <th>0</th>\n",
       "      <td>1</td>\n",
       "      <td>230.1</td>\n",
       "      <td>37.8</td>\n",
       "      <td>69.2</td>\n",
       "      <td>22.1</td>\n",
       "    </tr>\n",
       "    <tr>\n",
       "      <th>1</th>\n",
       "      <td>2</td>\n",
       "      <td>44.5</td>\n",
       "      <td>39.3</td>\n",
       "      <td>45.1</td>\n",
       "      <td>10.4</td>\n",
       "    </tr>\n",
       "    <tr>\n",
       "      <th>2</th>\n",
       "      <td>3</td>\n",
       "      <td>17.2</td>\n",
       "      <td>45.9</td>\n",
       "      <td>69.3</td>\n",
       "      <td>9.3</td>\n",
       "    </tr>\n",
       "    <tr>\n",
       "      <th>3</th>\n",
       "      <td>4</td>\n",
       "      <td>151.5</td>\n",
       "      <td>41.3</td>\n",
       "      <td>58.5</td>\n",
       "      <td>18.5</td>\n",
       "    </tr>\n",
       "    <tr>\n",
       "      <th>4</th>\n",
       "      <td>5</td>\n",
       "      <td>180.8</td>\n",
       "      <td>10.8</td>\n",
       "      <td>58.4</td>\n",
       "      <td>12.9</td>\n",
       "    </tr>\n",
       "    <tr>\n",
       "      <th>...</th>\n",
       "      <td>...</td>\n",
       "      <td>...</td>\n",
       "      <td>...</td>\n",
       "      <td>...</td>\n",
       "      <td>...</td>\n",
       "    </tr>\n",
       "    <tr>\n",
       "      <th>195</th>\n",
       "      <td>196</td>\n",
       "      <td>38.2</td>\n",
       "      <td>3.7</td>\n",
       "      <td>13.8</td>\n",
       "      <td>7.6</td>\n",
       "    </tr>\n",
       "    <tr>\n",
       "      <th>196</th>\n",
       "      <td>197</td>\n",
       "      <td>94.2</td>\n",
       "      <td>4.9</td>\n",
       "      <td>8.1</td>\n",
       "      <td>9.7</td>\n",
       "    </tr>\n",
       "    <tr>\n",
       "      <th>197</th>\n",
       "      <td>198</td>\n",
       "      <td>177.0</td>\n",
       "      <td>9.3</td>\n",
       "      <td>6.4</td>\n",
       "      <td>12.8</td>\n",
       "    </tr>\n",
       "    <tr>\n",
       "      <th>198</th>\n",
       "      <td>199</td>\n",
       "      <td>283.6</td>\n",
       "      <td>42.0</td>\n",
       "      <td>66.2</td>\n",
       "      <td>25.5</td>\n",
       "    </tr>\n",
       "    <tr>\n",
       "      <th>199</th>\n",
       "      <td>200</td>\n",
       "      <td>232.1</td>\n",
       "      <td>8.6</td>\n",
       "      <td>8.7</td>\n",
       "      <td>13.4</td>\n",
       "    </tr>\n",
       "  </tbody>\n",
       "</table>\n",
       "<p>200 rows × 5 columns</p>\n",
       "</div>"
      ],
      "text/plain": [
       "     Unnamed: 0     TV  radio  newspaper  sales\n",
       "0             1  230.1   37.8       69.2   22.1\n",
       "1             2   44.5   39.3       45.1   10.4\n",
       "2             3   17.2   45.9       69.3    9.3\n",
       "3             4  151.5   41.3       58.5   18.5\n",
       "4             5  180.8   10.8       58.4   12.9\n",
       "..          ...    ...    ...        ...    ...\n",
       "195         196   38.2    3.7       13.8    7.6\n",
       "196         197   94.2    4.9        8.1    9.7\n",
       "197         198  177.0    9.3        6.4   12.8\n",
       "198         199  283.6   42.0       66.2   25.5\n",
       "199         200  232.1    8.6        8.7   13.4\n",
       "\n",
       "[200 rows x 5 columns]"
      ]
     },
     "execution_count": 5,
     "metadata": {},
     "output_type": "execute_result"
    }
   ],
   "source": [
    "#importing advertising Sales Channel dataset from Github and using CSv method to read the dataframe\n",
    "df=pd.read_csv(\"https://raw.githubusercontent.com/dsrscientist/DSData/master/Advertising.csv\")\n",
    "df"
   ]
  },
  {
   "cell_type": "code",
   "execution_count": 4,
   "id": "8d6ddb83",
   "metadata": {},
   "outputs": [
    {
     "name": "stdout",
     "output_type": "stream",
     "text": [
      "<class 'pandas.core.frame.DataFrame'>\n",
      "RangeIndex: 200 entries, 0 to 199\n",
      "Data columns (total 5 columns):\n",
      " #   Column      Non-Null Count  Dtype  \n",
      "---  ------      --------------  -----  \n",
      " 0   Unnamed: 0  200 non-null    int64  \n",
      " 1   TV          200 non-null    float64\n",
      " 2   radio       200 non-null    float64\n",
      " 3   newspaper   200 non-null    float64\n",
      " 4   sales       200 non-null    float64\n",
      "dtypes: float64(4), int64(1)\n",
      "memory usage: 7.9 KB\n"
     ]
    }
   ],
   "source": [
    "#summary of the dataset\n",
    "df.info() "
   ]
  },
  {
   "cell_type": "code",
   "execution_count": 6,
   "id": "64f61ba3",
   "metadata": {},
   "outputs": [
    {
     "data": {
      "text/plain": [
       "Unnamed: 0    0\n",
       "TV            0\n",
       "radio         0\n",
       "newspaper     0\n",
       "sales         0\n",
       "dtype: int64"
      ]
     },
     "execution_count": 6,
     "metadata": {},
     "output_type": "execute_result"
    }
   ],
   "source": [
    "#checking the null values in the dataset\n",
    "df.isnull().sum()"
   ]
  },
  {
   "cell_type": "markdown",
   "id": "677ed0c1",
   "metadata": {},
   "source": [
    "There are no null values present in the dataframe"
   ]
  },
  {
   "cell_type": "code",
   "execution_count": 7,
   "id": "3319f1d5",
   "metadata": {},
   "outputs": [
    {
     "data": {
      "text/plain": [
       "Index(['Unnamed: 0', 'TV', 'radio', 'newspaper', 'sales'], dtype='object')"
      ]
     },
     "execution_count": 7,
     "metadata": {},
     "output_type": "execute_result"
    }
   ],
   "source": [
    "#checking the columns present in the dataset\n",
    "df.columns"
   ]
  },
  {
   "cell_type": "markdown",
   "id": "bf564591",
   "metadata": {},
   "source": [
    "# Desciptionn of the Dataframe"
   ]
  },
  {
   "cell_type": "markdown",
   "id": "a19c9f3e",
   "metadata": {},
   "source": [
    "The dataset given here contains the data about the sales of the product. The dataset is about the advertising cost incurred by the business on various advertising platforms. \n",
    "\n",
    "Below is the description of all the columns in the dataset:\n",
    "\n",
    "TV: Advertising cost spent in dollars for advertising on TV;\n",
    "Radio: Advertising cost spent in dollars for advertising on Radio;\n",
    "Newspaper: Advertising cost spent in dollars for advertising on Newspaper;\n",
    "Sales: Number of units sold;"
   ]
  },
  {
   "cell_type": "code",
   "execution_count": 8,
   "id": "50231e1b",
   "metadata": {},
   "outputs": [
    {
     "data": {
      "text/plain": [
       "Unnamed: 0      int64\n",
       "TV            float64\n",
       "radio         float64\n",
       "newspaper     float64\n",
       "sales         float64\n",
       "dtype: object"
      ]
     },
     "execution_count": 8,
     "metadata": {},
     "output_type": "execute_result"
    }
   ],
   "source": [
    "#checking the datatypes of the columns\n",
    "df.dtypes"
   ]
  },
  {
   "cell_type": "markdown",
   "id": "3a142dca",
   "metadata": {},
   "source": [
    "As we can see except the columnn \"Unnamed\" all the other columns are in float datatypes. The column \"unnamed\" is of integer datatype"
   ]
  },
  {
   "cell_type": "markdown",
   "id": "0da6c633",
   "metadata": {},
   "source": [
    "# Making dataframe for the nominal data"
   ]
  },
  {
   "cell_type": "code",
   "execution_count": 9,
   "id": "b2db8671",
   "metadata": {},
   "outputs": [
    {
     "data": {
      "text/plain": [
       "Index(['Unnamed: 0', 'TV', 'radio', 'newspaper', 'sales'], dtype='object')"
      ]
     },
     "execution_count": 9,
     "metadata": {},
     "output_type": "execute_result"
    }
   ],
   "source": [
    "# Making dataframe for the nominal data\n",
    "df_visualization_nominal=df[['Unnamed: 0', 'TV', 'radio', 'newspaper', 'sales']].copy()\n",
    "df_visualization_nominal.columns"
   ]
  },
  {
   "cell_type": "markdown",
   "id": "004892c7",
   "metadata": {},
   "source": [
    "# Using data visualization"
   ]
  },
  {
   "cell_type": "code",
   "execution_count": 10,
   "id": "bfbba0f8",
   "metadata": {},
   "outputs": [],
   "source": [
    "#importing Seaborn library for the plot distribution visualization\n",
    "import seaborn as sns"
   ]
  },
  {
   "cell_type": "code",
   "execution_count": 12,
   "id": "c7b1efaf",
   "metadata": {},
   "outputs": [
    {
     "name": "stdout",
     "output_type": "stream",
     "text": [
      "1      1\n",
      "138    1\n",
      "128    1\n",
      "129    1\n",
      "130    1\n",
      "      ..\n",
      "70     1\n",
      "71     1\n",
      "72     1\n",
      "73     1\n",
      "200    1\n",
      "Name: Unnamed: 0, Length: 200, dtype: int64\n"
     ]
    },
    {
     "data": {
      "image/png": "[encoded data removed]",
      "text/plain": [
       "<Figure size 432x288 with 1 Axes>"
      ]
     },
     "metadata": {
      "needs_background": "light"
     },
     "output_type": "display_data"
    }
   ],
   "source": [
    "data = sns.countplot(x=\"Unnamed: 0\", data=df_visualization_nominal)\n",
    "print(df_visualization_nominal[\"Unnamed: 0\"].value_counts())"
   ]
  },
  {
   "cell_type": "code",
   "execution_count": 13,
   "id": "3f47431a",
   "metadata": {},
   "outputs": [
    {
     "name": "stdout",
     "output_type": "stream",
     "text": [
      "199.8    2\n",
      "109.8    2\n",
      "17.2     2\n",
      "177.0    2\n",
      "222.4    2\n",
      "        ..\n",
      "139.3    1\n",
      "216.8    1\n",
      "199.1    1\n",
      "26.8     1\n",
      "232.1    1\n",
      "Name: TV, Length: 190, dtype: int64\n"
     ]
    },
    {
     "data": {
      "image/png": "[encoded data removed]",
      "text/plain": [
       "<Figure size 432x288 with 1 Axes>"
      ]
     },
     "metadata": {
      "needs_background": "light"
     },
     "output_type": "display_data"
    }
   ],
   "source": [
    "data = sns.countplot(x=\"TV\", data=df_visualization_nominal)\n",
    "print(df_visualization_nominal[\"TV\"].value_counts())"
   ]
  },
  {
   "cell_type": "code",
   "execution_count": 14,
   "id": "0583038f",
   "metadata": {},
   "outputs": [
    {
     "name": "stdout",
     "output_type": "stream",
     "text": [
      "4.1     3\n",
      "5.7     3\n",
      "13.9    2\n",
      "14.3    2\n",
      "36.9    2\n",
      "       ..\n",
      "42.8    1\n",
      "14.5    1\n",
      "30.6    1\n",
      "33.0    1\n",
      "8.6     1\n",
      "Name: radio, Length: 167, dtype: int64\n"
     ]
    },
    {
     "data": {
      "image/png": "[encoded data removed]",
      "text/plain": [
       "<Figure size 432x288 with 1 Axes>"
      ]
     },
     "metadata": {
      "needs_background": "light"
     },
     "output_type": "display_data"
    }
   ],
   "source": [
    "data = sns.countplot(x=\"radio\", data=df_visualization_nominal)\n",
    "print(df_visualization_nominal[\"radio\"].value_counts())"
   ]
  },
  {
   "cell_type": "code",
   "execution_count": 15,
   "id": "24fc5bb6",
   "metadata": {},
   "outputs": [
    {
     "name": "stdout",
     "output_type": "stream",
     "text": [
      "9.3     3\n",
      "25.6    3\n",
      "8.7     3\n",
      "34.6    2\n",
      "8.5     2\n",
      "       ..\n",
      "27.2    1\n",
      "31.7    1\n",
      "19.3    1\n",
      "31.3    1\n",
      "66.2    1\n",
      "Name: newspaper, Length: 172, dtype: int64\n"
     ]
    },
    {
     "data": {
      "image/png": "[encoded data removed]",
      "text/plain": [
       "<Figure size 432x288 with 1 Axes>"
      ]
     },
     "metadata": {
      "needs_background": "light"
     },
     "output_type": "display_data"
    }
   ],
   "source": [
    "data = sns.countplot(x=\"newspaper\", data=df_visualization_nominal)\n",
    "print(df_visualization_nominal[\"newspaper\"].value_counts())"
   ]
  },
  {
   "cell_type": "code",
   "execution_count": 16,
   "id": "31b19e5b",
   "metadata": {},
   "outputs": [
    {
     "name": "stdout",
     "output_type": "stream",
     "text": [
      "9.3     3\n",
      "25.6    3\n",
      "8.7     3\n",
      "34.6    2\n",
      "8.5     2\n",
      "       ..\n",
      "27.2    1\n",
      "31.7    1\n",
      "19.3    1\n",
      "31.3    1\n",
      "66.2    1\n",
      "Name: newspaper, Length: 172, dtype: int64\n"
     ]
    },
    {
     "data": {
      "image/png": "[encoded data removed]",
      "text/plain": [
       "<Figure size 432x288 with 1 Axes>"
      ]
     },
     "metadata": {
      "needs_background": "light"
     },
     "output_type": "display_data"
    }
   ],
   "source": [
    "data = sns.countplot(x=\"newspaper\", data=df_visualization_nominal)\n",
    "print(df_visualization_nominal[\"newspaper\"].value_counts())"
   ]
  },
  {
   "cell_type": "markdown",
   "id": "2e682703",
   "metadata": {},
   "source": [
    "Scatter plot representation present the relationship between two variables in a data-set. It represents data points on a two-dimensional plane or on a Cartesian system."
   ]
  },
  {
   "cell_type": "code",
   "execution_count": 17,
   "id": "31b30b27",
   "metadata": {},
   "outputs": [
    {
     "data": {
      "text/plain": [
       "<AxesSubplot:xlabel='Unnamed: 0', ylabel='sales'>"
      ]
     },
     "execution_count": 17,
     "metadata": {},
     "output_type": "execute_result"
    },
    {
     "data": {
      "image/png": "[encoded data removed]",
      "text/plain": [
       "<Figure size 432x288 with 1 Axes>"
      ]
     },
     "metadata": {
      "needs_background": "light"
     },
     "output_type": "display_data"
    }
   ],
   "source": [
    "#taking the target variable as \"sales\" since we have to predict the total sales generated from all the sales channel.  \n",
    "sns.scatterplot(x=\"Unnamed: 0\",y=\"sales\",data=df)"
   ]
  },
  {
   "cell_type": "code",
   "execution_count": 18,
   "id": "fc870387",
   "metadata": {},
   "outputs": [
    {
     "data": {
      "text/plain": [
       "<AxesSubplot:xlabel='TV', ylabel='sales'>"
      ]
     },
     "execution_count": 18,
     "metadata": {},
     "output_type": "execute_result"
    },
    {
     "data": {
      "image/png": "[encoded data removed]",
      "text/plain": [
       "<Figure size 432x288 with 1 Axes>"
      ]
     },
     "metadata": {
      "needs_background": "light"
     },
     "output_type": "display_data"
    }
   ],
   "source": [
    "sns.scatterplot(x=\"TV\",y=\"sales\",data=df)"
   ]
  },
  {
   "cell_type": "code",
   "execution_count": 19,
   "id": "c0f28490",
   "metadata": {},
   "outputs": [
    {
     "data": {
      "text/plain": [
       "<AxesSubplot:xlabel='newspaper', ylabel='sales'>"
      ]
     },
     "execution_count": 19,
     "metadata": {},
     "output_type": "execute_result"
    },
    {
     "data": {
      "image/png": "[encoded data removed]",
      "text/plain": [
       "<Figure size 432x288 with 1 Axes>"
      ]
     },
     "metadata": {
      "needs_background": "light"
     },
     "output_type": "display_data"
    }
   ],
   "source": [
    "sns.scatterplot(x=\"newspaper\",y=\"sales\",data=df)"
   ]
  },
  {
   "cell_type": "code",
   "execution_count": 20,
   "id": "979909b3",
   "metadata": {},
   "outputs": [
    {
     "data": {
      "text/plain": [
       "<AxesSubplot:xlabel='radio', ylabel='sales'>"
      ]
     },
     "execution_count": 20,
     "metadata": {},
     "output_type": "execute_result"
    },
    {
     "data": {
      "image/png": "[encoded data removed]",
      "text/plain": [
       "<Figure size 432x288 with 1 Axes>"
      ]
     },
     "metadata": {
      "needs_background": "light"
     },
     "output_type": "display_data"
    }
   ],
   "source": [
    "sns.scatterplot(x=\"radio\",y=\"sales\",data=df)"
   ]
  },
  {
   "cell_type": "markdown",
   "id": "1fd3a776",
   "metadata": {},
   "source": [
    "A bar plot is a plot that presents categorical data with rectangular bars with lengths proportional to the values that they represent."
   ]
  },
  {
   "cell_type": "code",
   "execution_count": 21,
   "id": "3724c0f7",
   "metadata": {},
   "outputs": [
    {
     "data": {
      "text/plain": [
       "<AxesSubplot:>"
      ]
     },
     "execution_count": 21,
     "metadata": {},
     "output_type": "execute_result"
    },
    {
     "data": {
      "image/png": "[encoded data removed]",
      "text/plain": [
       "<Figure size 432x288 with 1 Axes>"
      ]
     },
     "metadata": {
      "needs_background": "light"
     },
     "output_type": "display_data"
    }
   ],
   "source": [
    "#using bar plot\n",
    "df.plot.bar()"
   ]
  },
  {
   "cell_type": "markdown",
   "id": "961c5cf5",
   "metadata": {},
   "source": [
    "Finding the bar plot reprsentation of each column with the target column"
   ]
  },
  {
   "cell_type": "code",
   "execution_count": 22,
   "id": "db857593",
   "metadata": {},
   "outputs": [
    {
     "data": {
      "text/plain": [
       "<AxesSubplot:xlabel='radio'>"
      ]
     },
     "execution_count": 22,
     "metadata": {},
     "output_type": "execute_result"
    },
    {
     "data": {
      "image/png": "[encoded data removed]",
      "text/plain": [
       "<Figure size 432x288 with 1 Axes>"
      ]
     },
     "metadata": {
      "needs_background": "light"
     },
     "output_type": "display_data"
    }
   ],
   "source": [
    "#Using the target column sales since we have to predict the total sales genrated from all the sales channel\n",
    "df.plot(x=\"radio\",y=\"sales\",kind='bar') "
   ]
  },
  {
   "cell_type": "code",
   "execution_count": 23,
   "id": "5876a642",
   "metadata": {},
   "outputs": [
    {
     "data": {
      "text/plain": [
       "<AxesSubplot:xlabel='Unnamed: 0'>"
      ]
     },
     "execution_count": 23,
     "metadata": {},
     "output_type": "execute_result"
    },
    {
     "data": {
      "image/png": "[encoded data removed]",
      "text/plain": [
       "<Figure size 432x288 with 1 Axes>"
      ]
     },
     "metadata": {
      "needs_background": "light"
     },
     "output_type": "display_data"
    }
   ],
   "source": [
    "df.plot(x=\"Unnamed: 0\",y=\"sales\",kind='bar')"
   ]
  },
  {
   "cell_type": "code",
   "execution_count": 24,
   "id": "78f0ece5",
   "metadata": {},
   "outputs": [
    {
     "data": {
      "text/plain": [
       "<AxesSubplot:xlabel='newspaper'>"
      ]
     },
     "execution_count": 24,
     "metadata": {},
     "output_type": "execute_result"
    },
    {
     "data": {
      "image/png": "[encoded data removed]",
      "text/plain": [
       "<Figure size 432x288 with 1 Axes>"
      ]
     },
     "metadata": {
      "needs_background": "light"
     },
     "output_type": "display_data"
    }
   ],
   "source": [
    "df.plot(x=\"newspaper\",y=\"sales\",kind='bar')"
   ]
  },
  {
   "cell_type": "code",
   "execution_count": 25,
   "id": "422fde08",
   "metadata": {},
   "outputs": [
    {
     "data": {
      "text/plain": [
       "<AxesSubplot:xlabel='TV'>"
      ]
     },
     "execution_count": 25,
     "metadata": {},
     "output_type": "execute_result"
    },
    {
     "data": {
      "image/png": "[encoded data removed]",
      "text/plain": [
       "<Figure size 432x288 with 1 Axes>"
      ]
     },
     "metadata": {
      "needs_background": "light"
     },
     "output_type": "display_data"
    }
   ],
   "source": [
    "df.plot(x=\"TV\",y=\"sales\",kind='bar')"
   ]
  },
  {
   "cell_type": "code",
   "execution_count": 27,
   "id": "f675d180",
   "metadata": {},
   "outputs": [
    {
     "data": {
      "image/png": "[encoded data removed]",
      "text/plain": [
       "<Figure size 576x576 with 6 Axes>"
      ]
     },
     "metadata": {
      "needs_background": "light"
     },
     "output_type": "display_data"
    }
   ],
   "source": [
    "#checking all variables at once by using hist plot\n",
    "import matplotlib.pyplot as plt  #importing matplotlib.pyplot  \n",
    "df.hist( bins = 8, figsize = (8,8))\n",
    "plt.show()"
   ]
  },
  {
   "cell_type": "markdown",
   "id": "cd07766f",
   "metadata": {},
   "source": [
    "Spending budget for advertisments on TV is in all range, same for Radio but less than TV. But on newspapers, less budget is spend"
   ]
  },
  {
   "cell_type": "code",
   "execution_count": 28,
   "id": "a7b04490",
   "metadata": {},
   "outputs": [
    {
     "name": "stderr",
     "output_type": "stream",
     "text": [
      "C:\\Users\\Asus\\anaconda3\\lib\\site-packages\\seaborn\\distributions.py:2619: FutureWarning: `distplot` is a deprecated function and will be removed in a future version. Please adapt your code to use either `displot` (a figure-level function with similar flexibility) or `histplot` (an axes-level function for histograms).\n",
      "  warnings.warn(msg, FutureWarning)\n",
      "C:\\Users\\Asus\\anaconda3\\lib\\site-packages\\seaborn\\distributions.py:2619: FutureWarning: `distplot` is a deprecated function and will be removed in a future version. Please adapt your code to use either `displot` (a figure-level function with similar flexibility) or `histplot` (an axes-level function for histograms).\n",
      "  warnings.warn(msg, FutureWarning)\n",
      "C:\\Users\\Asus\\anaconda3\\lib\\site-packages\\seaborn\\distributions.py:2619: FutureWarning: `distplot` is a deprecated function and will be removed in a future version. Please adapt your code to use either `displot` (a figure-level function with similar flexibility) or `histplot` (an axes-level function for histograms).\n",
      "  warnings.warn(msg, FutureWarning)\n"
     ]
    },
    {
     "ename": "IndexError",
     "evalue": "index 3 is out of bounds for axis 0 with size 3",
     "output_type": "error",
     "traceback": [
      "\u001b[1;31m---------------------------------------------------------------------------\u001b[0m",
      "\u001b[1;31mIndexError\u001b[0m                                Traceback (most recent call last)",
      "\u001b[1;32m~\\AppData\\Local\\Temp/ipykernel_27900/3341296777.py\u001b[0m in \u001b[0;36m<module>\u001b[1;34m\u001b[0m\n\u001b[0;32m      6\u001b[0m \u001b[0msns\u001b[0m\u001b[1;33m.\u001b[0m\u001b[0mdistplot\u001b[0m\u001b[1;33m(\u001b[0m\u001b[0mdf\u001b[0m\u001b[1;33m.\u001b[0m\u001b[0mnewspaper\u001b[0m\u001b[1;33m,\u001b[0m \u001b[0max\u001b[0m\u001b[1;33m=\u001b[0m\u001b[0maxs\u001b[0m\u001b[1;33m[\u001b[0m\u001b[1;36m1\u001b[0m\u001b[1;33m]\u001b[0m\u001b[1;33m)\u001b[0m\u001b[1;33m;\u001b[0m\u001b[1;33m\u001b[0m\u001b[1;33m\u001b[0m\u001b[0m\n\u001b[0;32m      7\u001b[0m \u001b[0msns\u001b[0m\u001b[1;33m.\u001b[0m\u001b[0mdistplot\u001b[0m\u001b[1;33m(\u001b[0m\u001b[0mdf\u001b[0m\u001b[1;33m.\u001b[0m\u001b[0mradio\u001b[0m\u001b[1;33m,\u001b[0m \u001b[0max\u001b[0m\u001b[1;33m=\u001b[0m\u001b[0maxs\u001b[0m\u001b[1;33m[\u001b[0m\u001b[1;36m2\u001b[0m\u001b[1;33m]\u001b[0m\u001b[1;33m)\u001b[0m\u001b[1;33m;\u001b[0m\u001b[1;33m\u001b[0m\u001b[1;33m\u001b[0m\u001b[0m\n\u001b[1;32m----> 8\u001b[1;33m \u001b[0msns\u001b[0m\u001b[1;33m.\u001b[0m\u001b[0mdistplot\u001b[0m\u001b[1;33m(\u001b[0m\u001b[0mdf\u001b[0m\u001b[1;33m.\u001b[0m\u001b[0mTV\u001b[0m\u001b[1;33m,\u001b[0m \u001b[0max\u001b[0m\u001b[1;33m=\u001b[0m\u001b[0maxs\u001b[0m\u001b[1;33m[\u001b[0m\u001b[1;36m3\u001b[0m\u001b[1;33m]\u001b[0m\u001b[1;33m)\u001b[0m\u001b[1;33m;\u001b[0m\u001b[1;33m\u001b[0m\u001b[1;33m\u001b[0m\u001b[0m\n\u001b[0m",
      "\u001b[1;31mIndexError\u001b[0m: index 3 is out of bounds for axis 0 with size 3"
     ]
    },
    {
     "data": {
      "image/png": "[encoded data removed]",
      "text/plain": [
       "<Figure size 1008x288 with 3 Axes>"
      ]
     },
     "metadata": {
      "needs_background": "light"
     },
     "output_type": "display_data"
    }
   ],
   "source": [
    "#checking the exploratory analysis by using the distplot for all the variables at once\n",
    "fig, axs = plt.subplots(ncols=3)\n",
    "fig.set_size_inches(14, 4)\n",
    "\n",
    "sns.distplot(df.sales, ax=axs[0]);\n",
    "sns.distplot(df.newspaper, ax=axs[1]);\n",
    "sns.distplot(df.radio, ax=axs[2]);\n",
    "sns.distplot(df.TV, ax=axs[3]);"
   ]
  },
  {
   "cell_type": "code",
   "execution_count": 29,
   "id": "39684e36",
   "metadata": {},
   "outputs": [
    {
     "data": {
      "text/html": [
       "<div>\n",
       "<style scoped>\n",
       "    .dataframe tbody tr th:only-of-type {\n",
       "        vertical-align: middle;\n",
       "    }\n",
       "\n",
       "    .dataframe tbody tr th {\n",
       "        vertical-align: top;\n",
       "    }\n",
       "\n",
       "    .dataframe thead th {\n",
       "        text-align: right;\n",
       "    }\n",
       "</style>\n",
       "<table border=\"1\" class=\"dataframe\">\n",
       "  <thead>\n",
       "    <tr style=\"text-align: right;\">\n",
       "      <th></th>\n",
       "      <th>Unnamed: 0</th>\n",
       "      <th>TV</th>\n",
       "      <th>radio</th>\n",
       "      <th>newspaper</th>\n",
       "      <th>sales</th>\n",
       "    </tr>\n",
       "  </thead>\n",
       "  <tbody>\n",
       "    <tr>\n",
       "      <th>count</th>\n",
       "      <td>200.000000</td>\n",
       "      <td>200.000000</td>\n",
       "      <td>200.000000</td>\n",
       "      <td>200.000000</td>\n",
       "      <td>200.000000</td>\n",
       "    </tr>\n",
       "    <tr>\n",
       "      <th>mean</th>\n",
       "      <td>100.500000</td>\n",
       "      <td>147.042500</td>\n",
       "      <td>23.264000</td>\n",
       "      <td>30.554000</td>\n",
       "      <td>14.022500</td>\n",
       "    </tr>\n",
       "    <tr>\n",
       "      <th>std</th>\n",
       "      <td>57.879185</td>\n",
       "      <td>85.854236</td>\n",
       "      <td>14.846809</td>\n",
       "      <td>21.778621</td>\n",
       "      <td>5.217457</td>\n",
       "    </tr>\n",
       "    <tr>\n",
       "      <th>min</th>\n",
       "      <td>1.000000</td>\n",
       "      <td>0.700000</td>\n",
       "      <td>0.000000</td>\n",
       "      <td>0.300000</td>\n",
       "      <td>1.600000</td>\n",
       "    </tr>\n",
       "    <tr>\n",
       "      <th>25%</th>\n",
       "      <td>50.750000</td>\n",
       "      <td>74.375000</td>\n",
       "      <td>9.975000</td>\n",
       "      <td>12.750000</td>\n",
       "      <td>10.375000</td>\n",
       "    </tr>\n",
       "    <tr>\n",
       "      <th>50%</th>\n",
       "      <td>100.500000</td>\n",
       "      <td>149.750000</td>\n",
       "      <td>22.900000</td>\n",
       "      <td>25.750000</td>\n",
       "      <td>12.900000</td>\n",
       "    </tr>\n",
       "    <tr>\n",
       "      <th>75%</th>\n",
       "      <td>150.250000</td>\n",
       "      <td>218.825000</td>\n",
       "      <td>36.525000</td>\n",
       "      <td>45.100000</td>\n",
       "      <td>17.400000</td>\n",
       "    </tr>\n",
       "    <tr>\n",
       "      <th>max</th>\n",
       "      <td>200.000000</td>\n",
       "      <td>296.400000</td>\n",
       "      <td>49.600000</td>\n",
       "      <td>114.000000</td>\n",
       "      <td>27.000000</td>\n",
       "    </tr>\n",
       "  </tbody>\n",
       "</table>\n",
       "</div>"
      ],
      "text/plain": [
       "       Unnamed: 0          TV       radio   newspaper       sales\n",
       "count  200.000000  200.000000  200.000000  200.000000  200.000000\n",
       "mean   100.500000  147.042500   23.264000   30.554000   14.022500\n",
       "std     57.879185   85.854236   14.846809   21.778621    5.217457\n",
       "min      1.000000    0.700000    0.000000    0.300000    1.600000\n",
       "25%     50.750000   74.375000    9.975000   12.750000   10.375000\n",
       "50%    100.500000  149.750000   22.900000   25.750000   12.900000\n",
       "75%    150.250000  218.825000   36.525000   45.100000   17.400000\n",
       "max    200.000000  296.400000   49.600000  114.000000   27.000000"
      ]
     },
     "execution_count": 29,
     "metadata": {},
     "output_type": "execute_result"
    }
   ],
   "source": [
    "#describing the dataframe by using the df.descibe method\n",
    "df.describe()"
   ]
  },
  {
   "cell_type": "code",
   "execution_count": 30,
   "id": "8ec375d9",
   "metadata": {},
   "outputs": [
    {
     "data": {
      "text/plain": [
       "<AxesSubplot:>"
      ]
     },
     "execution_count": 30,
     "metadata": {},
     "output_type": "execute_result"
    },
    {
     "data": {
      "image/png": "[encoded data removed]",
      "text/plain": [
       "<Figure size 1368x360 with 2 Axes>"
      ]
     },
     "metadata": {
      "needs_background": "light"
     },
     "output_type": "display_data"
    }
   ],
   "source": [
    "#Finding the heatmap, importing matplotlib.pyplot library \n",
    "import matplotlib.pyplot as plt\n",
    "plt.figure(figsize=(19,5)) #giving the size dimension of the map\n",
    "#using the annot=true method to display the values in each box with the decimal representation as 0.2 \n",
    "sns.heatmap(df.describe(), linewidths=0.1, annot=True,linecolor=\"black\", fmt=\"0.3f\") "
   ]
  },
  {
   "cell_type": "markdown",
   "id": "a63931c7",
   "metadata": {},
   "source": [
    "# Correlation of dataset \n",
    "\n",
    "Correlation refers to the statistical relationship between two entities. In other words, it's how two variables move in relation to one another. Correlation can be used for various data sets, as well."
   ]
  },
  {
   "cell_type": "code",
   "execution_count": 31,
   "id": "bd4b0457",
   "metadata": {},
   "outputs": [
    {
     "data": {
      "text/html": [
       "<div>\n",
       "<style scoped>\n",
       "    .dataframe tbody tr th:only-of-type {\n",
       "        vertical-align: middle;\n",
       "    }\n",
       "\n",
       "    .dataframe tbody tr th {\n",
       "        vertical-align: top;\n",
       "    }\n",
       "\n",
       "    .dataframe thead th {\n",
       "        text-align: right;\n",
       "    }\n",
       "</style>\n",
       "<table border=\"1\" class=\"dataframe\">\n",
       "  <thead>\n",
       "    <tr style=\"text-align: right;\">\n",
       "      <th></th>\n",
       "      <th>Unnamed: 0</th>\n",
       "      <th>TV</th>\n",
       "      <th>radio</th>\n",
       "      <th>newspaper</th>\n",
       "      <th>sales</th>\n",
       "    </tr>\n",
       "  </thead>\n",
       "  <tbody>\n",
       "    <tr>\n",
       "      <th>Unnamed: 0</th>\n",
       "      <td>1.000000</td>\n",
       "      <td>0.017715</td>\n",
       "      <td>-0.110680</td>\n",
       "      <td>-0.154944</td>\n",
       "      <td>-0.051616</td>\n",
       "    </tr>\n",
       "    <tr>\n",
       "      <th>TV</th>\n",
       "      <td>0.017715</td>\n",
       "      <td>1.000000</td>\n",
       "      <td>0.054809</td>\n",
       "      <td>0.056648</td>\n",
       "      <td>0.782224</td>\n",
       "    </tr>\n",
       "    <tr>\n",
       "      <th>radio</th>\n",
       "      <td>-0.110680</td>\n",
       "      <td>0.054809</td>\n",
       "      <td>1.000000</td>\n",
       "      <td>0.354104</td>\n",
       "      <td>0.576223</td>\n",
       "    </tr>\n",
       "    <tr>\n",
       "      <th>newspaper</th>\n",
       "      <td>-0.154944</td>\n",
       "      <td>0.056648</td>\n",
       "      <td>0.354104</td>\n",
       "      <td>1.000000</td>\n",
       "      <td>0.228299</td>\n",
       "    </tr>\n",
       "    <tr>\n",
       "      <th>sales</th>\n",
       "      <td>-0.051616</td>\n",
       "      <td>0.782224</td>\n",
       "      <td>0.576223</td>\n",
       "      <td>0.228299</td>\n",
       "      <td>1.000000</td>\n",
       "    </tr>\n",
       "  </tbody>\n",
       "</table>\n",
       "</div>"
      ],
      "text/plain": [
       "            Unnamed: 0        TV     radio  newspaper     sales\n",
       "Unnamed: 0    1.000000  0.017715 -0.110680  -0.154944 -0.051616\n",
       "TV            0.017715  1.000000  0.054809   0.056648  0.782224\n",
       "radio        -0.110680  0.054809  1.000000   0.354104  0.576223\n",
       "newspaper    -0.154944  0.056648  0.354104   1.000000  0.228299\n",
       "sales        -0.051616  0.782224  0.576223   0.228299  1.000000"
      ]
     },
     "execution_count": 31,
     "metadata": {},
     "output_type": "execute_result"
    }
   ],
   "source": [
    "#Using the df.corr syntax \n",
    "df.corr()"
   ]
  },
  {
   "cell_type": "code",
   "execution_count": 32,
   "id": "487e0d42",
   "metadata": {},
   "outputs": [
    {
     "data": {
      "text/plain": [
       "<AxesSubplot:>"
      ]
     },
     "execution_count": 32,
     "metadata": {},
     "output_type": "execute_result"
    },
    {
     "data": {
      "image/png": "[encoded data removed]",
      "text/plain": [
       "<Figure size 936x288 with 2 Axes>"
      ]
     },
     "metadata": {
      "needs_background": "light"
     },
     "output_type": "display_data"
    }
   ],
   "source": [
    "#representing the heatmap of the correlated dataset\n",
    "plt.figure(figsize=(13,4))\n",
    "sns.heatmap(df.corr(), linewidths=0.1, annot=True,linecolor=\"black\", fmt=\"0.3f\")"
   ]
  },
  {
   "cell_type": "markdown",
   "id": "dd3caf7d",
   "metadata": {},
   "source": [
    "Checking which are positively & negatively correlated with the target column"
   ]
  },
  {
   "cell_type": "code",
   "execution_count": 33,
   "id": "1dff170e",
   "metadata": {},
   "outputs": [
    {
     "data": {
      "image/png": "[encoded data removed]",
      "text/plain": [
       "<Figure size 576x360 with 1 Axes>"
      ]
     },
     "metadata": {
      "needs_background": "light"
     },
     "output_type": "display_data"
    }
   ],
   "source": [
    "plt.figure(figsize=(8,5))\n",
    "df.corr()['sales'].sort_values(ascending=False).drop(['sales']).plot(kind='bar',color='c') #droping the target column \n",
    "plt.xlabel('Feature',fontsize=14) #giving the x label as \"feature\" with fontsize 14\n",
    "plt.ylabel('column with target names',fontsize=14) #giving the y lable as \"column with target names\" with fontsize 14\n",
    "plt.title('correlation',fontsize=18) #giving title as correlation with fontsize 18\n",
    "plt.show() #showing the correlated representation in the form of bar plot"
   ]
  },
  {
   "cell_type": "markdown",
   "id": "f0d4d94d",
   "metadata": {},
   "source": [
    "# Checking the skewness of the dataframe"
   ]
  },
  {
   "cell_type": "code",
   "execution_count": 34,
   "id": "fa364d1c",
   "metadata": {},
   "outputs": [
    {
     "data": {
      "text/plain": [
       "<AxesSubplot:>"
      ]
     },
     "execution_count": 34,
     "metadata": {},
     "output_type": "execute_result"
    },
    {
     "data": {
      "image/png": "[encoded data removed]",
      "text/plain": [
       "<Figure size 432x288 with 1 Axes>"
      ]
     },
     "metadata": {
      "needs_background": "light"
     },
     "output_type": "display_data"
    }
   ],
   "source": [
    "#using the boxplot to check the outliers present for each column\n",
    "df['Unnamed: 0'].plot.box() "
   ]
  },
  {
   "cell_type": "code",
   "execution_count": 35,
   "id": "94744e3f",
   "metadata": {},
   "outputs": [
    {
     "data": {
      "text/plain": [
       "<AxesSubplot:>"
      ]
     },
     "execution_count": 35,
     "metadata": {},
     "output_type": "execute_result"
    },
    {
     "data": {
      "image/png": "[encoded data removed]",
      "text/plain": [
       "<Figure size 432x288 with 1 Axes>"
      ]
     },
     "metadata": {
      "needs_background": "light"
     },
     "output_type": "display_data"
    }
   ],
   "source": [
    "df['TV'].plot.box()"
   ]
  },
  {
   "cell_type": "code",
   "execution_count": 36,
   "id": "dc5b776c",
   "metadata": {},
   "outputs": [
    {
     "data": {
      "text/plain": [
       "<AxesSubplot:>"
      ]
     },
     "execution_count": 36,
     "metadata": {},
     "output_type": "execute_result"
    },
    {
     "data": {
      "image/png": "[encoded data removed]",
      "text/plain": [
       "<Figure size 432x288 with 1 Axes>"
      ]
     },
     "metadata": {
      "needs_background": "light"
     },
     "output_type": "display_data"
    }
   ],
   "source": [
    "df['radio'].plot.box()"
   ]
  },
  {
   "cell_type": "code",
   "execution_count": 37,
   "id": "a2dd874f",
   "metadata": {},
   "outputs": [
    {
     "data": {
      "text/plain": [
       "<AxesSubplot:>"
      ]
     },
     "execution_count": 37,
     "metadata": {},
     "output_type": "execute_result"
    },
    {
     "data": {
      "image/png": "[encoded data removed]",
      "text/plain": [
       "<Figure size 432x288 with 1 Axes>"
      ]
     },
     "metadata": {
      "needs_background": "light"
     },
     "output_type": "display_data"
    }
   ],
   "source": [
    "df['newspaper'].plot.box()"
   ]
  },
  {
   "cell_type": "code",
   "execution_count": 38,
   "id": "0bddfcb3",
   "metadata": {},
   "outputs": [
    {
     "data": {
      "text/plain": [
       "<AxesSubplot:>"
      ]
     },
     "execution_count": 38,
     "metadata": {},
     "output_type": "execute_result"
    },
    {
     "data": {
      "image/png": "[encoded data removed]",
      "text/plain": [
       "<Figure size 432x288 with 1 Axes>"
      ]
     },
     "metadata": {
      "needs_background": "light"
     },
     "output_type": "display_data"
    }
   ],
   "source": [
    "df['sales'].plot.box()"
   ]
  },
  {
   "cell_type": "markdown",
   "id": "01ad6196",
   "metadata": {},
   "source": [
    "In the above representation we have found out that there are no outliers present in the columns (Unnamed: 0, radio, TV & sales(which is our target column))\n",
    "\n",
    "The only outliers that is present is in the \"newspaper\" column.\n",
    "\n",
    "We can remove the outlier from the \"newspaper\" column by using the zscore method."
   ]
  },
  {
   "cell_type": "code",
   "execution_count": 39,
   "id": "0357a294",
   "metadata": {},
   "outputs": [
    {
     "data": {
      "text/plain": [
       "(200, 5)"
      ]
     },
     "execution_count": 39,
     "metadata": {},
     "output_type": "execute_result"
    }
   ],
   "source": [
    "#first checking the shape of the dataset\n",
    "df.shape"
   ]
  },
  {
   "cell_type": "markdown",
   "id": "f679ea0c",
   "metadata": {},
   "source": [
    "As we know the column \"Unnamed: 0\" is in the integer type, we cannot use Zscore with both integer and float type variables. To use the Zscore technique, I'm ommitting the \"Unnamed: 0\" column for the better representation of the targeted column, that is the \"sales\" column which will give us the actual representation for the case study."
   ]
  },
  {
   "cell_type": "code",
   "execution_count": 41,
   "id": "3f6d7775",
   "metadata": {},
   "outputs": [
    {
     "data": {
      "text/html": [
       "<div>\n",
       "<style scoped>\n",
       "    .dataframe tbody tr th:only-of-type {\n",
       "        vertical-align: middle;\n",
       "    }\n",
       "\n",
       "    .dataframe tbody tr th {\n",
       "        vertical-align: top;\n",
       "    }\n",
       "\n",
       "    .dataframe thead th {\n",
       "        text-align: right;\n",
       "    }\n",
       "</style>\n",
       "<table border=\"1\" class=\"dataframe\">\n",
       "  <thead>\n",
       "    <tr style=\"text-align: right;\">\n",
       "      <th></th>\n",
       "      <th>Unnamed: 0</th>\n",
       "      <th>TV</th>\n",
       "      <th>radio</th>\n",
       "      <th>newspaper</th>\n",
       "      <th>sales</th>\n",
       "    </tr>\n",
       "  </thead>\n",
       "  <tbody>\n",
       "    <tr>\n",
       "      <th>0</th>\n",
       "      <td>1</td>\n",
       "      <td>230.1</td>\n",
       "      <td>37.8</td>\n",
       "      <td>69.2</td>\n",
       "      <td>22.1</td>\n",
       "    </tr>\n",
       "    <tr>\n",
       "      <th>1</th>\n",
       "      <td>2</td>\n",
       "      <td>44.5</td>\n",
       "      <td>39.3</td>\n",
       "      <td>45.1</td>\n",
       "      <td>10.4</td>\n",
       "    </tr>\n",
       "    <tr>\n",
       "      <th>2</th>\n",
       "      <td>3</td>\n",
       "      <td>17.2</td>\n",
       "      <td>45.9</td>\n",
       "      <td>69.3</td>\n",
       "      <td>9.3</td>\n",
       "    </tr>\n",
       "    <tr>\n",
       "      <th>3</th>\n",
       "      <td>4</td>\n",
       "      <td>151.5</td>\n",
       "      <td>41.3</td>\n",
       "      <td>58.5</td>\n",
       "      <td>18.5</td>\n",
       "    </tr>\n",
       "    <tr>\n",
       "      <th>4</th>\n",
       "      <td>5</td>\n",
       "      <td>180.8</td>\n",
       "      <td>10.8</td>\n",
       "      <td>58.4</td>\n",
       "      <td>12.9</td>\n",
       "    </tr>\n",
       "    <tr>\n",
       "      <th>...</th>\n",
       "      <td>...</td>\n",
       "      <td>...</td>\n",
       "      <td>...</td>\n",
       "      <td>...</td>\n",
       "      <td>...</td>\n",
       "    </tr>\n",
       "    <tr>\n",
       "      <th>195</th>\n",
       "      <td>196</td>\n",
       "      <td>38.2</td>\n",
       "      <td>3.7</td>\n",
       "      <td>13.8</td>\n",
       "      <td>7.6</td>\n",
       "    </tr>\n",
       "    <tr>\n",
       "      <th>196</th>\n",
       "      <td>197</td>\n",
       "      <td>94.2</td>\n",
       "      <td>4.9</td>\n",
       "      <td>8.1</td>\n",
       "      <td>9.7</td>\n",
       "    </tr>\n",
       "    <tr>\n",
       "      <th>197</th>\n",
       "      <td>198</td>\n",
       "      <td>177.0</td>\n",
       "      <td>9.3</td>\n",
       "      <td>6.4</td>\n",
       "      <td>12.8</td>\n",
       "    </tr>\n",
       "    <tr>\n",
       "      <th>198</th>\n",
       "      <td>199</td>\n",
       "      <td>283.6</td>\n",
       "      <td>42.0</td>\n",
       "      <td>66.2</td>\n",
       "      <td>25.5</td>\n",
       "    </tr>\n",
       "    <tr>\n",
       "      <th>199</th>\n",
       "      <td>200</td>\n",
       "      <td>232.1</td>\n",
       "      <td>8.6</td>\n",
       "      <td>8.7</td>\n",
       "      <td>13.4</td>\n",
       "    </tr>\n",
       "  </tbody>\n",
       "</table>\n",
       "<p>200 rows × 5 columns</p>\n",
       "</div>"
      ],
      "text/plain": [
       "     Unnamed: 0     TV  radio  newspaper  sales\n",
       "0             1  230.1   37.8       69.2   22.1\n",
       "1             2   44.5   39.3       45.1   10.4\n",
       "2             3   17.2   45.9       69.3    9.3\n",
       "3             4  151.5   41.3       58.5   18.5\n",
       "4             5  180.8   10.8       58.4   12.9\n",
       "..          ...    ...    ...        ...    ...\n",
       "195         196   38.2    3.7       13.8    7.6\n",
       "196         197   94.2    4.9        8.1    9.7\n",
       "197         198  177.0    9.3        6.4   12.8\n",
       "198         199  283.6   42.0       66.2   25.5\n",
       "199         200  232.1    8.6        8.7   13.4\n",
       "\n",
       "[200 rows x 5 columns]"
      ]
     },
     "execution_count": 41,
     "metadata": {},
     "output_type": "execute_result"
    }
   ],
   "source": [
    "#using the iloc function to remove the column \n",
    "\n",
    "iloc_df = df.iloc[: , 0:] \n",
    "\n",
    "iloc_df "
   ]
  },
  {
   "cell_type": "code",
   "execution_count": 42,
   "id": "787da2af",
   "metadata": {},
   "outputs": [
    {
     "data": {
      "text/plain": [
       "(array([ 16, 101], dtype=int64), array([3, 3], dtype=int64))"
      ]
     },
     "execution_count": 42,
     "metadata": {},
     "output_type": "execute_result"
    }
   ],
   "source": [
    "#importing the zscore technique from scipy.stats library\n",
    "from scipy.stats import zscore\n",
    "import numpy as np\n",
    "z=np.abs(zscore(iloc_df))\n",
    "\n",
    "#giving the threshold value as 3\n",
    "threshold=3\n",
    "np.where(z>3)"
   ]
  },
  {
   "cell_type": "code",
   "execution_count": 43,
   "id": "cd345a42",
   "metadata": {},
   "outputs": [
    {
     "data": {
      "text/html": [
       "<div>\n",
       "<style scoped>\n",
       "    .dataframe tbody tr th:only-of-type {\n",
       "        vertical-align: middle;\n",
       "    }\n",
       "\n",
       "    .dataframe tbody tr th {\n",
       "        vertical-align: top;\n",
       "    }\n",
       "\n",
       "    .dataframe thead th {\n",
       "        text-align: right;\n",
       "    }\n",
       "</style>\n",
       "<table border=\"1\" class=\"dataframe\">\n",
       "  <thead>\n",
       "    <tr style=\"text-align: right;\">\n",
       "      <th></th>\n",
       "      <th>Unnamed: 0</th>\n",
       "      <th>TV</th>\n",
       "      <th>radio</th>\n",
       "      <th>newspaper</th>\n",
       "      <th>sales</th>\n",
       "    </tr>\n",
       "  </thead>\n",
       "  <tbody>\n",
       "    <tr>\n",
       "      <th>0</th>\n",
       "      <td>1</td>\n",
       "      <td>230.1</td>\n",
       "      <td>37.8</td>\n",
       "      <td>69.2</td>\n",
       "      <td>22.1</td>\n",
       "    </tr>\n",
       "    <tr>\n",
       "      <th>1</th>\n",
       "      <td>2</td>\n",
       "      <td>44.5</td>\n",
       "      <td>39.3</td>\n",
       "      <td>45.1</td>\n",
       "      <td>10.4</td>\n",
       "    </tr>\n",
       "    <tr>\n",
       "      <th>2</th>\n",
       "      <td>3</td>\n",
       "      <td>17.2</td>\n",
       "      <td>45.9</td>\n",
       "      <td>69.3</td>\n",
       "      <td>9.3</td>\n",
       "    </tr>\n",
       "    <tr>\n",
       "      <th>3</th>\n",
       "      <td>4</td>\n",
       "      <td>151.5</td>\n",
       "      <td>41.3</td>\n",
       "      <td>58.5</td>\n",
       "      <td>18.5</td>\n",
       "    </tr>\n",
       "    <tr>\n",
       "      <th>4</th>\n",
       "      <td>5</td>\n",
       "      <td>180.8</td>\n",
       "      <td>10.8</td>\n",
       "      <td>58.4</td>\n",
       "      <td>12.9</td>\n",
       "    </tr>\n",
       "    <tr>\n",
       "      <th>...</th>\n",
       "      <td>...</td>\n",
       "      <td>...</td>\n",
       "      <td>...</td>\n",
       "      <td>...</td>\n",
       "      <td>...</td>\n",
       "    </tr>\n",
       "    <tr>\n",
       "      <th>195</th>\n",
       "      <td>196</td>\n",
       "      <td>38.2</td>\n",
       "      <td>3.7</td>\n",
       "      <td>13.8</td>\n",
       "      <td>7.6</td>\n",
       "    </tr>\n",
       "    <tr>\n",
       "      <th>196</th>\n",
       "      <td>197</td>\n",
       "      <td>94.2</td>\n",
       "      <td>4.9</td>\n",
       "      <td>8.1</td>\n",
       "      <td>9.7</td>\n",
       "    </tr>\n",
       "    <tr>\n",
       "      <th>197</th>\n",
       "      <td>198</td>\n",
       "      <td>177.0</td>\n",
       "      <td>9.3</td>\n",
       "      <td>6.4</td>\n",
       "      <td>12.8</td>\n",
       "    </tr>\n",
       "    <tr>\n",
       "      <th>198</th>\n",
       "      <td>199</td>\n",
       "      <td>283.6</td>\n",
       "      <td>42.0</td>\n",
       "      <td>66.2</td>\n",
       "      <td>25.5</td>\n",
       "    </tr>\n",
       "    <tr>\n",
       "      <th>199</th>\n",
       "      <td>200</td>\n",
       "      <td>232.1</td>\n",
       "      <td>8.6</td>\n",
       "      <td>8.7</td>\n",
       "      <td>13.4</td>\n",
       "    </tr>\n",
       "  </tbody>\n",
       "</table>\n",
       "<p>198 rows × 5 columns</p>\n",
       "</div>"
      ],
      "text/plain": [
       "     Unnamed: 0     TV  radio  newspaper  sales\n",
       "0             1  230.1   37.8       69.2   22.1\n",
       "1             2   44.5   39.3       45.1   10.4\n",
       "2             3   17.2   45.9       69.3    9.3\n",
       "3             4  151.5   41.3       58.5   18.5\n",
       "4             5  180.8   10.8       58.4   12.9\n",
       "..          ...    ...    ...        ...    ...\n",
       "195         196   38.2    3.7       13.8    7.6\n",
       "196         197   94.2    4.9        8.1    9.7\n",
       "197         198  177.0    9.3        6.4   12.8\n",
       "198         199  283.6   42.0       66.2   25.5\n",
       "199         200  232.1    8.6        8.7   13.4\n",
       "\n",
       "[198 rows x 5 columns]"
      ]
     },
     "execution_count": 43,
     "metadata": {},
     "output_type": "execute_result"
    }
   ],
   "source": [
    " #printing the new dataframe \n",
    "df_new_z=df[(z<3).all(axis=1)]\n",
    "df_new_z"
   ]
  },
  {
   "cell_type": "code",
   "execution_count": 44,
   "id": "b2066c27",
   "metadata": {},
   "outputs": [
    {
     "data": {
      "text/plain": [
       "(198, 5)"
      ]
     },
     "execution_count": 44,
     "metadata": {},
     "output_type": "execute_result"
    }
   ],
   "source": [
    "#checking the shape of the new dataframe\n",
    "df_new_z.shape"
   ]
  },
  {
   "cell_type": "code",
   "execution_count": 45,
   "id": "11e82fee",
   "metadata": {},
   "outputs": [],
   "source": [
    "#Separating the columns into target from features\n",
    "features=df.drop(\"sales\",axis=1)\n",
    "target=df[\"sales\"]"
   ]
  },
  {
   "cell_type": "markdown",
   "id": "05a75121",
   "metadata": {},
   "source": [
    "# Scaling the data using Min-Max scaler"
   ]
  },
  {
   "cell_type": "code",
   "execution_count": 46,
   "id": "0e42fcfd",
   "metadata": {},
   "outputs": [],
   "source": [
    "#importing MinMaxScaler technique from the Sklearn.preprocessing machine learning library\n",
    "from sklearn.preprocessing import MinMaxScaler\n",
    "\n",
    "#minimizing it into a smaller variable \n",
    "nms=MinMaxScaler()\n",
    "\n",
    "#importing LinearRegression technique from the sklearn.linear_model library\n",
    "from sklearn.linear_model import LinearRegression\n",
    "\n",
    "#minimizing it into a smaller vaariable\n",
    "lr=LinearRegression()\n",
    "\n",
    "#importing r2_score to vto evaluate the performance of a linear regression model from the sklearn.metrics library\n",
    "from sklearn.metrics import r2_score\n",
    "\n",
    "#importing train_test_split method  to estimate the performance of machine learning algorithms from the predictions\n",
    "from sklearn.model_selection import train_test_split"
   ]
  },
  {
   "cell_type": "code",
   "execution_count": 47,
   "id": "a53fe2b7",
   "metadata": {},
   "outputs": [],
   "source": [
    "#importing warnings \n",
    "import warnings\n",
    "warnings.filterwarnings('ignore')"
   ]
  },
  {
   "cell_type": "code",
   "execution_count": 49,
   "id": "208d4610",
   "metadata": {},
   "outputs": [
    {
     "name": "stdout",
     "output_type": "stream",
     "text": [
      "At random state 0,the training accuracy is:-0.9073274552252846\n",
      "At random state 0,the training accuracy is:-0.8564802143279249\n",
      "\n",
      "\n",
      "At random state 1,the training accuracy is:-0.8959391993971187\n",
      "At random state 1,the training accuracy is:-0.8928781912093181\n",
      "\n",
      "\n",
      "At random state 2,the training accuracy is:-0.9152614531156524\n",
      "At random state 2,the training accuracy is:-0.7570326409482369\n",
      "\n",
      "\n",
      "At random state 3,the training accuracy is:-0.8931443451313652\n",
      "At random state 3,the training accuracy is:-0.913444967458206\n",
      "\n",
      "\n",
      "At random state 4,the training accuracy is:-0.8911682084041699\n",
      "At random state 4,the training accuracy is:-0.9084934434517353\n",
      "\n",
      "\n",
      "At random state 5,the training accuracy is:-0.89570620107301\n",
      "At random state 5,the training accuracy is:-0.8985195836305802\n",
      "\n",
      "\n",
      "At random state 6,the training accuracy is:-0.8915582028345674\n",
      "At random state 6,the training accuracy is:-0.9219412229135812\n",
      "\n",
      "\n",
      "At random state 7,the training accuracy is:-0.8929171093102488\n",
      "At random state 7,the training accuracy is:-0.9094946118605033\n",
      "\n",
      "\n",
      "At random state 8,the training accuracy is:-0.9089671598668992\n",
      "At random state 8,the training accuracy is:-0.8454524606304806\n",
      "\n",
      "\n",
      "At random state 9,the training accuracy is:-0.8897879071515497\n",
      "At random state 9,the training accuracy is:-0.9254791165935141\n",
      "\n",
      "\n",
      "At random state 10,the training accuracy is:-0.9210064755430887\n",
      "At random state 10,the training accuracy is:-0.8350889287403332\n",
      "\n",
      "\n",
      "At random state 11,the training accuracy is:-0.9111623809104602\n",
      "At random state 11,the training accuracy is:-0.8449820092996335\n",
      "\n",
      "\n",
      "At random state 12,the training accuracy is:-0.891807549912906\n",
      "At random state 12,the training accuracy is:-0.9110007582766771\n",
      "\n",
      "\n",
      "At random state 13,the training accuracy is:-0.887016186914774\n",
      "At random state 13,the training accuracy is:-0.930587014890429\n",
      "\n",
      "\n",
      "At random state 14,the training accuracy is:-0.9086355983008996\n",
      "At random state 14,the training accuracy is:-0.8549475163509118\n",
      "\n",
      "\n",
      "At random state 15,the training accuracy is:-0.8938079254185115\n",
      "At random state 15,the training accuracy is:-0.905569241231097\n",
      "\n",
      "\n",
      "At random state 16,the training accuracy is:-0.8926643673594483\n",
      "At random state 16,the training accuracy is:-0.9179051167419227\n",
      "\n",
      "\n",
      "At random state 17,the training accuracy is:-0.9116703196823301\n",
      "At random state 17,the training accuracy is:-0.826014416384263\n",
      "\n",
      "\n",
      "At random state 18,the training accuracy is:-0.9058537276169787\n",
      "At random state 18,the training accuracy is:-0.8692586836034337\n",
      "\n",
      "\n",
      "At random state 19,the training accuracy is:-0.8936964884458825\n",
      "At random state 19,the training accuracy is:-0.9035293150713194\n",
      "\n",
      "\n",
      "At random state 20,the training accuracy is:-0.8940674217997686\n",
      "At random state 20,the training accuracy is:-0.9028631545455049\n",
      "\n",
      "\n",
      "At random state 21,the training accuracy is:-0.8890540600770627\n",
      "At random state 21,the training accuracy is:-0.9146569039385174\n",
      "\n",
      "\n",
      "At random state 22,the training accuracy is:-0.8899973381223143\n",
      "At random state 22,the training accuracy is:-0.9182082402965812\n",
      "\n",
      "\n",
      "At random state 23,the training accuracy is:-0.8921767001074105\n",
      "At random state 23,the training accuracy is:-0.9099324713476881\n",
      "\n",
      "\n",
      "At random state 24,the training accuracy is:-0.8948669853718487\n",
      "At random state 24,the training accuracy is:-0.9031175758867457\n",
      "\n",
      "\n",
      "At random state 25,the training accuracy is:-0.901084029469538\n",
      "At random state 25,the training accuracy is:-0.8720389628792302\n",
      "\n",
      "\n",
      "At random state 26,the training accuracy is:-0.9008142925470226\n",
      "At random state 26,the training accuracy is:-0.8660817826604933\n",
      "\n",
      "\n",
      "At random state 27,the training accuracy is:-0.8949084508267352\n",
      "At random state 27,the training accuracy is:-0.9055839757493602\n",
      "\n",
      "\n",
      "At random state 28,the training accuracy is:-0.8997566457323917\n",
      "At random state 28,the training accuracy is:-0.882889952375476\n",
      "\n",
      "\n",
      "At random state 29,the training accuracy is:-0.8897990754621425\n",
      "At random state 29,the training accuracy is:-0.9121642709962423\n",
      "\n",
      "\n",
      "At random state 30,the training accuracy is:-0.8935867104133169\n",
      "At random state 30,the training accuracy is:-0.9070725716744537\n",
      "\n",
      "\n",
      "At random state 31,the training accuracy is:-0.8861151331622692\n",
      "At random state 31,the training accuracy is:-0.9274231828872666\n",
      "\n",
      "\n",
      "At random state 32,the training accuracy is:-0.9172993061976911\n",
      "At random state 32,the training accuracy is:-0.7769624816211903\n",
      "\n",
      "\n",
      "At random state 33,the training accuracy is:-0.8962944220552961\n",
      "At random state 33,the training accuracy is:-0.8938166042095905\n",
      "\n",
      "\n",
      "At random state 34,the training accuracy is:-0.8970815554113069\n",
      "At random state 34,the training accuracy is:-0.8919648426080482\n",
      "\n",
      "\n",
      "At random state 35,the training accuracy is:-0.9149816013369177\n",
      "At random state 35,the training accuracy is:-0.7863735877300151\n",
      "\n",
      "\n",
      "At random state 36,the training accuracy is:-0.8887390025066806\n",
      "At random state 36,the training accuracy is:-0.9265569630488937\n",
      "\n",
      "\n",
      "At random state 37,the training accuracy is:-0.8998734924150504\n",
      "At random state 37,the training accuracy is:-0.883238146412001\n",
      "\n",
      "\n",
      "At random state 38,the training accuracy is:-0.8972914103912516\n",
      "At random state 38,the training accuracy is:-0.8908696135503189\n",
      "\n",
      "\n",
      "At random state 39,the training accuracy is:-0.9002556473795614\n",
      "At random state 39,the training accuracy is:-0.8690558832908659\n",
      "\n",
      "\n",
      "At random state 40,the training accuracy is:-0.9204058033654225\n",
      "At random state 40,the training accuracy is:-0.7965905680536844\n",
      "\n",
      "\n",
      "At random state 41,the training accuracy is:-0.9006927327079468\n",
      "At random state 41,the training accuracy is:-0.882047061468867\n",
      "\n",
      "\n",
      "At random state 42,the training accuracy is:-0.8957553000540606\n",
      "At random state 42,the training accuracy is:-0.8986489151417081\n",
      "\n",
      "\n",
      "At random state 43,the training accuracy is:-0.8886405668646471\n",
      "At random state 43,the training accuracy is:-0.9279997802005557\n",
      "\n",
      "\n",
      "At random state 44,the training accuracy is:-0.9065906284233083\n",
      "At random state 44,the training accuracy is:-0.8309225032852494\n",
      "\n",
      "\n",
      "At random state 45,the training accuracy is:-0.8963875424029035\n",
      "At random state 45,the training accuracy is:-0.8915316806090341\n",
      "\n",
      "\n",
      "At random state 46,the training accuracy is:-0.9036235036433335\n",
      "At random state 46,the training accuracy is:-0.8503383755246359\n",
      "\n",
      "\n",
      "At random state 47,the training accuracy is:-0.8988386546103042\n",
      "At random state 47,the training accuracy is:-0.8849834045904889\n",
      "\n",
      "\n",
      "At random state 48,the training accuracy is:-0.890542166403924\n",
      "At random state 48,the training accuracy is:-0.9189262097926163\n",
      "\n",
      "\n",
      "At random state 49,the training accuracy is:-0.913865852180709\n",
      "At random state 49,the training accuracy is:-0.8231216329494809\n",
      "\n",
      "\n",
      "At random state 50,the training accuracy is:-0.9013718398317787\n",
      "At random state 50,the training accuracy is:-0.8476464379397717\n",
      "\n",
      "\n",
      "At random state 51,the training accuracy is:-0.8936175989328148\n",
      "At random state 51,the training accuracy is:-0.9076546711720631\n",
      "\n",
      "\n",
      "At random state 52,the training accuracy is:-0.9018604295382086\n",
      "At random state 52,the training accuracy is:-0.8807089729330375\n",
      "\n",
      "\n",
      "At random state 53,the training accuracy is:-0.888857938922339\n",
      "At random state 53,the training accuracy is:-0.9251773581549693\n",
      "\n",
      "\n",
      "At random state 54,the training accuracy is:-0.8920887237166686\n",
      "At random state 54,the training accuracy is:-0.9172149618279113\n",
      "\n",
      "\n",
      "At random state 55,the training accuracy is:-0.894930160761274\n",
      "At random state 55,the training accuracy is:-0.8978864477773827\n",
      "\n",
      "\n",
      "At random state 56,the training accuracy is:-0.8989201587327643\n",
      "At random state 56,the training accuracy is:-0.8882246349534562\n",
      "\n",
      "\n",
      "At random state 57,the training accuracy is:-0.8825879766148067\n",
      "At random state 57,the training accuracy is:-0.9408099432427623\n",
      "\n",
      "\n",
      "At random state 58,the training accuracy is:-0.9127355018257423\n",
      "At random state 58,the training accuracy is:-0.8401442189987403\n",
      "\n",
      "\n",
      "At random state 59,the training accuracy is:-0.8893758445368163\n",
      "At random state 59,the training accuracy is:-0.9250247055288899\n",
      "\n",
      "\n",
      "At random state 60,the training accuracy is:-0.8929488169971975\n",
      "At random state 60,the training accuracy is:-0.9074416119003318\n",
      "\n",
      "\n",
      "At random state 61,the training accuracy is:-0.8995558396715964\n",
      "At random state 61,the training accuracy is:-0.8781016428825579\n",
      "\n",
      "\n",
      "At random state 62,the training accuracy is:-0.9120188082159291\n",
      "At random state 62,the training accuracy is:-0.8418326614272955\n",
      "\n",
      "\n",
      "At random state 63,the training accuracy is:-0.8951057681539462\n",
      "At random state 63,the training accuracy is:-0.9005058624602785\n",
      "\n",
      "\n",
      "At random state 64,the training accuracy is:-0.8977795664080803\n",
      "At random state 64,the training accuracy is:-0.8817995595827233\n",
      "\n",
      "\n",
      "At random state 65,the training accuracy is:-0.8969891176837769\n",
      "At random state 65,the training accuracy is:-0.8942556589953751\n",
      "\n",
      "\n",
      "At random state 66,the training accuracy is:-0.8992060099166295\n",
      "At random state 66,the training accuracy is:-0.8838295132236417\n",
      "\n",
      "\n",
      "At random state 67,the training accuracy is:-0.8995954079489461\n",
      "At random state 67,the training accuracy is:-0.8813062371563375\n",
      "\n",
      "\n",
      "At random state 68,the training accuracy is:-0.9004472797727481\n",
      "At random state 68,the training accuracy is:-0.866986256617689\n",
      "\n",
      "\n",
      "At random state 69,the training accuracy is:-0.8870476050134384\n",
      "At random state 69,the training accuracy is:-0.9233095015758521\n",
      "\n",
      "\n",
      "At random state 70,the training accuracy is:-0.8862589587247461\n",
      "At random state 70,the training accuracy is:-0.9261899619072468\n",
      "\n",
      "\n",
      "At random state 71,the training accuracy is:-0.9170792242159567\n",
      "At random state 71,the training accuracy is:-0.8214330315197063\n",
      "\n",
      "\n",
      "At random state 72,the training accuracy is:-0.8939630309765105\n",
      "At random state 72,the training accuracy is:-0.9063814288042916\n",
      "\n",
      "\n",
      "At random state 73,the training accuracy is:-0.9081745525874726\n",
      "At random state 73,the training accuracy is:-0.8382456514164831\n",
      "\n",
      "\n",
      "At random state 74,the training accuracy is:-0.8980451797105264\n",
      "At random state 74,the training accuracy is:-0.8802918295913444\n",
      "\n",
      "\n",
      "At random state 75,the training accuracy is:-0.8944097316106918\n",
      "At random state 75,the training accuracy is:-0.9074740863261651\n",
      "\n",
      "\n",
      "At random state 76,the training accuracy is:-0.9092071576699313\n",
      "At random state 76,the training accuracy is:-0.7531289748171519\n",
      "\n",
      "\n",
      "At random state 77,the training accuracy is:-0.8859821552154192\n",
      "At random state 77,the training accuracy is:-0.937956975915543\n",
      "\n",
      "\n",
      "At random state 78,the training accuracy is:-0.8957614044756782\n",
      "At random state 78,the training accuracy is:-0.9027962436962178\n",
      "\n",
      "\n",
      "At random state 79,the training accuracy is:-0.8918809749821501\n",
      "At random state 79,the training accuracy is:-0.9039590138288894\n",
      "\n",
      "\n",
      "At random state 80,the training accuracy is:-0.9169729628077916\n",
      "At random state 80,the training accuracy is:-0.8002879936768355\n",
      "\n",
      "\n",
      "At random state 81,the training accuracy is:-0.9035712487248864\n",
      "At random state 81,the training accuracy is:-0.8609698767855934\n",
      "\n",
      "\n",
      "At random state 82,the training accuracy is:-0.9154275126468338\n",
      "At random state 82,the training accuracy is:-0.8013214526563002\n",
      "\n",
      "\n",
      "At random state 83,the training accuracy is:-0.8842230653829803\n",
      "At random state 83,the training accuracy is:-0.936533183297641\n",
      "\n",
      "\n",
      "At random state 84,the training accuracy is:-0.8954723130793452\n",
      "At random state 84,the training accuracy is:-0.8982625547501826\n",
      "\n",
      "\n",
      "At random state 85,the training accuracy is:-0.9086556153894079\n",
      "At random state 85,the training accuracy is:-0.8439750044569613\n",
      "\n",
      "\n",
      "At random state 86,the training accuracy is:-0.8941933141983467\n",
      "At random state 86,the training accuracy is:-0.9101136416354886\n",
      "\n",
      "\n",
      "At random state 87,the training accuracy is:-0.9120854281966964\n",
      "At random state 87,the training accuracy is:-0.759031834404437\n",
      "\n",
      "\n",
      "At random state 88,the training accuracy is:-0.909607024863585\n",
      "At random state 88,the training accuracy is:-0.8387190488012206\n",
      "\n",
      "\n",
      "At random state 89,the training accuracy is:-0.9007733237783739\n",
      "At random state 89,the training accuracy is:-0.8715218402293794\n",
      "\n",
      "\n",
      "At random state 90,the training accuracy is:-0.9035155910972225\n",
      "At random state 90,the training accuracy is:-0.8470679956762824\n",
      "\n",
      "\n",
      "At random state 91,the training accuracy is:-0.8874503790642361\n",
      "At random state 91,the training accuracy is:-0.9040620243534964\n",
      "\n",
      "\n",
      "At random state 92,the training accuracy is:-0.879228484038034\n",
      "At random state 92,the training accuracy is:-0.9509833392692769\n",
      "\n",
      "\n",
      "At random state 93,the training accuracy is:-0.8934257355566151\n",
      "At random state 93,the training accuracy is:-0.9092789029786972\n",
      "\n",
      "\n",
      "At random state 94,the training accuracy is:-0.9084405371218475\n",
      "At random state 94,the training accuracy is:-0.8559756457570239\n",
      "\n",
      "\n",
      "At random state 95,the training accuracy is:-0.893566152267436\n",
      "At random state 95,the training accuracy is:-0.8951483094107862\n",
      "\n",
      "\n",
      "At random state 96,the training accuracy is:-0.9038616523881903\n",
      "At random state 96,the training accuracy is:-0.8580098720885361\n",
      "\n",
      "\n",
      "At random state 97,the training accuracy is:-0.8906962083562392\n",
      "At random state 97,the training accuracy is:-0.907763020464028\n",
      "\n",
      "\n",
      "At random state 98,the training accuracy is:-0.8820113423343214\n",
      "At random state 98,the training accuracy is:-0.9393724951506759\n",
      "\n",
      "\n",
      "At random state 99,the training accuracy is:-0.8906644266587815\n",
      "At random state 99,the training accuracy is:-0.9201416862699034\n",
      "\n",
      "\n"
     ]
    }
   ],
   "source": [
    "#taking the range value from 0 to 100\n",
    "for i in range(0,100):\n",
    "    features_train,features_test,target_train,target_test=train_test_split(features,target, test_size=0.2,random_state=i)\n",
    "    lr.fit(features_train,target_train) #Fitting Linear Regression Model and Predicting Results\n",
    "    pred_train=lr.predict(features_train)\n",
    "    pred_test=lr.predict(features_test)\n",
    "    print(f\"At random state {i},the training accuracy is:-{r2_score(target_train,pred_train)}\")\n",
    "    print(f\"At random state {i},the training accuracy is:-{r2_score(target_test,pred_test)}\")\n",
    "    print(\"\\n\")"
   ]
  },
  {
   "cell_type": "code",
   "execution_count": 50,
   "id": "239c3fc3",
   "metadata": {},
   "outputs": [
    {
     "name": "stdout",
     "output_type": "stream",
     "text": [
      "<function r2_score at 0x0000025F76DE1430> 135    11.6\n",
      "127     8.8\n",
      "191     9.9\n",
      "66      9.5\n",
      "119     6.6\n",
      "111    21.8\n",
      "81     12.3\n",
      "36     25.4\n",
      "126     6.6\n",
      "187    17.3\n",
      "85     15.2\n",
      "49      9.7\n",
      "155     3.2\n",
      "121     7.0\n",
      "50     11.4\n",
      "195     7.6\n",
      "24      9.7\n",
      "43     12.9\n",
      "9      10.6\n",
      "153    19.0\n",
      "44      8.5\n",
      "46     10.6\n",
      "103    14.7\n",
      "53     21.2\n",
      "159    12.9\n",
      "65      9.3\n",
      "179    12.6\n",
      "40     16.6\n",
      "92     19.4\n",
      "89     16.7\n",
      "144    11.4\n",
      "98     25.4\n",
      "14     19.0\n",
      "86     12.0\n",
      "145    10.3\n",
      "171    14.5\n",
      "63     14.0\n",
      "194    17.3\n",
      "174    11.5\n",
      "72      8.8\n",
      "Name: sales, dtype: float64 [13.93254688  6.55172487  8.33219956  8.98905068  6.80436822 21.06677559\n",
      " 14.62999967 23.33433064 10.59533442 16.97042523 15.21228577  8.20463349\n",
      "  5.2512094   7.86442703 12.63621428  5.30141429  8.16696741 13.954987\n",
      " 12.55635598 18.16728004  8.9406924   8.90514733 14.70736286 19.97029923\n",
      " 12.35409216  7.81908289 12.29709594 16.37311173 19.15936454 16.9330682\n",
      " 10.07156061 24.08422251 18.4617044  11.57137304  9.63536726 14.31859109\n",
      " 13.17606908 16.37208332 13.64200941 10.36149129]\n"
     ]
    }
   ],
   "source": [
    "#checking the r2_score\n",
    "pred_test=lr.predict(features_test)\n",
    "print(r2_score,target_test,pred_test)"
   ]
  },
  {
   "cell_type": "markdown",
   "id": "45d6d098",
   "metadata": {},
   "source": [
    "# Cross validation"
   ]
  },
  {
   "cell_type": "markdown",
   "id": "01062d3c",
   "metadata": {},
   "source": [
    "Cross validation is useful for estimating how well a model is able to predict future observations. For example, we may build a mulitple linear regression model that uses age and income as predictor variables and loan default status as the response variable."
   ]
  },
  {
   "cell_type": "code",
   "execution_count": 51,
   "id": "eebb39db",
   "metadata": {},
   "outputs": [
    {
     "name": "stdout",
     "output_type": "stream",
     "text": [
      "At cross fold 2 the cv_score is 0.8557808905096392 and accuracy score for training is 0.8906644266587815 and accuracy score for testing is 0.9201416862699034\n",
      "\n",
      "\n",
      "At cross fold 3 the cv_score is 0.8913539823868294 and accuracy score for training is 0.8906644266587815 and accuracy score for testing is 0.9201416862699034\n",
      "\n",
      "\n",
      "At cross fold 4 the cv_score is 0.8858779626590164 and accuracy score for training is 0.8906644266587815 and accuracy score for testing is 0.9201416862699034\n",
      "\n",
      "\n",
      "At cross fold 5 the cv_score is 0.8842777844741689 and accuracy score for training is 0.8906644266587815 and accuracy score for testing is 0.9201416862699034\n",
      "\n",
      "\n",
      "At cross fold 6 the cv_score is 0.8877823078964706 and accuracy score for training is 0.8906644266587815 and accuracy score for testing is 0.9201416862699034\n",
      "\n",
      "\n",
      "At cross fold 7 the cv_score is 0.8830284351379023 and accuracy score for training is 0.8906644266587815 and accuracy score for testing is 0.9201416862699034\n",
      "\n",
      "\n",
      "At cross fold 8 the cv_score is 0.879505934736525 and accuracy score for training is 0.8906644266587815 and accuracy score for testing is 0.9201416862699034\n",
      "\n",
      "\n",
      "At cross fold 9 the cv_score is 0.879704245100306 and accuracy score for training is 0.8906644266587815 and accuracy score for testing is 0.9201416862699034\n",
      "\n",
      "\n"
     ]
    }
   ],
   "source": [
    "Train_accuracy=r2_score(target_train,pred_train)\n",
    "Test_accuracy=r2_score(target_test,pred_test)\n",
    "\n",
    "from sklearn.model_selection import cross_val_score #importing cross_val_score technique from the sklearn model selection\n",
    "#taking the range from 2 to 10\n",
    "for j in range(2,10):\n",
    "    cv_score=cross_val_score(lr,features,target,cv=j)\n",
    "    cv_mean=cv_score.mean() #checking the mean value of the score\n",
    "    print(f\"At cross fold {j} the cv_score is {cv_mean} and accuracy score for training is {Train_accuracy} and accuracy score for testing is {Test_accuracy}\")\n",
    "    print(\"\\n\")"
   ]
  },
  {
   "cell_type": "markdown",
   "id": "e4ac96a3",
   "metadata": {},
   "source": [
    "# Plotting the multiple Linear Regression Model"
   ]
  },
  {
   "cell_type": "code",
   "execution_count": 52,
   "id": "54337eac",
   "metadata": {},
   "outputs": [
    {
     "data": {
      "image/png": "[encoded data removed]",
      "text/plain": [
       "<Figure size 504x360 with 1 Axes>"
      ]
     },
     "metadata": {
      "needs_background": "light"
     },
     "output_type": "display_data"
    }
   ],
   "source": [
    "plt.figure(figsize=(7,5)) #giving the figure size\n",
    "plt.scatter(x=target_test, y=pred_test, color='r') #giving the x & y varibales and marking the color red\n",
    "plt.plot(target_test, target_test, color='b')\n",
    "plt.xlabel('Total Sales generated',fontsize=14) #marking the x label with the fontsize\n",
    "plt.ylabel('Predicted Sales',fontsize=14) #marking the y label with fontsize\n",
    "plt.title('Linear Regression',fontsize=18) #giving a title to the plot\n",
    "plt.show()"
   ]
  },
  {
   "cell_type": "markdown",
   "id": "06038c64",
   "metadata": {},
   "source": [
    "# Regularization"
   ]
  },
  {
   "cell_type": "code",
   "execution_count": 53,
   "id": "2495d189",
   "metadata": {},
   "outputs": [],
   "source": [
    "#importing GridSearchCv to select from a set of parameter values\n",
    "from sklearn.model_selection import GridSearchCV "
   ]
  },
  {
   "cell_type": "code",
   "execution_count": 54,
   "id": "13ec912a",
   "metadata": {},
   "outputs": [],
   "source": [
    "#importing lasso technique to  shrink the regression coefficients, reducing some of them to zero. \n",
    "from sklearn.linear_model import Lasso "
   ]
  },
  {
   "cell_type": "code",
   "execution_count": 55,
   "id": "9f24c0c2",
   "metadata": {},
   "outputs": [
    {
     "name": "stdout",
     "output_type": "stream",
     "text": [
      "{'alpha': 1, 'random_state': 0}\n"
     ]
    }
   ],
   "source": [
    "parameters={'alpha':[.0001,.001,.01,.1,1,10],'random_state':list(range(0,10))} #assigning the parameters along with range\n",
    "ls = Lasso()\n",
    "clf=GridSearchCV(ls,parameters)\n",
    "clf.fit(features_train,target_train)\n",
    "\n",
    "print(clf.best_params_)"
   ]
  },
  {
   "cell_type": "code",
   "execution_count": 56,
   "id": "0ad9809c",
   "metadata": {},
   "outputs": [
    {
     "data": {
      "text/plain": [
       "0.9202956601818486"
      ]
     },
     "execution_count": 56,
     "metadata": {},
     "output_type": "execute_result"
    }
   ],
   "source": [
    "ls=Lasso(alpha=1,random_state=0)\n",
    "ls.fit(features_train,target_train)\n",
    "ls.score(features_train,target_train)\n",
    "pred_ls=ls.predict(features_test) #checking the predicted value\n",
    "\n",
    "lss=r2_score(target_test,pred_ls)\n",
    "lss"
   ]
  },
  {
   "cell_type": "code",
   "execution_count": 57,
   "id": "cebc4745",
   "metadata": {},
   "outputs": [
    {
     "data": {
      "text/plain": [
       "0.8858863329447579"
      ]
     },
     "execution_count": 57,
     "metadata": {},
     "output_type": "execute_result"
    }
   ],
   "source": [
    "cv_score=cross_val_score(ls,features,target,cv=5)\n",
    "cv_mean=cv_score.mean() #checking the mean value\n",
    "cv_mean"
   ]
  },
  {
   "cell_type": "markdown",
   "id": "419c08f3",
   "metadata": {},
   "source": [
    "# Ensemble Technique"
   ]
  },
  {
   "cell_type": "code",
   "execution_count": 58,
   "id": "5c072abb",
   "metadata": {},
   "outputs": [],
   "source": [
    "#importing RandomForestRegressor method to performi both classification and regression with the help of an ensembling.\n",
    "from sklearn.ensemble import RandomForestRegressor"
   ]
  },
  {
   "cell_type": "code",
   "execution_count": 59,
   "id": "910edb44",
   "metadata": {},
   "outputs": [],
   "source": [
    "#importing RandomForestRegressor method to performi both classification and regression with the help of an ensembling.\n",
    "from sklearn.ensemble import RandomForestRegressor"
   ]
  },
  {
   "cell_type": "code",
   "execution_count": 60,
   "id": "6bc4ad20",
   "metadata": {},
   "outputs": [
    {
     "name": "stdout",
     "output_type": "stream",
     "text": [
      "R2 Score: 97.95300829754116\n",
      "Cross val score: 97.23386968301966\n"
     ]
    }
   ],
   "source": [
    "rf=RandomForestRegressor(criterion=\"mse\",max_features=\"auto\")\n",
    "rf.fit(features_train,target_train)\n",
    "rf.score(features_train,target_train)\n",
    "pred_decision=rf.predict(features_test)\n",
    "\n",
    "rfs=r2_score(target_test,pred_decision) #checking the R2_score \n",
    "print('R2 Score:',rfs*100)\n",
    "\n",
    "\n",
    "rfscore=cross_val_score(rf,features,target,cv=5) #checking the cross validation score\n",
    "rfc=rfscore.mean() #checking the mean of the cross validation score\n",
    "print('Cross val score:',rfc*100)"
   ]
  },
  {
   "cell_type": "markdown",
   "id": "375fc6d7",
   "metadata": {},
   "source": [
    "# Conclusion"
   ]
  },
  {
   "cell_type": "code",
   "execution_count": 61,
   "id": "d58beb4e",
   "metadata": {},
   "outputs": [],
   "source": [
    "#Pickle is a standard Python library that handles serialization\n",
    "import pickle"
   ]
  },
  {
   "cell_type": "code",
   "execution_count": 62,
   "id": "3303e93d",
   "metadata": {},
   "outputs": [],
   "source": [
    "filename='sales.pkl' #giving a file name\n",
    "pickle.dump(rf,open(filename,'wb'))"
   ]
  },
  {
   "cell_type": "code",
   "execution_count": 63,
   "id": "6b8b0942",
   "metadata": {},
   "outputs": [
    {
     "name": "stdout",
     "output_type": "stream",
     "text": [
      "0.9795300829754116\n"
     ]
    }
   ],
   "source": [
    "loaded_model=pickle.load(open('sales.pkl','rb'))\n",
    "#loading the final model value\n",
    "result=loaded_model.score(features_test,target_test)\n",
    "#printing the final result\n",
    "print(result)"
   ]
  },
  {
   "cell_type": "code",
   "execution_count": 64,
   "id": "53e394e1",
   "metadata": {},
   "outputs": [
    {
     "data": {
      "text/html": [
       "<div>\n",
       "<style scoped>\n",
       "    .dataframe tbody tr th:only-of-type {\n",
       "        vertical-align: middle;\n",
       "    }\n",
       "\n",
       "    .dataframe tbody tr th {\n",
       "        vertical-align: top;\n",
       "    }\n",
       "\n",
       "    .dataframe thead th {\n",
       "        text-align: right;\n",
       "    }\n",
       "</style>\n",
       "<table border=\"1\" class=\"dataframe\">\n",
       "  <thead>\n",
       "    <tr style=\"text-align: right;\">\n",
       "      <th></th>\n",
       "      <th>0</th>\n",
       "      <th>1</th>\n",
       "      <th>2</th>\n",
       "      <th>3</th>\n",
       "      <th>4</th>\n",
       "      <th>5</th>\n",
       "      <th>6</th>\n",
       "      <th>7</th>\n",
       "      <th>8</th>\n",
       "      <th>9</th>\n",
       "      <th>...</th>\n",
       "      <th>30</th>\n",
       "      <th>31</th>\n",
       "      <th>32</th>\n",
       "      <th>33</th>\n",
       "      <th>34</th>\n",
       "      <th>35</th>\n",
       "      <th>36</th>\n",
       "      <th>37</th>\n",
       "      <th>38</th>\n",
       "      <th>39</th>\n",
       "    </tr>\n",
       "  </thead>\n",
       "  <tbody>\n",
       "    <tr>\n",
       "      <th>redicted Sales</th>\n",
       "      <td>11.493</td>\n",
       "      <td>9.115</td>\n",
       "      <td>10.205</td>\n",
       "      <td>8.181</td>\n",
       "      <td>7.174</td>\n",
       "      <td>22.777</td>\n",
       "      <td>12.194</td>\n",
       "      <td>24.238</td>\n",
       "      <td>6.204</td>\n",
       "      <td>18.381</td>\n",
       "      <td>...</td>\n",
       "      <td>11.461</td>\n",
       "      <td>24.243</td>\n",
       "      <td>18.352</td>\n",
       "      <td>12.073</td>\n",
       "      <td>10.579</td>\n",
       "      <td>14.712</td>\n",
       "      <td>13.016</td>\n",
       "      <td>16.771</td>\n",
       "      <td>11.835</td>\n",
       "      <td>8.617</td>\n",
       "    </tr>\n",
       "    <tr>\n",
       "      <th>Total Sales generated</th>\n",
       "      <td>11.493</td>\n",
       "      <td>9.115</td>\n",
       "      <td>10.205</td>\n",
       "      <td>8.181</td>\n",
       "      <td>7.174</td>\n",
       "      <td>22.777</td>\n",
       "      <td>12.194</td>\n",
       "      <td>24.238</td>\n",
       "      <td>6.204</td>\n",
       "      <td>18.381</td>\n",
       "      <td>...</td>\n",
       "      <td>11.461</td>\n",
       "      <td>24.243</td>\n",
       "      <td>18.352</td>\n",
       "      <td>12.073</td>\n",
       "      <td>10.579</td>\n",
       "      <td>14.712</td>\n",
       "      <td>13.016</td>\n",
       "      <td>16.771</td>\n",
       "      <td>11.835</td>\n",
       "      <td>8.617</td>\n",
       "    </tr>\n",
       "  </tbody>\n",
       "</table>\n",
       "<p>2 rows × 40 columns</p>\n",
       "</div>"
      ],
      "text/plain": [
       "                           0      1       2      3      4       5       6   \\\n",
       "redicted Sales         11.493  9.115  10.205  8.181  7.174  22.777  12.194   \n",
       "Total Sales generated  11.493  9.115  10.205  8.181  7.174  22.777  12.194   \n",
       "\n",
       "                           7      8       9   ...      30      31      32  \\\n",
       "redicted Sales         24.238  6.204  18.381  ...  11.461  24.243  18.352   \n",
       "Total Sales generated  24.238  6.204  18.381  ...  11.461  24.243  18.352   \n",
       "\n",
       "                           33      34      35      36      37      38     39  \n",
       "redicted Sales         12.073  10.579  14.712  13.016  16.771  11.835  8.617  \n",
       "Total Sales generated  12.073  10.579  14.712  13.016  16.771  11.835  8.617  \n",
       "\n",
       "[2 rows x 40 columns]"
      ]
     },
     "execution_count": 64,
     "metadata": {},
     "output_type": "execute_result"
    }
   ],
   "source": [
    "conclusion=pd.DataFrame([loaded_model.predict(features_test)[:],pred_decision[:]],index=[\"redicted Sales\",\"Total Sales generated\"])\n",
    "conclusion"
   ]
  },
  {
   "cell_type": "code",
   "execution_count": null,
   "id": "4e72c09e",
   "metadata": {},
   "outputs": [],
   "source": []
  }
 ],
 "metadata": {
  "kernelspec": {
   "display_name": "Python 3 (ipykernel)",
   "language": "python",
   "name": "python3"
  },
  "language_info": {
   "codemirror_mode": {
    "name": "ipython",
    "version": 3
   },
   "file_extension": ".py",
   "mimetype": "text/x-python",
   "name": "python",
   "nbconvert_exporter": "python",
   "pygments_lexer": "ipython3",
   "version": "3.9.7"
  }
 },
 "nbformat": 4,
 "nbformat_minor": 5
}
