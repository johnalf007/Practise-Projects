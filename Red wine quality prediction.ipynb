{
 "cells": [
  {
   "cell_type": "markdown",
   "id": "93fce051",
   "metadata": {},
   "source": [
    "# 3. Red Wine Quality Prediction"
   ]
  },
  {
   "cell_type": "markdown",
   "id": "c64fece2",
   "metadata": {},
   "source": [
    "# Importing dataset"
   ]
  },
  {
   "cell_type": "code",
   "execution_count": 10,
   "id": "624b1f01",
   "metadata": {},
   "outputs": [],
   "source": [
    "#importing the required libraries\n",
    "import pandas as pd\n",
    "import numpy as np"
   ]
  },
  {
   "cell_type": "code",
   "execution_count": 11,
   "id": "15255215",
   "metadata": {},
   "outputs": [
    {
     "data": {
      "text/html": [
       "<div>\n",
       "<style scoped>\n",
       "    .dataframe tbody tr th:only-of-type {\n",
       "        vertical-align: middle;\n",
       "    }\n",
       "\n",
       "    .dataframe tbody tr th {\n",
       "        vertical-align: top;\n",
       "    }\n",
       "\n",
       "    .dataframe thead th {\n",
       "        text-align: right;\n",
       "    }\n",
       "</style>\n",
       "<table border=\"1\" class=\"dataframe\">\n",
       "  <thead>\n",
       "    <tr style=\"text-align: right;\">\n",
       "      <th></th>\n",
       "      <th>fixed acidity</th>\n",
       "      <th>volatile acidity</th>\n",
       "      <th>citric acid</th>\n",
       "      <th>residual sugar</th>\n",
       "      <th>chlorides</th>\n",
       "      <th>free sulfur dioxide</th>\n",
       "      <th>total sulfur dioxide</th>\n",
       "      <th>density</th>\n",
       "      <th>pH</th>\n",
       "      <th>sulphates</th>\n",
       "      <th>alcohol</th>\n",
       "      <th>quality</th>\n",
       "    </tr>\n",
       "  </thead>\n",
       "  <tbody>\n",
       "    <tr>\n",
       "      <th>0</th>\n",
       "      <td>7.4</td>\n",
       "      <td>0.700</td>\n",
       "      <td>0.00</td>\n",
       "      <td>1.9</td>\n",
       "      <td>0.076</td>\n",
       "      <td>11.0</td>\n",
       "      <td>34.0</td>\n",
       "      <td>0.99780</td>\n",
       "      <td>3.51</td>\n",
       "      <td>0.56</td>\n",
       "      <td>9.4</td>\n",
       "      <td>5</td>\n",
       "    </tr>\n",
       "    <tr>\n",
       "      <th>1</th>\n",
       "      <td>7.8</td>\n",
       "      <td>0.880</td>\n",
       "      <td>0.00</td>\n",
       "      <td>2.6</td>\n",
       "      <td>0.098</td>\n",
       "      <td>25.0</td>\n",
       "      <td>67.0</td>\n",
       "      <td>0.99680</td>\n",
       "      <td>3.20</td>\n",
       "      <td>0.68</td>\n",
       "      <td>9.8</td>\n",
       "      <td>5</td>\n",
       "    </tr>\n",
       "    <tr>\n",
       "      <th>2</th>\n",
       "      <td>7.8</td>\n",
       "      <td>0.760</td>\n",
       "      <td>0.04</td>\n",
       "      <td>2.3</td>\n",
       "      <td>0.092</td>\n",
       "      <td>15.0</td>\n",
       "      <td>54.0</td>\n",
       "      <td>0.99700</td>\n",
       "      <td>3.26</td>\n",
       "      <td>0.65</td>\n",
       "      <td>9.8</td>\n",
       "      <td>5</td>\n",
       "    </tr>\n",
       "    <tr>\n",
       "      <th>3</th>\n",
       "      <td>11.2</td>\n",
       "      <td>0.280</td>\n",
       "      <td>0.56</td>\n",
       "      <td>1.9</td>\n",
       "      <td>0.075</td>\n",
       "      <td>17.0</td>\n",
       "      <td>60.0</td>\n",
       "      <td>0.99800</td>\n",
       "      <td>3.16</td>\n",
       "      <td>0.58</td>\n",
       "      <td>9.8</td>\n",
       "      <td>6</td>\n",
       "    </tr>\n",
       "    <tr>\n",
       "      <th>4</th>\n",
       "      <td>7.4</td>\n",
       "      <td>0.700</td>\n",
       "      <td>0.00</td>\n",
       "      <td>1.9</td>\n",
       "      <td>0.076</td>\n",
       "      <td>11.0</td>\n",
       "      <td>34.0</td>\n",
       "      <td>0.99780</td>\n",
       "      <td>3.51</td>\n",
       "      <td>0.56</td>\n",
       "      <td>9.4</td>\n",
       "      <td>5</td>\n",
       "    </tr>\n",
       "    <tr>\n",
       "      <th>...</th>\n",
       "      <td>...</td>\n",
       "      <td>...</td>\n",
       "      <td>...</td>\n",
       "      <td>...</td>\n",
       "      <td>...</td>\n",
       "      <td>...</td>\n",
       "      <td>...</td>\n",
       "      <td>...</td>\n",
       "      <td>...</td>\n",
       "      <td>...</td>\n",
       "      <td>...</td>\n",
       "      <td>...</td>\n",
       "    </tr>\n",
       "    <tr>\n",
       "      <th>1594</th>\n",
       "      <td>6.2</td>\n",
       "      <td>0.600</td>\n",
       "      <td>0.08</td>\n",
       "      <td>2.0</td>\n",
       "      <td>0.090</td>\n",
       "      <td>32.0</td>\n",
       "      <td>44.0</td>\n",
       "      <td>0.99490</td>\n",
       "      <td>3.45</td>\n",
       "      <td>0.58</td>\n",
       "      <td>10.5</td>\n",
       "      <td>5</td>\n",
       "    </tr>\n",
       "    <tr>\n",
       "      <th>1595</th>\n",
       "      <td>5.9</td>\n",
       "      <td>0.550</td>\n",
       "      <td>0.10</td>\n",
       "      <td>2.2</td>\n",
       "      <td>0.062</td>\n",
       "      <td>39.0</td>\n",
       "      <td>51.0</td>\n",
       "      <td>0.99512</td>\n",
       "      <td>3.52</td>\n",
       "      <td>0.76</td>\n",
       "      <td>11.2</td>\n",
       "      <td>6</td>\n",
       "    </tr>\n",
       "    <tr>\n",
       "      <th>1596</th>\n",
       "      <td>6.3</td>\n",
       "      <td>0.510</td>\n",
       "      <td>0.13</td>\n",
       "      <td>2.3</td>\n",
       "      <td>0.076</td>\n",
       "      <td>29.0</td>\n",
       "      <td>40.0</td>\n",
       "      <td>0.99574</td>\n",
       "      <td>3.42</td>\n",
       "      <td>0.75</td>\n",
       "      <td>11.0</td>\n",
       "      <td>6</td>\n",
       "    </tr>\n",
       "    <tr>\n",
       "      <th>1597</th>\n",
       "      <td>5.9</td>\n",
       "      <td>0.645</td>\n",
       "      <td>0.12</td>\n",
       "      <td>2.0</td>\n",
       "      <td>0.075</td>\n",
       "      <td>32.0</td>\n",
       "      <td>44.0</td>\n",
       "      <td>0.99547</td>\n",
       "      <td>3.57</td>\n",
       "      <td>0.71</td>\n",
       "      <td>10.2</td>\n",
       "      <td>5</td>\n",
       "    </tr>\n",
       "    <tr>\n",
       "      <th>1598</th>\n",
       "      <td>6.0</td>\n",
       "      <td>0.310</td>\n",
       "      <td>0.47</td>\n",
       "      <td>3.6</td>\n",
       "      <td>0.067</td>\n",
       "      <td>18.0</td>\n",
       "      <td>42.0</td>\n",
       "      <td>0.99549</td>\n",
       "      <td>3.39</td>\n",
       "      <td>0.66</td>\n",
       "      <td>11.0</td>\n",
       "      <td>6</td>\n",
       "    </tr>\n",
       "  </tbody>\n",
       "</table>\n",
       "<p>1599 rows × 12 columns</p>\n",
       "</div>"
      ],
      "text/plain": [
       "      fixed acidity  volatile acidity  citric acid  residual sugar  chlorides  \\\n",
       "0               7.4             0.700         0.00             1.9      0.076   \n",
       "1               7.8             0.880         0.00             2.6      0.098   \n",
       "2               7.8             0.760         0.04             2.3      0.092   \n",
       "3              11.2             0.280         0.56             1.9      0.075   \n",
       "4               7.4             0.700         0.00             1.9      0.076   \n",
       "...             ...               ...          ...             ...        ...   \n",
       "1594            6.2             0.600         0.08             2.0      0.090   \n",
       "1595            5.9             0.550         0.10             2.2      0.062   \n",
       "1596            6.3             0.510         0.13             2.3      0.076   \n",
       "1597            5.9             0.645         0.12             2.0      0.075   \n",
       "1598            6.0             0.310         0.47             3.6      0.067   \n",
       "\n",
       "      free sulfur dioxide  total sulfur dioxide  density    pH  sulphates  \\\n",
       "0                    11.0                  34.0  0.99780  3.51       0.56   \n",
       "1                    25.0                  67.0  0.99680  3.20       0.68   \n",
       "2                    15.0                  54.0  0.99700  3.26       0.65   \n",
       "3                    17.0                  60.0  0.99800  3.16       0.58   \n",
       "4                    11.0                  34.0  0.99780  3.51       0.56   \n",
       "...                   ...                   ...      ...   ...        ...   \n",
       "1594                 32.0                  44.0  0.99490  3.45       0.58   \n",
       "1595                 39.0                  51.0  0.99512  3.52       0.76   \n",
       "1596                 29.0                  40.0  0.99574  3.42       0.75   \n",
       "1597                 32.0                  44.0  0.99547  3.57       0.71   \n",
       "1598                 18.0                  42.0  0.99549  3.39       0.66   \n",
       "\n",
       "      alcohol  quality  \n",
       "0         9.4        5  \n",
       "1         9.8        5  \n",
       "2         9.8        5  \n",
       "3         9.8        6  \n",
       "4         9.4        5  \n",
       "...       ...      ...  \n",
       "1594     10.5        5  \n",
       "1595     11.2        6  \n",
       "1596     11.0        6  \n",
       "1597     10.2        5  \n",
       "1598     11.0        6  \n",
       "\n",
       "[1599 rows x 12 columns]"
      ]
     },
     "execution_count": 11,
     "metadata": {},
     "output_type": "execute_result"
    }
   ],
   "source": [
    "#loading the dataset from github\n",
    "df=pd.read_csv(\"https://raw.githubusercontent.com/dsrscientist/DSData/master/winequality-red.csv\")\n",
    "df"
   ]
  },
  {
   "cell_type": "code",
   "execution_count": 12,
   "id": "d29876a1",
   "metadata": {},
   "outputs": [
    {
     "data": {
      "text/html": [
       "<div>\n",
       "<style scoped>\n",
       "    .dataframe tbody tr th:only-of-type {\n",
       "        vertical-align: middle;\n",
       "    }\n",
       "\n",
       "    .dataframe tbody tr th {\n",
       "        vertical-align: top;\n",
       "    }\n",
       "\n",
       "    .dataframe thead th {\n",
       "        text-align: right;\n",
       "    }\n",
       "</style>\n",
       "<table border=\"1\" class=\"dataframe\">\n",
       "  <thead>\n",
       "    <tr style=\"text-align: right;\">\n",
       "      <th></th>\n",
       "      <th>fixed acidity</th>\n",
       "      <th>volatile acidity</th>\n",
       "      <th>citric acid</th>\n",
       "      <th>residual sugar</th>\n",
       "      <th>chlorides</th>\n",
       "      <th>free sulfur dioxide</th>\n",
       "      <th>total sulfur dioxide</th>\n",
       "      <th>density</th>\n",
       "      <th>pH</th>\n",
       "      <th>sulphates</th>\n",
       "      <th>alcohol</th>\n",
       "      <th>quality</th>\n",
       "    </tr>\n",
       "  </thead>\n",
       "  <tbody>\n",
       "    <tr>\n",
       "      <th>0</th>\n",
       "      <td>7.4</td>\n",
       "      <td>0.70</td>\n",
       "      <td>0.00</td>\n",
       "      <td>1.9</td>\n",
       "      <td>0.076</td>\n",
       "      <td>11.0</td>\n",
       "      <td>34.0</td>\n",
       "      <td>0.9978</td>\n",
       "      <td>3.51</td>\n",
       "      <td>0.56</td>\n",
       "      <td>9.4</td>\n",
       "      <td>5</td>\n",
       "    </tr>\n",
       "    <tr>\n",
       "      <th>1</th>\n",
       "      <td>7.8</td>\n",
       "      <td>0.88</td>\n",
       "      <td>0.00</td>\n",
       "      <td>2.6</td>\n",
       "      <td>0.098</td>\n",
       "      <td>25.0</td>\n",
       "      <td>67.0</td>\n",
       "      <td>0.9968</td>\n",
       "      <td>3.20</td>\n",
       "      <td>0.68</td>\n",
       "      <td>9.8</td>\n",
       "      <td>5</td>\n",
       "    </tr>\n",
       "    <tr>\n",
       "      <th>2</th>\n",
       "      <td>7.8</td>\n",
       "      <td>0.76</td>\n",
       "      <td>0.04</td>\n",
       "      <td>2.3</td>\n",
       "      <td>0.092</td>\n",
       "      <td>15.0</td>\n",
       "      <td>54.0</td>\n",
       "      <td>0.9970</td>\n",
       "      <td>3.26</td>\n",
       "      <td>0.65</td>\n",
       "      <td>9.8</td>\n",
       "      <td>5</td>\n",
       "    </tr>\n",
       "    <tr>\n",
       "      <th>3</th>\n",
       "      <td>11.2</td>\n",
       "      <td>0.28</td>\n",
       "      <td>0.56</td>\n",
       "      <td>1.9</td>\n",
       "      <td>0.075</td>\n",
       "      <td>17.0</td>\n",
       "      <td>60.0</td>\n",
       "      <td>0.9980</td>\n",
       "      <td>3.16</td>\n",
       "      <td>0.58</td>\n",
       "      <td>9.8</td>\n",
       "      <td>6</td>\n",
       "    </tr>\n",
       "    <tr>\n",
       "      <th>4</th>\n",
       "      <td>7.4</td>\n",
       "      <td>0.70</td>\n",
       "      <td>0.00</td>\n",
       "      <td>1.9</td>\n",
       "      <td>0.076</td>\n",
       "      <td>11.0</td>\n",
       "      <td>34.0</td>\n",
       "      <td>0.9978</td>\n",
       "      <td>3.51</td>\n",
       "      <td>0.56</td>\n",
       "      <td>9.4</td>\n",
       "      <td>5</td>\n",
       "    </tr>\n",
       "  </tbody>\n",
       "</table>\n",
       "</div>"
      ],
      "text/plain": [
       "   fixed acidity  volatile acidity  citric acid  residual sugar  chlorides  \\\n",
       "0            7.4              0.70         0.00             1.9      0.076   \n",
       "1            7.8              0.88         0.00             2.6      0.098   \n",
       "2            7.8              0.76         0.04             2.3      0.092   \n",
       "3           11.2              0.28         0.56             1.9      0.075   \n",
       "4            7.4              0.70         0.00             1.9      0.076   \n",
       "\n",
       "   free sulfur dioxide  total sulfur dioxide  density    pH  sulphates  \\\n",
       "0                 11.0                  34.0   0.9978  3.51       0.56   \n",
       "1                 25.0                  67.0   0.9968  3.20       0.68   \n",
       "2                 15.0                  54.0   0.9970  3.26       0.65   \n",
       "3                 17.0                  60.0   0.9980  3.16       0.58   \n",
       "4                 11.0                  34.0   0.9978  3.51       0.56   \n",
       "\n",
       "   alcohol  quality  \n",
       "0      9.4        5  \n",
       "1      9.8        5  \n",
       "2      9.8        5  \n",
       "3      9.8        6  \n",
       "4      9.4        5  "
      ]
     },
     "execution_count": 12,
     "metadata": {},
     "output_type": "execute_result"
    }
   ],
   "source": [
    "#sorting the dataset\n",
    "df.head()"
   ]
  },
  {
   "cell_type": "markdown",
   "id": "ca5360d0",
   "metadata": {},
   "source": [
    "# Checking the null values in the dataframe"
   ]
  },
  {
   "cell_type": "code",
   "execution_count": 13,
   "id": "897ac0e1",
   "metadata": {},
   "outputs": [
    {
     "data": {
      "text/plain": [
       "fixed acidity           0\n",
       "volatile acidity        0\n",
       "citric acid             0\n",
       "residual sugar          0\n",
       "chlorides               0\n",
       "free sulfur dioxide     0\n",
       "total sulfur dioxide    0\n",
       "density                 0\n",
       "pH                      0\n",
       "sulphates               0\n",
       "alcohol                 0\n",
       "quality                 0\n",
       "dtype: int64"
      ]
     },
     "execution_count": 13,
     "metadata": {},
     "output_type": "execute_result"
    }
   ],
   "source": [
    "#checking the dataset for nullvalues\n",
    "df.isnull().sum()"
   ]
  },
  {
   "cell_type": "code",
   "execution_count": 14,
   "id": "cf3cc183",
   "metadata": {},
   "outputs": [
    {
     "data": {
      "text/plain": [
       "Index(['fixed acidity', 'volatile acidity', 'citric acid', 'residual sugar',\n",
       "       'chlorides', 'free sulfur dioxide', 'total sulfur dioxide', 'density',\n",
       "       'pH', 'sulphates', 'alcohol', 'quality'],\n",
       "      dtype='object')"
      ]
     },
     "execution_count": 14,
     "metadata": {},
     "output_type": "execute_result"
    }
   ],
   "source": [
    "#checking the columns present in the dataset\n",
    "df.columns"
   ]
  },
  {
   "cell_type": "markdown",
   "id": "2becb068",
   "metadata": {},
   "source": [
    "There are no null values present"
   ]
  },
  {
   "cell_type": "markdown",
   "id": "80b7effa",
   "metadata": {},
   "source": [
    "# Describing the dataframe"
   ]
  },
  {
   "cell_type": "markdown",
   "id": "e0d83afa",
   "metadata": {},
   "source": [
    "This dataset contains the data of the contents present in the red wine and the values of each content. On the basis of the data we have to predict the quality of the red wine & to predict its goodness. The dataset contains the data like'fixed acidity', 'volatile acidity', 'citric acid', 'residual sugar','chlorides', 'free sulfur dioxide', 'total sulfur dioxide', 'density','pH', 'sulphates', 'alcohol', 'quality'.\n",
    "\n",
    "In the above dataset the target is to predict the quality of the red wine.\n",
    "\n",
    "The red wine industry shows a recent exponential growth as social drinking is on the rise. Nowadays, industry players are using product quality certifications to promote their products. This is a time-consuming process and requires the assessment given by human experts, which makes this process very expensive. Also, the price of red wine depends on a rather abstract concept of wine appreciation by wine tasters, opinion among whom may have a high degree of variability. Another vital factor in red wine certification and quality assessment is physicochemical tests, which are laboratory-based and consider factors like acidity, pH level, sugar, and other chemical properties. The red wine market would be of interest if the human quality of tasting can be related to wine’s chemical properties so that certification and quality assessment and assurance processes are more controlled. This project aims to determine which features are the best quality red wine indicators and generate insights into each of these factors to our model’s red wine quality.\n",
    "\n"
   ]
  },
  {
   "cell_type": "markdown",
   "id": "b25d512f",
   "metadata": {},
   "source": [
    "# Checking the datatypes of the columns"
   ]
  },
  {
   "cell_type": "code",
   "execution_count": 15,
   "id": "e47bdf23",
   "metadata": {},
   "outputs": [
    {
     "data": {
      "text/plain": [
       "fixed acidity           float64\n",
       "volatile acidity        float64\n",
       "citric acid             float64\n",
       "residual sugar          float64\n",
       "chlorides               float64\n",
       "free sulfur dioxide     float64\n",
       "total sulfur dioxide    float64\n",
       "density                 float64\n",
       "pH                      float64\n",
       "sulphates               float64\n",
       "alcohol                 float64\n",
       "quality                   int64\n",
       "dtype: object"
      ]
     },
     "execution_count": 15,
     "metadata": {},
     "output_type": "execute_result"
    }
   ],
   "source": [
    "#checking the type of dataset\n",
    "df.dtypes"
   ]
  },
  {
   "cell_type": "markdown",
   "id": "3bdb8ba1",
   "metadata": {},
   "source": [
    "# Making dataframe for nominal data"
   ]
  },
  {
   "cell_type": "code",
   "execution_count": 16,
   "id": "035435e4",
   "metadata": {},
   "outputs": [],
   "source": [
    "#Making the dataframe\n",
    "df_visualization_nominal=df[['fixed acidity', 'volatile acidity', 'citric acid', 'residual sugar',\n",
    "'chlorides', 'free sulfur dioxide', 'total sulfur dioxide', 'density',\n",
    "'pH', 'sulphates', 'alcohol', 'quality']].copy()"
   ]
  },
  {
   "cell_type": "code",
   "execution_count": 17,
   "id": "3045bf12",
   "metadata": {},
   "outputs": [
    {
     "data": {
      "text/plain": [
       "Index(['fixed acidity', 'volatile acidity', 'citric acid', 'residual sugar',\n",
       "       'chlorides', 'free sulfur dioxide', 'total sulfur dioxide', 'density',\n",
       "       'pH', 'sulphates', 'alcohol', 'quality'],\n",
       "      dtype='object')"
      ]
     },
     "execution_count": 17,
     "metadata": {},
     "output_type": "execute_result"
    }
   ],
   "source": [
    "#Using visualization\n",
    "df_visualization_nominal.columns"
   ]
  },
  {
   "cell_type": "markdown",
   "id": "ea4baf92",
   "metadata": {},
   "source": [
    "# Visualization of the data"
   ]
  },
  {
   "cell_type": "code",
   "execution_count": 18,
   "id": "c77755a7",
   "metadata": {},
   "outputs": [],
   "source": [
    "#importing seaborn library to plot the graph\n",
    "import seaborn as sns"
   ]
  },
  {
   "cell_type": "code",
   "execution_count": 19,
   "id": "9c69dc4e",
   "metadata": {},
   "outputs": [
    {
     "name": "stdout",
     "output_type": "stream",
     "text": [
      "7.2     67\n",
      "7.1     57\n",
      "7.8     53\n",
      "7.5     52\n",
      "7.0     50\n",
      "        ..\n",
      "13.5     1\n",
      "13.8     1\n",
      "13.4     1\n",
      "4.7      1\n",
      "5.5      1\n",
      "Name: fixed acidity, Length: 96, dtype: int64\n"
     ]
    },
    {
     "data": {
      "image/png": "[encoded data removed]",
      "text/plain": [
       "<Figure size 432x288 with 1 Axes>"
      ]
     },
     "metadata": {
      "needs_background": "light"
     },
     "output_type": "display_data"
    }
   ],
   "source": [
    "#Comparing the columns with target column\n",
    "ax = sns.countplot(x=\"fixed acidity\", data=df_visualization_nominal)\n",
    "print(df_visualization_nominal[\"fixed acidity\"].value_counts())"
   ]
  },
  {
   "cell_type": "code",
   "execution_count": 11,
   "id": "316e4e01",
   "metadata": {},
   "outputs": [
    {
     "name": "stdout",
     "output_type": "stream",
     "text": [
      "0.600    47\n",
      "0.500    46\n",
      "0.430    43\n",
      "0.590    39\n",
      "0.360    38\n",
      "         ..\n",
      "1.035     1\n",
      "0.565     1\n",
      "1.130     1\n",
      "1.115     1\n",
      "1.090     1\n",
      "Name: volatile acidity, Length: 143, dtype: int64\n"
     ]
    },
    {
     "data": {
      "image/png": "[encoded data removed]",
      "text/plain": [
       "<Figure size 432x288 with 1 Axes>"
      ]
     },
     "metadata": {
      "needs_background": "light"
     },
     "output_type": "display_data"
    }
   ],
   "source": [
    "bx = sns.countplot(x=\"volatile acidity\", data=df_visualization_nominal)\n",
    "print(df_visualization_nominal[\"volatile acidity\"].value_counts())"
   ]
  },
  {
   "cell_type": "code",
   "execution_count": 12,
   "id": "7c19e825",
   "metadata": {},
   "outputs": [
    {
     "name": "stdout",
     "output_type": "stream",
     "text": [
      "0.00    132\n",
      "0.49     68\n",
      "0.24     51\n",
      "0.02     50\n",
      "0.26     38\n",
      "       ... \n",
      "0.72      1\n",
      "0.62      1\n",
      "0.75      1\n",
      "1.00      1\n",
      "0.78      1\n",
      "Name: citric acid, Length: 80, dtype: int64\n"
     ]
    },
    {
     "data": {
      "image/png": "[encoded data removed]",
      "text/plain": [
       "<Figure size 432x288 with 1 Axes>"
      ]
     },
     "metadata": {
      "needs_background": "light"
     },
     "output_type": "display_data"
    }
   ],
   "source": [
    "bx = sns.countplot(x=\"citric acid\", data=df_visualization_nominal)\n",
    "print(df_visualization_nominal[\"citric acid\"].value_counts())"
   ]
  },
  {
   "cell_type": "code",
   "execution_count": 13,
   "id": "277dc517",
   "metadata": {},
   "outputs": [
    {
     "name": "stdout",
     "output_type": "stream",
     "text": [
      "2.00     156\n",
      "2.20     131\n",
      "1.80     129\n",
      "2.10     128\n",
      "1.90     117\n",
      "        ... \n",
      "4.25       1\n",
      "2.85       1\n",
      "3.45       1\n",
      "2.35       1\n",
      "13.90      1\n",
      "Name: residual sugar, Length: 91, dtype: int64\n"
     ]
    },
    {
     "data": {
      "image/png": "[encoded data removed]",
      "text/plain": [
       "<Figure size 432x288 with 1 Axes>"
      ]
     },
     "metadata": {
      "needs_background": "light"
     },
     "output_type": "display_data"
    }
   ],
   "source": [
    "bx = sns.countplot(x=\"residual sugar\", data=df_visualization_nominal)\n",
    "print(df_visualization_nominal[\"residual sugar\"].value_counts())"
   ]
  },
  {
   "cell_type": "code",
   "execution_count": 14,
   "id": "4f251dde",
   "metadata": {},
   "outputs": [
    {
     "name": "stdout",
     "output_type": "stream",
     "text": [
      "0.080    66\n",
      "0.074    55\n",
      "0.076    51\n",
      "0.078    51\n",
      "0.084    49\n",
      "         ..\n",
      "0.108     1\n",
      "0.148     1\n",
      "0.143     1\n",
      "0.222     1\n",
      "0.230     1\n",
      "Name: chlorides, Length: 153, dtype: int64\n"
     ]
    },
    {
     "data": {
      "image/png": "[encoded data removed]",
      "text/plain": [
       "<Figure size 432x288 with 1 Axes>"
      ]
     },
     "metadata": {
      "needs_background": "light"
     },
     "output_type": "display_data"
    }
   ],
   "source": [
    "bx = sns.countplot(x=\"chlorides\", data=df_visualization_nominal)\n",
    "print(df_visualization_nominal[\"chlorides\"].value_counts())"
   ]
  },
  {
   "cell_type": "code",
   "execution_count": 15,
   "id": "08cb424f",
   "metadata": {},
   "outputs": [
    {
     "name": "stdout",
     "output_type": "stream",
     "text": [
      "6.0     138\n",
      "5.0     104\n",
      "10.0     79\n",
      "15.0     78\n",
      "12.0     75\n",
      "7.0      71\n",
      "9.0      62\n",
      "16.0     61\n",
      "17.0     60\n",
      "11.0     59\n",
      "13.0     57\n",
      "8.0      56\n",
      "14.0     50\n",
      "3.0      49\n",
      "18.0     46\n",
      "4.0      41\n",
      "21.0     41\n",
      "19.0     39\n",
      "24.0     34\n",
      "26.0     32\n",
      "23.0     32\n",
      "20.0     30\n",
      "27.0     29\n",
      "25.0     24\n",
      "29.0     23\n",
      "28.0     23\n",
      "22.0     22\n",
      "32.0     22\n",
      "31.0     20\n",
      "34.0     18\n",
      "30.0     16\n",
      "35.0     15\n",
      "36.0     11\n",
      "33.0     11\n",
      "38.0      9\n",
      "41.0      7\n",
      "40.0      6\n",
      "39.0      5\n",
      "48.0      4\n",
      "51.0      4\n",
      "45.0      3\n",
      "1.0       3\n",
      "43.0      3\n",
      "42.0      3\n",
      "52.0      3\n",
      "37.0      3\n",
      "68.0      2\n",
      "55.0      2\n",
      "50.0      2\n",
      "37.5      2\n",
      "53.0      1\n",
      "72.0      1\n",
      "57.0      1\n",
      "47.0      1\n",
      "5.5       1\n",
      "2.0       1\n",
      "46.0      1\n",
      "54.0      1\n",
      "40.5      1\n",
      "66.0      1\n",
      "Name: free sulfur dioxide, dtype: int64\n"
     ]
    },
    {
     "data": {
      "image/png": "[encoded data removed]",
      "text/plain": [
       "<Figure size 432x288 with 1 Axes>"
      ]
     },
     "metadata": {
      "needs_background": "light"
     },
     "output_type": "display_data"
    }
   ],
   "source": [
    "bx = sns.countplot(x=\"free sulfur dioxide\", data=df_visualization_nominal)\n",
    "print(df_visualization_nominal[\"free sulfur dioxide\"].value_counts())"
   ]
  },
  {
   "cell_type": "code",
   "execution_count": 16,
   "id": "025f5dfc",
   "metadata": {},
   "outputs": [
    {
     "name": "stdout",
     "output_type": "stream",
     "text": [
      "28.0     43\n",
      "24.0     36\n",
      "15.0     35\n",
      "18.0     35\n",
      "23.0     34\n",
      "         ..\n",
      "139.0     1\n",
      "149.0     1\n",
      "152.0     1\n",
      "155.0     1\n",
      "165.0     1\n",
      "Name: total sulfur dioxide, Length: 144, dtype: int64\n"
     ]
    },
    {
     "data": {
      "image/png": "[encoded data removed]",
      "text/plain": [
       "<Figure size 432x288 with 1 Axes>"
      ]
     },
     "metadata": {
      "needs_background": "light"
     },
     "output_type": "display_data"
    }
   ],
   "source": [
    "bx = sns.countplot(x=\"total sulfur dioxide\", data=df_visualization_nominal)\n",
    "print(df_visualization_nominal[\"total sulfur dioxide\"].value_counts())"
   ]
  },
  {
   "cell_type": "code",
   "execution_count": 17,
   "id": "fe2dc6ab",
   "metadata": {},
   "outputs": [
    {
     "name": "stdout",
     "output_type": "stream",
     "text": [
      "0.080    66\n",
      "0.074    55\n",
      "0.076    51\n",
      "0.078    51\n",
      "0.084    49\n",
      "         ..\n",
      "0.108     1\n",
      "0.148     1\n",
      "0.143     1\n",
      "0.222     1\n",
      "0.230     1\n",
      "Name: chlorides, Length: 153, dtype: int64\n"
     ]
    },
    {
     "data": {
      "image/png": "[encoded data removed]",
      "text/plain": [
       "<Figure size 432x288 with 1 Axes>"
      ]
     },
     "metadata": {
      "needs_background": "light"
     },
     "output_type": "display_data"
    }
   ],
   "source": [
    "bx = sns.countplot(x=\"chlorides\", data=df_visualization_nominal)\n",
    "print(df_visualization_nominal[\"chlorides\"].value_counts())"
   ]
  },
  {
   "cell_type": "code",
   "execution_count": 19,
   "id": "ae3705c7",
   "metadata": {},
   "outputs": [
    {
     "name": "stdout",
     "output_type": "stream",
     "text": [
      "0.60    69\n",
      "0.58    68\n",
      "0.54    68\n",
      "0.62    61\n",
      "0.56    60\n",
      "        ..\n",
      "1.00     1\n",
      "1.59     1\n",
      "0.33     1\n",
      "1.26     1\n",
      "1.01     1\n",
      "Name: sulphates, Length: 96, dtype: int64\n"
     ]
    },
    {
     "data": {
      "image/png": "[encoded data removed]",
      "text/plain": [
       "<Figure size 432x288 with 1 Axes>"
      ]
     },
     "metadata": {
      "needs_background": "light"
     },
     "output_type": "display_data"
    }
   ],
   "source": [
    "bx = sns.countplot(x=\"sulphates\", data=df_visualization_nominal)\n",
    "print(df_visualization_nominal[\"sulphates\"].value_counts())"
   ]
  },
  {
   "cell_type": "code",
   "execution_count": 40,
   "id": "3f5ec157",
   "metadata": {},
   "outputs": [
    {
     "name": "stdout",
     "output_type": "stream",
     "text": [
      "9.500000     139\n",
      "9.400000     103\n",
      "9.800000      78\n",
      "9.200000      72\n",
      "10.000000     67\n",
      "            ... \n",
      "9.950000       1\n",
      "9.233333       1\n",
      "9.250000       1\n",
      "9.050000       1\n",
      "10.750000      1\n",
      "Name: alcohol, Length: 65, dtype: int64\n"
     ]
    },
    {
     "data": {
      "image/png": "[encoded data removed]",
      "text/plain": [
       "<Figure size 432x288 with 1 Axes>"
      ]
     },
     "metadata": {
      "needs_background": "light"
     },
     "output_type": "display_data"
    }
   ],
   "source": [
    "bx = sns.countplot(x=\"alcohol\", data=df_visualization_nominal)\n",
    "print(df_visualization_nominal[\"alcohol\"].value_counts())"
   ]
  },
  {
   "cell_type": "code",
   "execution_count": 41,
   "id": "647ee6f0",
   "metadata": {},
   "outputs": [
    {
     "name": "stdout",
     "output_type": "stream",
     "text": [
      "0.99720    36\n",
      "0.99680    35\n",
      "0.99760    35\n",
      "0.99800    29\n",
      "0.99620    28\n",
      "           ..\n",
      "0.99684     1\n",
      "0.99764     1\n",
      "0.99473     1\n",
      "0.99320     1\n",
      "0.99651     1\n",
      "Name: density, Length: 436, dtype: int64\n"
     ]
    },
    {
     "data": {
      "image/png": "[encoded data removed]",
      "text/plain": [
       "<Figure size 432x288 with 1 Axes>"
      ]
     },
     "metadata": {
      "needs_background": "light"
     },
     "output_type": "display_data"
    }
   ],
   "source": [
    "bx = sns.countplot(x=\"density\", data=df_visualization_nominal)\n",
    "print(df_visualization_nominal[\"density\"].value_counts())"
   ]
  },
  {
   "cell_type": "code",
   "execution_count": 21,
   "id": "8d670bfe",
   "metadata": {},
   "outputs": [
    {
     "name": "stdout",
     "output_type": "stream",
     "text": [
      "5    681\n",
      "6    638\n",
      "7    199\n",
      "4     53\n",
      "8     18\n",
      "3     10\n",
      "Name: quality, dtype: int64\n"
     ]
    },
    {
     "data": {
      "image/png": "[encoded data removed]",
      "text/plain": [
       "<Figure size 432x288 with 1 Axes>"
      ]
     },
     "metadata": {
      "needs_background": "light"
     },
     "output_type": "display_data"
    }
   ],
   "source": [
    "bx = sns.countplot(x=\"quality\", data=df_visualization_nominal)\n",
    "print(df_visualization_nominal[\"quality\"].value_counts())"
   ]
  },
  {
   "cell_type": "markdown",
   "id": "f75c9848",
   "metadata": {},
   "source": [
    "# Describing the data"
   ]
  },
  {
   "cell_type": "code",
   "execution_count": 22,
   "id": "cd4ba2b9",
   "metadata": {},
   "outputs": [
    {
     "data": {
      "text/html": [
       "<div>\n",
       "<style scoped>\n",
       "    .dataframe tbody tr th:only-of-type {\n",
       "        vertical-align: middle;\n",
       "    }\n",
       "\n",
       "    .dataframe tbody tr th {\n",
       "        vertical-align: top;\n",
       "    }\n",
       "\n",
       "    .dataframe thead th {\n",
       "        text-align: right;\n",
       "    }\n",
       "</style>\n",
       "<table border=\"1\" class=\"dataframe\">\n",
       "  <thead>\n",
       "    <tr style=\"text-align: right;\">\n",
       "      <th></th>\n",
       "      <th>fixed acidity</th>\n",
       "      <th>volatile acidity</th>\n",
       "      <th>citric acid</th>\n",
       "      <th>residual sugar</th>\n",
       "      <th>chlorides</th>\n",
       "      <th>free sulfur dioxide</th>\n",
       "      <th>total sulfur dioxide</th>\n",
       "      <th>density</th>\n",
       "      <th>pH</th>\n",
       "      <th>sulphates</th>\n",
       "      <th>alcohol</th>\n",
       "      <th>quality</th>\n",
       "    </tr>\n",
       "  </thead>\n",
       "  <tbody>\n",
       "    <tr>\n",
       "      <th>count</th>\n",
       "      <td>1599.000000</td>\n",
       "      <td>1599.000000</td>\n",
       "      <td>1599.000000</td>\n",
       "      <td>1599.000000</td>\n",
       "      <td>1599.000000</td>\n",
       "      <td>1599.000000</td>\n",
       "      <td>1599.000000</td>\n",
       "      <td>1599.000000</td>\n",
       "      <td>1599.000000</td>\n",
       "      <td>1599.000000</td>\n",
       "      <td>1599.000000</td>\n",
       "      <td>1599.000000</td>\n",
       "    </tr>\n",
       "    <tr>\n",
       "      <th>mean</th>\n",
       "      <td>8.319637</td>\n",
       "      <td>0.527821</td>\n",
       "      <td>0.270976</td>\n",
       "      <td>2.538806</td>\n",
       "      <td>0.087467</td>\n",
       "      <td>15.874922</td>\n",
       "      <td>46.467792</td>\n",
       "      <td>0.996747</td>\n",
       "      <td>3.311113</td>\n",
       "      <td>0.658149</td>\n",
       "      <td>10.422983</td>\n",
       "      <td>5.636023</td>\n",
       "    </tr>\n",
       "    <tr>\n",
       "      <th>std</th>\n",
       "      <td>1.741096</td>\n",
       "      <td>0.179060</td>\n",
       "      <td>0.194801</td>\n",
       "      <td>1.409928</td>\n",
       "      <td>0.047065</td>\n",
       "      <td>10.460157</td>\n",
       "      <td>32.895324</td>\n",
       "      <td>0.001887</td>\n",
       "      <td>0.154386</td>\n",
       "      <td>0.169507</td>\n",
       "      <td>1.065668</td>\n",
       "      <td>0.807569</td>\n",
       "    </tr>\n",
       "    <tr>\n",
       "      <th>min</th>\n",
       "      <td>4.600000</td>\n",
       "      <td>0.120000</td>\n",
       "      <td>0.000000</td>\n",
       "      <td>0.900000</td>\n",
       "      <td>0.012000</td>\n",
       "      <td>1.000000</td>\n",
       "      <td>6.000000</td>\n",
       "      <td>0.990070</td>\n",
       "      <td>2.740000</td>\n",
       "      <td>0.330000</td>\n",
       "      <td>8.400000</td>\n",
       "      <td>3.000000</td>\n",
       "    </tr>\n",
       "    <tr>\n",
       "      <th>25%</th>\n",
       "      <td>7.100000</td>\n",
       "      <td>0.390000</td>\n",
       "      <td>0.090000</td>\n",
       "      <td>1.900000</td>\n",
       "      <td>0.070000</td>\n",
       "      <td>7.000000</td>\n",
       "      <td>22.000000</td>\n",
       "      <td>0.995600</td>\n",
       "      <td>3.210000</td>\n",
       "      <td>0.550000</td>\n",
       "      <td>9.500000</td>\n",
       "      <td>5.000000</td>\n",
       "    </tr>\n",
       "    <tr>\n",
       "      <th>50%</th>\n",
       "      <td>7.900000</td>\n",
       "      <td>0.520000</td>\n",
       "      <td>0.260000</td>\n",
       "      <td>2.200000</td>\n",
       "      <td>0.079000</td>\n",
       "      <td>14.000000</td>\n",
       "      <td>38.000000</td>\n",
       "      <td>0.996750</td>\n",
       "      <td>3.310000</td>\n",
       "      <td>0.620000</td>\n",
       "      <td>10.200000</td>\n",
       "      <td>6.000000</td>\n",
       "    </tr>\n",
       "    <tr>\n",
       "      <th>75%</th>\n",
       "      <td>9.200000</td>\n",
       "      <td>0.640000</td>\n",
       "      <td>0.420000</td>\n",
       "      <td>2.600000</td>\n",
       "      <td>0.090000</td>\n",
       "      <td>21.000000</td>\n",
       "      <td>62.000000</td>\n",
       "      <td>0.997835</td>\n",
       "      <td>3.400000</td>\n",
       "      <td>0.730000</td>\n",
       "      <td>11.100000</td>\n",
       "      <td>6.000000</td>\n",
       "    </tr>\n",
       "    <tr>\n",
       "      <th>max</th>\n",
       "      <td>15.900000</td>\n",
       "      <td>1.580000</td>\n",
       "      <td>1.000000</td>\n",
       "      <td>15.500000</td>\n",
       "      <td>0.611000</td>\n",
       "      <td>72.000000</td>\n",
       "      <td>289.000000</td>\n",
       "      <td>1.003690</td>\n",
       "      <td>4.010000</td>\n",
       "      <td>2.000000</td>\n",
       "      <td>14.900000</td>\n",
       "      <td>8.000000</td>\n",
       "    </tr>\n",
       "  </tbody>\n",
       "</table>\n",
       "</div>"
      ],
      "text/plain": [
       "       fixed acidity  volatile acidity  citric acid  residual sugar  \\\n",
       "count    1599.000000       1599.000000  1599.000000     1599.000000   \n",
       "mean        8.319637          0.527821     0.270976        2.538806   \n",
       "std         1.741096          0.179060     0.194801        1.409928   \n",
       "min         4.600000          0.120000     0.000000        0.900000   \n",
       "25%         7.100000          0.390000     0.090000        1.900000   \n",
       "50%         7.900000          0.520000     0.260000        2.200000   \n",
       "75%         9.200000          0.640000     0.420000        2.600000   \n",
       "max        15.900000          1.580000     1.000000       15.500000   \n",
       "\n",
       "         chlorides  free sulfur dioxide  total sulfur dioxide      density  \\\n",
       "count  1599.000000          1599.000000           1599.000000  1599.000000   \n",
       "mean      0.087467            15.874922             46.467792     0.996747   \n",
       "std       0.047065            10.460157             32.895324     0.001887   \n",
       "min       0.012000             1.000000              6.000000     0.990070   \n",
       "25%       0.070000             7.000000             22.000000     0.995600   \n",
       "50%       0.079000            14.000000             38.000000     0.996750   \n",
       "75%       0.090000            21.000000             62.000000     0.997835   \n",
       "max       0.611000            72.000000            289.000000     1.003690   \n",
       "\n",
       "                pH    sulphates      alcohol      quality  \n",
       "count  1599.000000  1599.000000  1599.000000  1599.000000  \n",
       "mean      3.311113     0.658149    10.422983     5.636023  \n",
       "std       0.154386     0.169507     1.065668     0.807569  \n",
       "min       2.740000     0.330000     8.400000     3.000000  \n",
       "25%       3.210000     0.550000     9.500000     5.000000  \n",
       "50%       3.310000     0.620000    10.200000     6.000000  \n",
       "75%       3.400000     0.730000    11.100000     6.000000  \n",
       "max       4.010000     2.000000    14.900000     8.000000  "
      ]
     },
     "execution_count": 22,
     "metadata": {},
     "output_type": "execute_result"
    }
   ],
   "source": [
    "#using describe function\n",
    "df.describe()"
   ]
  },
  {
   "cell_type": "code",
   "execution_count": 62,
   "id": "c6ecfae7",
   "metadata": {},
   "outputs": [
    {
     "data": {
      "text/plain": [
       "<AxesSubplot:>"
      ]
     },
     "execution_count": 62,
     "metadata": {},
     "output_type": "execute_result"
    },
    {
     "data": {
      "image/png": "[encoded data removed]",
      "text/plain": [
       "<Figure size 1296x504 with 2 Axes>"
      ]
     },
     "metadata": {
      "needs_background": "light"
     },
     "output_type": "display_data"
    }
   ],
   "source": [
    "#importing matplot library and analysing the data with heatmap\n",
    "import matplotlib.pyplot as plt\n",
    "plt.figure(figsize=(18,7))\n",
    "sns.heatmap(df.describe(), linewidths=0.1, annot=True,linecolor=\"black\", fmt=\"0.3f\")"
   ]
  },
  {
   "cell_type": "markdown",
   "id": "0e785beb",
   "metadata": {},
   "source": [
    "# Correlation of dataset"
   ]
  },
  {
   "cell_type": "code",
   "execution_count": 24,
   "id": "86cf821c",
   "metadata": {},
   "outputs": [
    {
     "data": {
      "text/html": [
       "<div>\n",
       "<style scoped>\n",
       "    .dataframe tbody tr th:only-of-type {\n",
       "        vertical-align: middle;\n",
       "    }\n",
       "\n",
       "    .dataframe tbody tr th {\n",
       "        vertical-align: top;\n",
       "    }\n",
       "\n",
       "    .dataframe thead th {\n",
       "        text-align: right;\n",
       "    }\n",
       "</style>\n",
       "<table border=\"1\" class=\"dataframe\">\n",
       "  <thead>\n",
       "    <tr style=\"text-align: right;\">\n",
       "      <th></th>\n",
       "      <th>fixed acidity</th>\n",
       "      <th>volatile acidity</th>\n",
       "      <th>citric acid</th>\n",
       "      <th>residual sugar</th>\n",
       "      <th>chlorides</th>\n",
       "      <th>free sulfur dioxide</th>\n",
       "      <th>total sulfur dioxide</th>\n",
       "      <th>density</th>\n",
       "      <th>pH</th>\n",
       "      <th>sulphates</th>\n",
       "      <th>alcohol</th>\n",
       "      <th>quality</th>\n",
       "    </tr>\n",
       "  </thead>\n",
       "  <tbody>\n",
       "    <tr>\n",
       "      <th>fixed acidity</th>\n",
       "      <td>1.000000</td>\n",
       "      <td>-0.256131</td>\n",
       "      <td>0.671703</td>\n",
       "      <td>0.114777</td>\n",
       "      <td>0.093705</td>\n",
       "      <td>-0.153794</td>\n",
       "      <td>-0.113181</td>\n",
       "      <td>0.668047</td>\n",
       "      <td>-0.682978</td>\n",
       "      <td>0.183006</td>\n",
       "      <td>-0.061668</td>\n",
       "      <td>0.124052</td>\n",
       "    </tr>\n",
       "    <tr>\n",
       "      <th>volatile acidity</th>\n",
       "      <td>-0.256131</td>\n",
       "      <td>1.000000</td>\n",
       "      <td>-0.552496</td>\n",
       "      <td>0.001918</td>\n",
       "      <td>0.061298</td>\n",
       "      <td>-0.010504</td>\n",
       "      <td>0.076470</td>\n",
       "      <td>0.022026</td>\n",
       "      <td>0.234937</td>\n",
       "      <td>-0.260987</td>\n",
       "      <td>-0.202288</td>\n",
       "      <td>-0.390558</td>\n",
       "    </tr>\n",
       "    <tr>\n",
       "      <th>citric acid</th>\n",
       "      <td>0.671703</td>\n",
       "      <td>-0.552496</td>\n",
       "      <td>1.000000</td>\n",
       "      <td>0.143577</td>\n",
       "      <td>0.203823</td>\n",
       "      <td>-0.060978</td>\n",
       "      <td>0.035533</td>\n",
       "      <td>0.364947</td>\n",
       "      <td>-0.541904</td>\n",
       "      <td>0.312770</td>\n",
       "      <td>0.109903</td>\n",
       "      <td>0.226373</td>\n",
       "    </tr>\n",
       "    <tr>\n",
       "      <th>residual sugar</th>\n",
       "      <td>0.114777</td>\n",
       "      <td>0.001918</td>\n",
       "      <td>0.143577</td>\n",
       "      <td>1.000000</td>\n",
       "      <td>0.055610</td>\n",
       "      <td>0.187049</td>\n",
       "      <td>0.203028</td>\n",
       "      <td>0.355283</td>\n",
       "      <td>-0.085652</td>\n",
       "      <td>0.005527</td>\n",
       "      <td>0.042075</td>\n",
       "      <td>0.013732</td>\n",
       "    </tr>\n",
       "    <tr>\n",
       "      <th>chlorides</th>\n",
       "      <td>0.093705</td>\n",
       "      <td>0.061298</td>\n",
       "      <td>0.203823</td>\n",
       "      <td>0.055610</td>\n",
       "      <td>1.000000</td>\n",
       "      <td>0.005562</td>\n",
       "      <td>0.047400</td>\n",
       "      <td>0.200632</td>\n",
       "      <td>-0.265026</td>\n",
       "      <td>0.371260</td>\n",
       "      <td>-0.221141</td>\n",
       "      <td>-0.128907</td>\n",
       "    </tr>\n",
       "    <tr>\n",
       "      <th>free sulfur dioxide</th>\n",
       "      <td>-0.153794</td>\n",
       "      <td>-0.010504</td>\n",
       "      <td>-0.060978</td>\n",
       "      <td>0.187049</td>\n",
       "      <td>0.005562</td>\n",
       "      <td>1.000000</td>\n",
       "      <td>0.667666</td>\n",
       "      <td>-0.021946</td>\n",
       "      <td>0.070377</td>\n",
       "      <td>0.051658</td>\n",
       "      <td>-0.069408</td>\n",
       "      <td>-0.050656</td>\n",
       "    </tr>\n",
       "    <tr>\n",
       "      <th>total sulfur dioxide</th>\n",
       "      <td>-0.113181</td>\n",
       "      <td>0.076470</td>\n",
       "      <td>0.035533</td>\n",
       "      <td>0.203028</td>\n",
       "      <td>0.047400</td>\n",
       "      <td>0.667666</td>\n",
       "      <td>1.000000</td>\n",
       "      <td>0.071269</td>\n",
       "      <td>-0.066495</td>\n",
       "      <td>0.042947</td>\n",
       "      <td>-0.205654</td>\n",
       "      <td>-0.185100</td>\n",
       "    </tr>\n",
       "    <tr>\n",
       "      <th>density</th>\n",
       "      <td>0.668047</td>\n",
       "      <td>0.022026</td>\n",
       "      <td>0.364947</td>\n",
       "      <td>0.355283</td>\n",
       "      <td>0.200632</td>\n",
       "      <td>-0.021946</td>\n",
       "      <td>0.071269</td>\n",
       "      <td>1.000000</td>\n",
       "      <td>-0.341699</td>\n",
       "      <td>0.148506</td>\n",
       "      <td>-0.496180</td>\n",
       "      <td>-0.174919</td>\n",
       "    </tr>\n",
       "    <tr>\n",
       "      <th>pH</th>\n",
       "      <td>-0.682978</td>\n",
       "      <td>0.234937</td>\n",
       "      <td>-0.541904</td>\n",
       "      <td>-0.085652</td>\n",
       "      <td>-0.265026</td>\n",
       "      <td>0.070377</td>\n",
       "      <td>-0.066495</td>\n",
       "      <td>-0.341699</td>\n",
       "      <td>1.000000</td>\n",
       "      <td>-0.196648</td>\n",
       "      <td>0.205633</td>\n",
       "      <td>-0.057731</td>\n",
       "    </tr>\n",
       "    <tr>\n",
       "      <th>sulphates</th>\n",
       "      <td>0.183006</td>\n",
       "      <td>-0.260987</td>\n",
       "      <td>0.312770</td>\n",
       "      <td>0.005527</td>\n",
       "      <td>0.371260</td>\n",
       "      <td>0.051658</td>\n",
       "      <td>0.042947</td>\n",
       "      <td>0.148506</td>\n",
       "      <td>-0.196648</td>\n",
       "      <td>1.000000</td>\n",
       "      <td>0.093595</td>\n",
       "      <td>0.251397</td>\n",
       "    </tr>\n",
       "    <tr>\n",
       "      <th>alcohol</th>\n",
       "      <td>-0.061668</td>\n",
       "      <td>-0.202288</td>\n",
       "      <td>0.109903</td>\n",
       "      <td>0.042075</td>\n",
       "      <td>-0.221141</td>\n",
       "      <td>-0.069408</td>\n",
       "      <td>-0.205654</td>\n",
       "      <td>-0.496180</td>\n",
       "      <td>0.205633</td>\n",
       "      <td>0.093595</td>\n",
       "      <td>1.000000</td>\n",
       "      <td>0.476166</td>\n",
       "    </tr>\n",
       "    <tr>\n",
       "      <th>quality</th>\n",
       "      <td>0.124052</td>\n",
       "      <td>-0.390558</td>\n",
       "      <td>0.226373</td>\n",
       "      <td>0.013732</td>\n",
       "      <td>-0.128907</td>\n",
       "      <td>-0.050656</td>\n",
       "      <td>-0.185100</td>\n",
       "      <td>-0.174919</td>\n",
       "      <td>-0.057731</td>\n",
       "      <td>0.251397</td>\n",
       "      <td>0.476166</td>\n",
       "      <td>1.000000</td>\n",
       "    </tr>\n",
       "  </tbody>\n",
       "</table>\n",
       "</div>"
      ],
      "text/plain": [
       "                      fixed acidity  volatile acidity  citric acid  \\\n",
       "fixed acidity              1.000000         -0.256131     0.671703   \n",
       "volatile acidity          -0.256131          1.000000    -0.552496   \n",
       "citric acid                0.671703         -0.552496     1.000000   \n",
       "residual sugar             0.114777          0.001918     0.143577   \n",
       "chlorides                  0.093705          0.061298     0.203823   \n",
       "free sulfur dioxide       -0.153794         -0.010504    -0.060978   \n",
       "total sulfur dioxide      -0.113181          0.076470     0.035533   \n",
       "density                    0.668047          0.022026     0.364947   \n",
       "pH                        -0.682978          0.234937    -0.541904   \n",
       "sulphates                  0.183006         -0.260987     0.312770   \n",
       "alcohol                   -0.061668         -0.202288     0.109903   \n",
       "quality                    0.124052         -0.390558     0.226373   \n",
       "\n",
       "                      residual sugar  chlorides  free sulfur dioxide  \\\n",
       "fixed acidity               0.114777   0.093705            -0.153794   \n",
       "volatile acidity            0.001918   0.061298            -0.010504   \n",
       "citric acid                 0.143577   0.203823            -0.060978   \n",
       "residual sugar              1.000000   0.055610             0.187049   \n",
       "chlorides                   0.055610   1.000000             0.005562   \n",
       "free sulfur dioxide         0.187049   0.005562             1.000000   \n",
       "total sulfur dioxide        0.203028   0.047400             0.667666   \n",
       "density                     0.355283   0.200632            -0.021946   \n",
       "pH                         -0.085652  -0.265026             0.070377   \n",
       "sulphates                   0.005527   0.371260             0.051658   \n",
       "alcohol                     0.042075  -0.221141            -0.069408   \n",
       "quality                     0.013732  -0.128907            -0.050656   \n",
       "\n",
       "                      total sulfur dioxide   density        pH  sulphates  \\\n",
       "fixed acidity                    -0.113181  0.668047 -0.682978   0.183006   \n",
       "volatile acidity                  0.076470  0.022026  0.234937  -0.260987   \n",
       "citric acid                       0.035533  0.364947 -0.541904   0.312770   \n",
       "residual sugar                    0.203028  0.355283 -0.085652   0.005527   \n",
       "chlorides                         0.047400  0.200632 -0.265026   0.371260   \n",
       "free sulfur dioxide               0.667666 -0.021946  0.070377   0.051658   \n",
       "total sulfur dioxide              1.000000  0.071269 -0.066495   0.042947   \n",
       "density                           0.071269  1.000000 -0.341699   0.148506   \n",
       "pH                               -0.066495 -0.341699  1.000000  -0.196648   \n",
       "sulphates                         0.042947  0.148506 -0.196648   1.000000   \n",
       "alcohol                          -0.205654 -0.496180  0.205633   0.093595   \n",
       "quality                          -0.185100 -0.174919 -0.057731   0.251397   \n",
       "\n",
       "                       alcohol   quality  \n",
       "fixed acidity        -0.061668  0.124052  \n",
       "volatile acidity     -0.202288 -0.390558  \n",
       "citric acid           0.109903  0.226373  \n",
       "residual sugar        0.042075  0.013732  \n",
       "chlorides            -0.221141 -0.128907  \n",
       "free sulfur dioxide  -0.069408 -0.050656  \n",
       "total sulfur dioxide -0.205654 -0.185100  \n",
       "density              -0.496180 -0.174919  \n",
       "pH                    0.205633 -0.057731  \n",
       "sulphates             0.093595  0.251397  \n",
       "alcohol               1.000000  0.476166  \n",
       "quality               0.476166  1.000000  "
      ]
     },
     "execution_count": 24,
     "metadata": {},
     "output_type": "execute_result"
    }
   ],
   "source": [
    "#correlation of the dataset\n",
    "df.corr()"
   ]
  },
  {
   "cell_type": "code",
   "execution_count": 25,
   "id": "151c6803",
   "metadata": {},
   "outputs": [
    {
     "data": {
      "text/plain": [
       "<AxesSubplot:>"
      ]
     },
     "execution_count": 25,
     "metadata": {},
     "output_type": "execute_result"
    },
    {
     "data": {
      "image/png": "[encoded data removed]",
      "text/plain": [
       "<Figure size 1584x504 with 2 Axes>"
      ]
     },
     "metadata": {
      "needs_background": "light"
     },
     "output_type": "display_data"
    }
   ],
   "source": [
    "#Using heatmap\n",
    "plt.figure(figsize=(22,7))\n",
    "sns.heatmap(df.corr(), linewidths=0.1, annot=True,linecolor=\"black\", fmt=\"0.2f\")\n",
    "\n"
   ]
  },
  {
   "cell_type": "markdown",
   "id": "46947491",
   "metadata": {},
   "source": [
    "Checking which are positively and negatively correlated with the target column"
   ]
  },
  {
   "cell_type": "code",
   "execution_count": 26,
   "id": "a489eae0",
   "metadata": {},
   "outputs": [
    {
     "data": {
      "image/png": "[encoded data removed]",
      "text/plain": [
       "<Figure size 1584x504 with 1 Axes>"
      ]
     },
     "metadata": {
      "needs_background": "light"
     },
     "output_type": "display_data"
    }
   ],
   "source": [
    "plt.figure(figsize=(22,7))\n",
    "df.corr()['quality'].sort_values(ascending=False).drop(['quality']).plot(kind='bar',color='c')\n",
    "plt.xlabel('Feature',fontsize=14)\n",
    "plt.ylabel('column with target names',fontsize=14)\n",
    "plt.title('correlation',fontsize=18)\n",
    "plt.show()"
   ]
  },
  {
   "cell_type": "markdown",
   "id": "bbb4db2a",
   "metadata": {},
   "source": [
    "# Checking the skewness"
   ]
  },
  {
   "cell_type": "code",
   "execution_count": 27,
   "id": "1c0651c5",
   "metadata": {},
   "outputs": [
    {
     "data": {
      "text/plain": [
       "fixed acidity           0.982751\n",
       "volatile acidity        0.671593\n",
       "citric acid             0.318337\n",
       "residual sugar          4.540655\n",
       "chlorides               5.680347\n",
       "free sulfur dioxide     1.250567\n",
       "total sulfur dioxide    1.515531\n",
       "density                 0.071288\n",
       "pH                      0.193683\n",
       "sulphates               2.428672\n",
       "alcohol                 0.860829\n",
       "quality                 0.217802\n",
       "dtype: float64"
      ]
     },
     "execution_count": 27,
     "metadata": {},
     "output_type": "execute_result"
    }
   ],
   "source": [
    "#Checking the skewness in the dataset\n",
    "df.skew()"
   ]
  },
  {
   "cell_type": "markdown",
   "id": "12f77435",
   "metadata": {},
   "source": [
    "keeping the range of skewness as +/-0.5, here was the columns that does not lie within the range.\n",
    "\n",
    "fixed acidity, volatile acidity, residual sugar, chlorides, free sulfur dioxixide, total sulfur dioxide, sulphates & alcohol\n"
   ]
  },
  {
   "cell_type": "markdown",
   "id": "e49b51f9",
   "metadata": {},
   "source": [
    "# Checking for Outliers"
   ]
  },
  {
   "cell_type": "code",
   "execution_count": 28,
   "id": "40e0d4d6",
   "metadata": {},
   "outputs": [
    {
     "data": {
      "text/plain": [
       "fixed acidity           float64\n",
       "volatile acidity        float64\n",
       "citric acid             float64\n",
       "residual sugar          float64\n",
       "chlorides               float64\n",
       "free sulfur dioxide     float64\n",
       "total sulfur dioxide    float64\n",
       "density                 float64\n",
       "pH                      float64\n",
       "sulphates               float64\n",
       "alcohol                 float64\n",
       "quality                   int64\n",
       "dtype: object"
      ]
     },
     "execution_count": 28,
     "metadata": {},
     "output_type": "execute_result"
    }
   ],
   "source": [
    "#checking the datatype\n",
    "df.dtypes"
   ]
  },
  {
   "cell_type": "code",
   "execution_count": 29,
   "id": "6542b7a1",
   "metadata": {},
   "outputs": [
    {
     "data": {
      "text/plain": [
       "<AxesSubplot:>"
      ]
     },
     "execution_count": 29,
     "metadata": {},
     "output_type": "execute_result"
    },
    {
     "data": {
      "image/png": "[encoded data removed]",
      "text/plain": [
       "<Figure size 432x288 with 1 Axes>"
      ]
     },
     "metadata": {
      "needs_background": "light"
     },
     "output_type": "display_data"
    }
   ],
   "source": [
    "#using boxplot\n",
    "df['fixed acidity'].plot.box()"
   ]
  },
  {
   "cell_type": "code",
   "execution_count": 30,
   "id": "8a0b03d5",
   "metadata": {},
   "outputs": [
    {
     "data": {
      "text/plain": [
       "<AxesSubplot:>"
      ]
     },
     "execution_count": 30,
     "metadata": {},
     "output_type": "execute_result"
    },
    {
     "data": {
      "image/png": "[encoded data removed]",
      "text/plain": [
       "<Figure size 432x288 with 1 Axes>"
      ]
     },
     "metadata": {
      "needs_background": "light"
     },
     "output_type": "display_data"
    }
   ],
   "source": [
    "df['volatile acidity'].plot.box()"
   ]
  },
  {
   "cell_type": "code",
   "execution_count": 31,
   "id": "253835b6",
   "metadata": {},
   "outputs": [
    {
     "data": {
      "text/plain": [
       "<AxesSubplot:>"
      ]
     },
     "execution_count": 31,
     "metadata": {},
     "output_type": "execute_result"
    },
    {
     "data": {
      "image/png": "[encoded data removed]",
      "text/plain": [
       "<Figure size 432x288 with 1 Axes>"
      ]
     },
     "metadata": {
      "needs_background": "light"
     },
     "output_type": "display_data"
    }
   ],
   "source": [
    "df['citric acid'].plot.box()"
   ]
  },
  {
   "cell_type": "code",
   "execution_count": 32,
   "id": "45d5f238",
   "metadata": {},
   "outputs": [
    {
     "data": {
      "text/plain": [
       "<AxesSubplot:>"
      ]
     },
     "execution_count": 32,
     "metadata": {},
     "output_type": "execute_result"
    },
    {
     "data": {
      "image/png": "[encoded data removed]",
      "text/plain": [
       "<Figure size 432x288 with 1 Axes>"
      ]
     },
     "metadata": {
      "needs_background": "light"
     },
     "output_type": "display_data"
    }
   ],
   "source": [
    "df['residual sugar'].plot.box()"
   ]
  },
  {
   "cell_type": "code",
   "execution_count": 33,
   "id": "43c775bb",
   "metadata": {},
   "outputs": [
    {
     "data": {
      "text/plain": [
       "<AxesSubplot:>"
      ]
     },
     "execution_count": 33,
     "metadata": {},
     "output_type": "execute_result"
    },
    {
     "data": {
      "image/png": "[encoded data removed]",
      "text/plain": [
       "<Figure size 432x288 with 1 Axes>"
      ]
     },
     "metadata": {
      "needs_background": "light"
     },
     "output_type": "display_data"
    }
   ],
   "source": [
    "df['pH'].plot.box()"
   ]
  },
  {
   "cell_type": "code",
   "execution_count": 34,
   "id": "8662c548",
   "metadata": {},
   "outputs": [
    {
     "data": {
      "text/plain": [
       "<AxesSubplot:>"
      ]
     },
     "execution_count": 34,
     "metadata": {},
     "output_type": "execute_result"
    },
    {
     "data": {
      "image/png": "[encoded data removed]",
      "text/plain": [
       "<Figure size 432x288 with 1 Axes>"
      ]
     },
     "metadata": {
      "needs_background": "light"
     },
     "output_type": "display_data"
    }
   ],
   "source": [
    "df['density'].plot.box()"
   ]
  },
  {
   "cell_type": "code",
   "execution_count": 35,
   "id": "d79e3899",
   "metadata": {},
   "outputs": [
    {
     "data": {
      "text/plain": [
       "<AxesSubplot:>"
      ]
     },
     "execution_count": 35,
     "metadata": {},
     "output_type": "execute_result"
    },
    {
     "data": {
      "image/png": "[encoded data removed]",
      "text/plain": [
       "<Figure size 432x288 with 1 Axes>"
      ]
     },
     "metadata": {
      "needs_background": "light"
     },
     "output_type": "display_data"
    }
   ],
   "source": [
    "df['chlorides'].plot.box()"
   ]
  },
  {
   "cell_type": "code",
   "execution_count": 36,
   "id": "34d5ef35",
   "metadata": {},
   "outputs": [
    {
     "data": {
      "text/plain": [
       "<AxesSubplot:>"
      ]
     },
     "execution_count": 36,
     "metadata": {},
     "output_type": "execute_result"
    },
    {
     "data": {
      "image/png": "[encoded data removed]",
      "text/plain": [
       "<Figure size 432x288 with 1 Axes>"
      ]
     },
     "metadata": {
      "needs_background": "light"
     },
     "output_type": "display_data"
    }
   ],
   "source": [
    "df['free sulfur dioxide'].plot.box()"
   ]
  },
  {
   "cell_type": "code",
   "execution_count": 37,
   "id": "1a4599f5",
   "metadata": {},
   "outputs": [
    {
     "data": {
      "text/plain": [
       "<AxesSubplot:>"
      ]
     },
     "execution_count": 37,
     "metadata": {},
     "output_type": "execute_result"
    },
    {
     "data": {
      "image/png": "[encoded data removed]",
      "text/plain": [
       "<Figure size 432x288 with 1 Axes>"
      ]
     },
     "metadata": {
      "needs_background": "light"
     },
     "output_type": "display_data"
    }
   ],
   "source": [
    "df['total sulfur dioxide'].plot.box()"
   ]
  },
  {
   "cell_type": "code",
   "execution_count": 38,
   "id": "b1825b7c",
   "metadata": {},
   "outputs": [
    {
     "data": {
      "text/plain": [
       "<AxesSubplot:>"
      ]
     },
     "execution_count": 38,
     "metadata": {},
     "output_type": "execute_result"
    },
    {
     "data": {
      "image/png": "[encoded data removed]",
      "text/plain": [
       "<Figure size 432x288 with 1 Axes>"
      ]
     },
     "metadata": {
      "needs_background": "light"
     },
     "output_type": "display_data"
    }
   ],
   "source": [
    "df['sulphates'].plot.box()"
   ]
  },
  {
   "cell_type": "code",
   "execution_count": 39,
   "id": "afcab74f",
   "metadata": {},
   "outputs": [
    {
     "data": {
      "text/plain": [
       "<AxesSubplot:>"
      ]
     },
     "execution_count": 39,
     "metadata": {},
     "output_type": "execute_result"
    },
    {
     "data": {
      "image/png": "[encoded data removed]",
      "text/plain": [
       "<Figure size 432x288 with 1 Axes>"
      ]
     },
     "metadata": {
      "needs_background": "light"
     },
     "output_type": "display_data"
    }
   ],
   "source": [
    "df['alcohol'].plot.box()"
   ]
  },
  {
   "cell_type": "code",
   "execution_count": 42,
   "id": "33db7a84",
   "metadata": {},
   "outputs": [
    {
     "data": {
      "text/plain": [
       "<AxesSubplot:>"
      ]
     },
     "execution_count": 42,
     "metadata": {},
     "output_type": "execute_result"
    },
    {
     "data": {
      "image/png": "[encoded data removed]",
      "text/plain": [
       "<Figure size 432x288 with 1 Axes>"
      ]
     },
     "metadata": {
      "needs_background": "light"
     },
     "output_type": "display_data"
    }
   ],
   "source": [
    "df['quality'].plot.box()"
   ]
  },
  {
   "cell_type": "markdown",
   "id": "d6a6958b",
   "metadata": {},
   "source": [
    "# Considering the outlier removal"
   ]
  },
  {
   "cell_type": "code",
   "execution_count": 43,
   "id": "4d57c8d4",
   "metadata": {},
   "outputs": [
    {
     "data": {
      "text/plain": [
       "(1599, 12)"
      ]
     },
     "execution_count": 43,
     "metadata": {},
     "output_type": "execute_result"
    }
   ],
   "source": [
    "#checking the shape\n",
    "df.shape"
   ]
  },
  {
   "cell_type": "code",
   "execution_count": 44,
   "id": "8d232691",
   "metadata": {},
   "outputs": [
    {
     "data": {
      "text/plain": [
       "(array([  13,   14,   15,   15,   17,   17,   19,   33,   38,   42,   43,\n",
       "          45,   57,   81,   81,   83,   86,   88,   91,   92,   95,  106,\n",
       "         106,  109,  120,  126,  127,  142,  144,  147,  151,  151,  151,\n",
       "         151,  163,  164,  169,  169,  181,  199,  226,  226,  240,  243,\n",
       "         244,  258,  258,  274,  281,  291,  324,  325,  339,  340,  347,\n",
       "         354,  374,  381,  391,  396,  396,  400,  400,  442,  442,  451,\n",
       "         459,  467,  480,  480,  494,  515,  517,  544,  554,  554,  555,\n",
       "         555,  557,  557,  568,  584,  588,  591,  595,  608,  614,  636,\n",
       "         639,  649,  649,  651,  652,  652,  652,  672,  672,  684,  690,\n",
       "         690,  692,  692,  695,  723,  724,  730,  754,  776,  777,  795,\n",
       "         821,  832,  836,  837,  889,  899,  911,  917,  923,  925,  926,\n",
       "         982, 1017, 1018, 1043, 1051, 1051, 1071, 1074, 1079, 1079, 1081,\n",
       "        1081, 1111, 1114, 1131, 1154, 1165, 1175, 1186, 1231, 1235, 1244,\n",
       "        1244, 1244, 1260, 1269, 1269, 1270, 1270, 1288, 1289, 1295, 1296,\n",
       "        1299, 1299, 1300, 1312, 1316, 1319, 1319, 1321, 1358, 1367, 1370,\n",
       "        1370, 1372, 1372, 1374, 1374, 1434, 1434, 1434, 1435, 1435, 1435,\n",
       "        1469, 1474, 1474, 1474, 1476, 1476, 1476, 1478, 1493, 1496, 1505,\n",
       "        1558, 1558, 1570, 1574, 1589], dtype=int64),\n",
       " array([ 9,  5,  5,  6,  4,  9,  4,  3,  1,  4,  9,  8,  5,  4,  9,  4,  9,\n",
       "         9,  9,  9,  8,  4,  9,  6,  1,  1,  1, 10, 10,  4,  2,  4,  8,  9,\n",
       "         3,  3,  4,  9,  4,  1,  4,  9,  4,  0,  0,  4,  9,  3,  4,  4,  3,\n",
       "         3,  9,  9,  0,  6,  0,  0,  0,  3,  5,  3,  5,  0,  7,  4, 11, 10,\n",
       "         3,  7,  3,  6, 11,  0,  0,  7,  0,  7,  0,  7,  4,  5, 10,  6,  3,\n",
       "         7,  9,  6,  9,  3,  6,  6,  0,  3, 10,  1,  6,  6,  1, 11,  4,  9,\n",
       "         8,  9,  1,  4,  4,  4,  4,  9, 10, 11,  7,  7,  7, 11,  3,  3,  3,\n",
       "         5,  5,  5,  7,  7,  3,  4,  9,  3,  3,  3,  6,  3,  6,  8,  7,  5,\n",
       "         5,  4,  5,  3,  5,  3,  3,  5,  6,  4,  7, 10,  7, 10,  9,  9,  5,\n",
       "         5,  1, 11,  8,  1,  8,  4,  9,  8,  5,  9,  4,  9,  4,  9,  4, 11,\n",
       "         3,  5,  7,  3,  5,  7, 11,  3,  5,  7,  3,  5,  7, 11,  6,  6, 11,\n",
       "         4,  5,  4,  3,  3], dtype=int64))"
      ]
     },
     "execution_count": 44,
     "metadata": {},
     "output_type": "execute_result"
    }
   ],
   "source": [
    "#importing required libraries to calculate zscore\n",
    "from scipy.stats import zscore\n",
    "import numpy as np\n",
    "z=np.abs(zscore(df))\n",
    "threshold=3\n",
    "np.where(z>3)"
   ]
  },
  {
   "cell_type": "code",
   "execution_count": 45,
   "id": "2277623c",
   "metadata": {},
   "outputs": [
    {
     "data": {
      "text/html": [
       "<div>\n",
       "<style scoped>\n",
       "    .dataframe tbody tr th:only-of-type {\n",
       "        vertical-align: middle;\n",
       "    }\n",
       "\n",
       "    .dataframe tbody tr th {\n",
       "        vertical-align: top;\n",
       "    }\n",
       "\n",
       "    .dataframe thead th {\n",
       "        text-align: right;\n",
       "    }\n",
       "</style>\n",
       "<table border=\"1\" class=\"dataframe\">\n",
       "  <thead>\n",
       "    <tr style=\"text-align: right;\">\n",
       "      <th></th>\n",
       "      <th>fixed acidity</th>\n",
       "      <th>volatile acidity</th>\n",
       "      <th>citric acid</th>\n",
       "      <th>residual sugar</th>\n",
       "      <th>chlorides</th>\n",
       "      <th>free sulfur dioxide</th>\n",
       "      <th>total sulfur dioxide</th>\n",
       "      <th>density</th>\n",
       "      <th>pH</th>\n",
       "      <th>sulphates</th>\n",
       "      <th>alcohol</th>\n",
       "      <th>quality</th>\n",
       "    </tr>\n",
       "  </thead>\n",
       "  <tbody>\n",
       "    <tr>\n",
       "      <th>0</th>\n",
       "      <td>7.4</td>\n",
       "      <td>0.700</td>\n",
       "      <td>0.00</td>\n",
       "      <td>1.9</td>\n",
       "      <td>0.076</td>\n",
       "      <td>11.0</td>\n",
       "      <td>34.0</td>\n",
       "      <td>0.99780</td>\n",
       "      <td>3.51</td>\n",
       "      <td>0.56</td>\n",
       "      <td>9.4</td>\n",
       "      <td>5</td>\n",
       "    </tr>\n",
       "    <tr>\n",
       "      <th>1</th>\n",
       "      <td>7.8</td>\n",
       "      <td>0.880</td>\n",
       "      <td>0.00</td>\n",
       "      <td>2.6</td>\n",
       "      <td>0.098</td>\n",
       "      <td>25.0</td>\n",
       "      <td>67.0</td>\n",
       "      <td>0.99680</td>\n",
       "      <td>3.20</td>\n",
       "      <td>0.68</td>\n",
       "      <td>9.8</td>\n",
       "      <td>5</td>\n",
       "    </tr>\n",
       "    <tr>\n",
       "      <th>2</th>\n",
       "      <td>7.8</td>\n",
       "      <td>0.760</td>\n",
       "      <td>0.04</td>\n",
       "      <td>2.3</td>\n",
       "      <td>0.092</td>\n",
       "      <td>15.0</td>\n",
       "      <td>54.0</td>\n",
       "      <td>0.99700</td>\n",
       "      <td>3.26</td>\n",
       "      <td>0.65</td>\n",
       "      <td>9.8</td>\n",
       "      <td>5</td>\n",
       "    </tr>\n",
       "    <tr>\n",
       "      <th>3</th>\n",
       "      <td>11.2</td>\n",
       "      <td>0.280</td>\n",
       "      <td>0.56</td>\n",
       "      <td>1.9</td>\n",
       "      <td>0.075</td>\n",
       "      <td>17.0</td>\n",
       "      <td>60.0</td>\n",
       "      <td>0.99800</td>\n",
       "      <td>3.16</td>\n",
       "      <td>0.58</td>\n",
       "      <td>9.8</td>\n",
       "      <td>6</td>\n",
       "    </tr>\n",
       "    <tr>\n",
       "      <th>4</th>\n",
       "      <td>7.4</td>\n",
       "      <td>0.700</td>\n",
       "      <td>0.00</td>\n",
       "      <td>1.9</td>\n",
       "      <td>0.076</td>\n",
       "      <td>11.0</td>\n",
       "      <td>34.0</td>\n",
       "      <td>0.99780</td>\n",
       "      <td>3.51</td>\n",
       "      <td>0.56</td>\n",
       "      <td>9.4</td>\n",
       "      <td>5</td>\n",
       "    </tr>\n",
       "    <tr>\n",
       "      <th>...</th>\n",
       "      <td>...</td>\n",
       "      <td>...</td>\n",
       "      <td>...</td>\n",
       "      <td>...</td>\n",
       "      <td>...</td>\n",
       "      <td>...</td>\n",
       "      <td>...</td>\n",
       "      <td>...</td>\n",
       "      <td>...</td>\n",
       "      <td>...</td>\n",
       "      <td>...</td>\n",
       "      <td>...</td>\n",
       "    </tr>\n",
       "    <tr>\n",
       "      <th>1594</th>\n",
       "      <td>6.2</td>\n",
       "      <td>0.600</td>\n",
       "      <td>0.08</td>\n",
       "      <td>2.0</td>\n",
       "      <td>0.090</td>\n",
       "      <td>32.0</td>\n",
       "      <td>44.0</td>\n",
       "      <td>0.99490</td>\n",
       "      <td>3.45</td>\n",
       "      <td>0.58</td>\n",
       "      <td>10.5</td>\n",
       "      <td>5</td>\n",
       "    </tr>\n",
       "    <tr>\n",
       "      <th>1595</th>\n",
       "      <td>5.9</td>\n",
       "      <td>0.550</td>\n",
       "      <td>0.10</td>\n",
       "      <td>2.2</td>\n",
       "      <td>0.062</td>\n",
       "      <td>39.0</td>\n",
       "      <td>51.0</td>\n",
       "      <td>0.99512</td>\n",
       "      <td>3.52</td>\n",
       "      <td>0.76</td>\n",
       "      <td>11.2</td>\n",
       "      <td>6</td>\n",
       "    </tr>\n",
       "    <tr>\n",
       "      <th>1596</th>\n",
       "      <td>6.3</td>\n",
       "      <td>0.510</td>\n",
       "      <td>0.13</td>\n",
       "      <td>2.3</td>\n",
       "      <td>0.076</td>\n",
       "      <td>29.0</td>\n",
       "      <td>40.0</td>\n",
       "      <td>0.99574</td>\n",
       "      <td>3.42</td>\n",
       "      <td>0.75</td>\n",
       "      <td>11.0</td>\n",
       "      <td>6</td>\n",
       "    </tr>\n",
       "    <tr>\n",
       "      <th>1597</th>\n",
       "      <td>5.9</td>\n",
       "      <td>0.645</td>\n",
       "      <td>0.12</td>\n",
       "      <td>2.0</td>\n",
       "      <td>0.075</td>\n",
       "      <td>32.0</td>\n",
       "      <td>44.0</td>\n",
       "      <td>0.99547</td>\n",
       "      <td>3.57</td>\n",
       "      <td>0.71</td>\n",
       "      <td>10.2</td>\n",
       "      <td>5</td>\n",
       "    </tr>\n",
       "    <tr>\n",
       "      <th>1598</th>\n",
       "      <td>6.0</td>\n",
       "      <td>0.310</td>\n",
       "      <td>0.47</td>\n",
       "      <td>3.6</td>\n",
       "      <td>0.067</td>\n",
       "      <td>18.0</td>\n",
       "      <td>42.0</td>\n",
       "      <td>0.99549</td>\n",
       "      <td>3.39</td>\n",
       "      <td>0.66</td>\n",
       "      <td>11.0</td>\n",
       "      <td>6</td>\n",
       "    </tr>\n",
       "  </tbody>\n",
       "</table>\n",
       "<p>1451 rows × 12 columns</p>\n",
       "</div>"
      ],
      "text/plain": [
       "      fixed acidity  volatile acidity  citric acid  residual sugar  chlorides  \\\n",
       "0               7.4             0.700         0.00             1.9      0.076   \n",
       "1               7.8             0.880         0.00             2.6      0.098   \n",
       "2               7.8             0.760         0.04             2.3      0.092   \n",
       "3              11.2             0.280         0.56             1.9      0.075   \n",
       "4               7.4             0.700         0.00             1.9      0.076   \n",
       "...             ...               ...          ...             ...        ...   \n",
       "1594            6.2             0.600         0.08             2.0      0.090   \n",
       "1595            5.9             0.550         0.10             2.2      0.062   \n",
       "1596            6.3             0.510         0.13             2.3      0.076   \n",
       "1597            5.9             0.645         0.12             2.0      0.075   \n",
       "1598            6.0             0.310         0.47             3.6      0.067   \n",
       "\n",
       "      free sulfur dioxide  total sulfur dioxide  density    pH  sulphates  \\\n",
       "0                    11.0                  34.0  0.99780  3.51       0.56   \n",
       "1                    25.0                  67.0  0.99680  3.20       0.68   \n",
       "2                    15.0                  54.0  0.99700  3.26       0.65   \n",
       "3                    17.0                  60.0  0.99800  3.16       0.58   \n",
       "4                    11.0                  34.0  0.99780  3.51       0.56   \n",
       "...                   ...                   ...      ...   ...        ...   \n",
       "1594                 32.0                  44.0  0.99490  3.45       0.58   \n",
       "1595                 39.0                  51.0  0.99512  3.52       0.76   \n",
       "1596                 29.0                  40.0  0.99574  3.42       0.75   \n",
       "1597                 32.0                  44.0  0.99547  3.57       0.71   \n",
       "1598                 18.0                  42.0  0.99549  3.39       0.66   \n",
       "\n",
       "      alcohol  quality  \n",
       "0         9.4        5  \n",
       "1         9.8        5  \n",
       "2         9.8        5  \n",
       "3         9.8        6  \n",
       "4         9.4        5  \n",
       "...       ...      ...  \n",
       "1594     10.5        5  \n",
       "1595     11.2        6  \n",
       "1596     11.0        6  \n",
       "1597     10.2        5  \n",
       "1598     11.0        6  \n",
       "\n",
       "[1451 rows x 12 columns]"
      ]
     },
     "execution_count": 45,
     "metadata": {},
     "output_type": "execute_result"
    }
   ],
   "source": [
    "df_new_z=df[(z<3).all(axis=1)]\n",
    "df_new_z"
   ]
  },
  {
   "cell_type": "code",
   "execution_count": 46,
   "id": "010bca50",
   "metadata": {},
   "outputs": [
    {
     "data": {
      "text/plain": [
       "(1451, 12)"
      ]
     },
     "execution_count": 46,
     "metadata": {},
     "output_type": "execute_result"
    }
   ],
   "source": [
    "#checking the shape\n",
    "df_new_z.shape"
   ]
  },
  {
   "cell_type": "code",
   "execution_count": 47,
   "id": "9216a875",
   "metadata": {},
   "outputs": [
    {
     "data": {
      "text/plain": [
       "9.255784865540964"
      ]
     },
     "execution_count": 47,
     "metadata": {},
     "output_type": "execute_result"
    }
   ],
   "source": [
    "#percentage for the loss of data\n",
    "\n",
    "Data_loss=((1599-1451)/1599)*100\n",
    "Data_loss"
   ]
  },
  {
   "cell_type": "markdown",
   "id": "afd5ccaa",
   "metadata": {},
   "source": [
    "# Separating the columns into features and target"
   ]
  },
  {
   "cell_type": "code",
   "execution_count": 48,
   "id": "7c8226c7",
   "metadata": {},
   "outputs": [],
   "source": [
    "#seporating the columns \n",
    "features=df.drop(\"quality\",axis=1)\n",
    "target=df[\"quality\"]"
   ]
  },
  {
   "cell_type": "markdown",
   "id": "5a888eff",
   "metadata": {},
   "source": [
    "# Scaling the data by using Min-Max scaler"
   ]
  },
  {
   "cell_type": "code",
   "execution_count": 49,
   "id": "10e44e20",
   "metadata": {},
   "outputs": [],
   "source": [
    "#importing required libraries for scaling the data\n",
    "from sklearn.preprocessing import MinMaxScaler\n",
    "nms=MinMaxScaler()\n",
    "from sklearn.linear_model import LinearRegression\n",
    "lr=LinearRegression()\n",
    "from sklearn.metrics import r2_score\n",
    "from sklearn.model_selection import train_test_split"
   ]
  },
  {
   "cell_type": "code",
   "execution_count": 50,
   "id": "3f2cdfdb",
   "metadata": {},
   "outputs": [
    {
     "name": "stdout",
     "output_type": "stream",
     "text": [
      "At random state 0,the training accuracy is:-0.36545196162068627\n",
      "At random state 0,the training accuracy is:-0.3283887639580205\n",
      "\n",
      "\n",
      "At random state 1,the training accuracy is:-0.3655849921479042\n",
      "At random state 1,the training accuracy is:-0.32664027269868223\n",
      "\n",
      "\n",
      "At random state 2,the training accuracy is:-0.3707977009866663\n",
      "At random state 2,the training accuracy is:-0.3024388697391549\n",
      "\n",
      "\n",
      "At random state 3,the training accuracy is:-0.35302972716729597\n",
      "At random state 3,the training accuracy is:-0.3869039632632535\n",
      "\n",
      "\n",
      "At random state 4,the training accuracy is:-0.3636294659967745\n",
      "At random state 4,the training accuracy is:-0.3369500251369847\n",
      "\n",
      "\n",
      "At random state 5,the training accuracy is:-0.3536087659821445\n",
      "At random state 5,the training accuracy is:-0.3787468743163528\n",
      "\n",
      "\n",
      "At random state 6,the training accuracy is:-0.35173920943199843\n",
      "At random state 6,the training accuracy is:-0.3894742190108449\n",
      "\n",
      "\n",
      "At random state 7,the training accuracy is:-0.3599749190893229\n",
      "At random state 7,the training accuracy is:-0.3468858137200861\n",
      "\n",
      "\n",
      "At random state 8,the training accuracy is:-0.3578919148115476\n",
      "At random state 8,the training accuracy is:-0.35885487292107987\n",
      "\n",
      "\n",
      "At random state 9,the training accuracy is:-0.36727428588960354\n",
      "At random state 9,the training accuracy is:-0.3144205142389911\n",
      "\n",
      "\n",
      "At random state 10,the training accuracy is:-0.3532768594321877\n",
      "At random state 10,the training accuracy is:-0.3707576574165491\n",
      "\n",
      "\n",
      "At random state 11,the training accuracy is:-0.36142429747216853\n",
      "At random state 11,the training accuracy is:-0.33858793476496274\n",
      "\n",
      "\n",
      "At random state 12,the training accuracy is:-0.3668160062722696\n",
      "At random state 12,the training accuracy is:-0.31936958308068886\n",
      "\n",
      "\n",
      "At random state 13,the training accuracy is:-0.36115280147112483\n",
      "At random state 13,the training accuracy is:-0.35395945169177123\n",
      "\n",
      "\n",
      "At random state 14,the training accuracy is:-0.36632487563066574\n",
      "At random state 14,the training accuracy is:-0.3243508918082768\n",
      "\n",
      "\n",
      "At random state 15,the training accuracy is:-0.3689700137486426\n",
      "At random state 15,the training accuracy is:-0.32082782224591255\n",
      "\n",
      "\n",
      "At random state 16,the training accuracy is:-0.3749697770723568\n",
      "At random state 16,the training accuracy is:-0.2724809500226024\n",
      "\n",
      "\n",
      "At random state 17,the training accuracy is:-0.3444063328573571\n",
      "At random state 17,the training accuracy is:-0.41331401883866004\n",
      "\n",
      "\n",
      "At random state 18,the training accuracy is:-0.35776306523498624\n",
      "At random state 18,the training accuracy is:-0.3647496785769242\n",
      "\n",
      "\n",
      "At random state 19,the training accuracy is:-0.35106772874382774\n",
      "At random state 19,the training accuracy is:-0.38502462179578545\n",
      "\n",
      "\n",
      "At random state 20,the training accuracy is:-0.36539039831144726\n",
      "At random state 20,the training accuracy is:-0.3308409279307696\n",
      "\n",
      "\n",
      "At random state 21,the training accuracy is:-0.35611831614753875\n",
      "At random state 21,the training accuracy is:-0.36845549003779454\n",
      "\n",
      "\n",
      "At random state 22,the training accuracy is:-0.36325899048460797\n",
      "At random state 22,the training accuracy is:-0.33049116554400515\n",
      "\n",
      "\n",
      "At random state 23,the training accuracy is:-0.3440060273969867\n",
      "At random state 23,the training accuracy is:-0.42997879947313433\n",
      "\n",
      "\n",
      "At random state 24,the training accuracy is:-0.3846703816734892\n",
      "At random state 24,the training accuracy is:-0.2544897487735074\n",
      "\n",
      "\n",
      "At random state 25,the training accuracy is:-0.36900071550512814\n",
      "At random state 25,the training accuracy is:-0.31545168259623324\n",
      "\n",
      "\n",
      "At random state 26,the training accuracy is:-0.36663437971411683\n",
      "At random state 26,the training accuracy is:-0.313538274691744\n",
      "\n",
      "\n",
      "At random state 27,the training accuracy is:-0.3433281278630891\n",
      "At random state 27,the training accuracy is:-0.42540153717885065\n",
      "\n",
      "\n",
      "At random state 28,the training accuracy is:-0.35120933281344147\n",
      "At random state 28,the training accuracy is:-0.3827995635812004\n",
      "\n",
      "\n",
      "At random state 29,the training accuracy is:-0.34998099290408113\n",
      "At random state 29,the training accuracy is:-0.3873012599850124\n",
      "\n",
      "\n",
      "At random state 30,the training accuracy is:-0.35328401098590023\n",
      "At random state 30,the training accuracy is:-0.3801982546995064\n",
      "\n",
      "\n",
      "At random state 31,the training accuracy is:-0.36884135542739793\n",
      "At random state 31,the training accuracy is:-0.31723779400897856\n",
      "\n",
      "\n",
      "At random state 32,the training accuracy is:-0.37152428347430944\n",
      "At random state 32,the training accuracy is:-0.2913699761117382\n",
      "\n",
      "\n",
      "At random state 33,the training accuracy is:-0.358688476258228\n",
      "At random state 33,the training accuracy is:-0.3613156788063787\n",
      "\n",
      "\n",
      "At random state 34,the training accuracy is:-0.35524487468123267\n",
      "At random state 34,the training accuracy is:-0.37417466675946753\n",
      "\n",
      "\n",
      "At random state 35,the training accuracy is:-0.36577743687761366\n",
      "At random state 35,the training accuracy is:-0.32755551760517454\n",
      "\n",
      "\n",
      "At random state 36,the training accuracy is:-0.36095662159465747\n",
      "At random state 36,the training accuracy is:-0.3433691774019847\n",
      "\n",
      "\n",
      "At random state 37,the training accuracy is:-0.3573859421715877\n",
      "At random state 37,the training accuracy is:-0.3635228272011125\n",
      "\n",
      "\n",
      "At random state 38,the training accuracy is:-0.3572873532824702\n",
      "At random state 38,the training accuracy is:-0.3529411515773525\n",
      "\n",
      "\n",
      "At random state 39,the training accuracy is:-0.34860803228354365\n",
      "At random state 39,the training accuracy is:-0.39247058037202187\n",
      "\n",
      "\n",
      "At random state 40,the training accuracy is:-0.3435138143942267\n",
      "At random state 40,the training accuracy is:-0.4183385391256881\n",
      "\n",
      "\n",
      "At random state 41,the training accuracy is:-0.36533504755312884\n",
      "At random state 41,the training accuracy is:-0.3343666674001198\n",
      "\n",
      "\n",
      "At random state 42,the training accuracy is:-0.3479926193529862\n",
      "At random state 42,the training accuracy is:-0.40318034127962266\n",
      "\n",
      "\n",
      "At random state 43,the training accuracy is:-0.3515161939299468\n",
      "At random state 43,the training accuracy is:-0.39005246019880013\n",
      "\n",
      "\n",
      "At random state 44,the training accuracy is:-0.3702578572629125\n",
      "At random state 44,the training accuracy is:-0.31582937511976195\n",
      "\n",
      "\n",
      "At random state 45,the training accuracy is:-0.36296109606982596\n",
      "At random state 45,the training accuracy is:-0.33548391536131994\n",
      "\n",
      "\n",
      "At random state 46,the training accuracy is:-0.3713162022049449\n",
      "At random state 46,the training accuracy is:-0.31786580953125676\n",
      "\n",
      "\n",
      "At random state 47,the training accuracy is:-0.36413266141622747\n",
      "At random state 47,the training accuracy is:-0.3354925135221313\n",
      "\n",
      "\n",
      "At random state 48,the training accuracy is:-0.3720270821776218\n",
      "At random state 48,the training accuracy is:-0.29845520574682216\n",
      "\n",
      "\n",
      "At random state 49,the training accuracy is:-0.35370054748930757\n",
      "At random state 49,the training accuracy is:-0.3829318811950202\n",
      "\n",
      "\n",
      "At random state 50,the training accuracy is:-0.36652697046943117\n",
      "At random state 50,the training accuracy is:-0.3056042481825374\n",
      "\n",
      "\n",
      "At random state 51,the training accuracy is:-0.37957287031329945\n",
      "At random state 51,the training accuracy is:-0.2757356716156796\n",
      "\n",
      "\n",
      "At random state 52,the training accuracy is:-0.36049033207396897\n",
      "At random state 52,the training accuracy is:-0.35128445911514905\n",
      "\n",
      "\n",
      "At random state 53,the training accuracy is:-0.35118941973631124\n",
      "At random state 53,the training accuracy is:-0.3820298549799036\n",
      "\n",
      "\n",
      "At random state 54,the training accuracy is:-0.36103858065341043\n",
      "At random state 54,the training accuracy is:-0.34141479326327684\n",
      "\n",
      "\n",
      "At random state 55,the training accuracy is:-0.35825429914166496\n",
      "At random state 55,the training accuracy is:-0.3630450033159608\n",
      "\n",
      "\n",
      "At random state 56,the training accuracy is:-0.3540007933097584\n",
      "At random state 56,the training accuracy is:-0.38386932742001556\n",
      "\n",
      "\n",
      "At random state 57,the training accuracy is:-0.3771453418988774\n",
      "At random state 57,the training accuracy is:-0.29317200257783715\n",
      "\n",
      "\n",
      "At random state 58,the training accuracy is:-0.36219301198307774\n",
      "At random state 58,the training accuracy is:-0.34919806784601226\n",
      "\n",
      "\n",
      "At random state 59,the training accuracy is:-0.3716922201791689\n",
      "At random state 59,the training accuracy is:-0.30251735492172604\n",
      "\n",
      "\n",
      "At random state 60,the training accuracy is:-0.35294327722196794\n",
      "At random state 60,the training accuracy is:-0.3801116924746408\n",
      "\n",
      "\n",
      "At random state 61,the training accuracy is:-0.3462564663546718\n",
      "At random state 61,the training accuracy is:-0.4069898395077364\n",
      "\n",
      "\n",
      "At random state 62,the training accuracy is:-0.36416569171418534\n",
      "At random state 62,the training accuracy is:-0.33229650574369973\n",
      "\n",
      "\n",
      "At random state 63,the training accuracy is:-0.35617735673316553\n",
      "At random state 63,the training accuracy is:-0.36902014792048743\n",
      "\n",
      "\n",
      "At random state 64,the training accuracy is:-0.3695934369057794\n",
      "At random state 64,the training accuracy is:-0.3177936974679524\n",
      "\n",
      "\n",
      "At random state 65,the training accuracy is:-0.35520470026811324\n",
      "At random state 65,the training accuracy is:-0.37637282221559754\n",
      "\n",
      "\n",
      "At random state 66,the training accuracy is:-0.37643499407598846\n",
      "At random state 66,the training accuracy is:-0.291657475788588\n",
      "\n",
      "\n",
      "At random state 67,the training accuracy is:-0.36626483171623914\n",
      "At random state 67,the training accuracy is:-0.32113413813504443\n",
      "\n",
      "\n",
      "At random state 68,the training accuracy is:-0.3721198891005413\n",
      "At random state 68,the training accuracy is:-0.3010214835522551\n",
      "\n",
      "\n",
      "At random state 69,the training accuracy is:-0.3642740458309631\n",
      "At random state 69,the training accuracy is:-0.3417347288263948\n",
      "\n",
      "\n",
      "At random state 70,the training accuracy is:-0.360281005352623\n",
      "At random state 70,the training accuracy is:-0.34984995328540724\n",
      "\n",
      "\n",
      "At random state 71,the training accuracy is:-0.3544383311089546\n",
      "At random state 71,the training accuracy is:-0.3806694084902468\n",
      "\n",
      "\n",
      "At random state 72,the training accuracy is:-0.36006567100166675\n",
      "At random state 72,the training accuracy is:-0.359458718469837\n",
      "\n",
      "\n",
      "At random state 73,the training accuracy is:-0.36588636079220915\n",
      "At random state 73,the training accuracy is:-0.327752414714501\n",
      "\n",
      "\n",
      "At random state 74,the training accuracy is:-0.3561013105362387\n",
      "At random state 74,the training accuracy is:-0.37195208345650455\n",
      "\n",
      "\n",
      "At random state 75,the training accuracy is:-0.37783615734253717\n",
      "At random state 75,the training accuracy is:-0.25967864637272875\n",
      "\n",
      "\n",
      "At random state 76,the training accuracy is:-0.36888236669033536\n",
      "At random state 76,the training accuracy is:-0.3221720091261584\n",
      "\n",
      "\n",
      "At random state 77,the training accuracy is:-0.3611509097664821\n",
      "At random state 77,the training accuracy is:-0.35418857215809985\n",
      "\n",
      "\n",
      "At random state 78,the training accuracy is:-0.3516676897390876\n",
      "At random state 78,the training accuracy is:-0.3844227553226759\n",
      "\n",
      "\n",
      "At random state 79,the training accuracy is:-0.35705923156213826\n",
      "At random state 79,the training accuracy is:-0.3587820680371664\n",
      "\n",
      "\n",
      "At random state 80,the training accuracy is:-0.3639118281132959\n",
      "At random state 80,the training accuracy is:-0.3333847344660136\n",
      "\n",
      "\n",
      "At random state 81,the training accuracy is:-0.3613534859932048\n",
      "At random state 81,the training accuracy is:-0.35024993211259514\n",
      "\n",
      "\n",
      "At random state 82,the training accuracy is:-0.35666415630935133\n",
      "At random state 82,the training accuracy is:-0.36490540366616286\n",
      "\n",
      "\n",
      "At random state 83,the training accuracy is:-0.34913067520047625\n",
      "At random state 83,the training accuracy is:-0.40055717766329324\n",
      "\n",
      "\n",
      "At random state 84,the training accuracy is:-0.3620414433812462\n",
      "At random state 84,the training accuracy is:-0.33516526323537454\n",
      "\n",
      "\n",
      "At random state 85,the training accuracy is:-0.367671673951219\n",
      "At random state 85,the training accuracy is:-0.3104199343334648\n",
      "\n",
      "\n",
      "At random state 86,the training accuracy is:-0.35625686325782024\n",
      "At random state 86,the training accuracy is:-0.37346059294608713\n",
      "\n",
      "\n",
      "At random state 87,the training accuracy is:-0.3915781693152637\n",
      "At random state 87,the training accuracy is:-0.1766948364271208\n",
      "\n",
      "\n",
      "At random state 88,the training accuracy is:-0.37276193600687824\n",
      "At random state 88,the training accuracy is:-0.30038450919415427\n",
      "\n",
      "\n",
      "At random state 89,the training accuracy is:-0.35370210458416373\n",
      "At random state 89,the training accuracy is:-0.3692293486095166\n",
      "\n",
      "\n",
      "At random state 90,the training accuracy is:-0.37110848565441357\n",
      "At random state 90,the training accuracy is:-0.3031150924017947\n",
      "\n",
      "\n",
      "At random state 91,the training accuracy is:-0.3453001402081979\n",
      "At random state 91,the training accuracy is:-0.406464963134479\n",
      "\n",
      "\n",
      "At random state 92,the training accuracy is:-0.3433329199435282\n",
      "At random state 92,the training accuracy is:-0.4310709205807016\n",
      "\n",
      "\n",
      "At random state 93,the training accuracy is:-0.35159957976860723\n",
      "At random state 93,the training accuracy is:-0.3884070785432062\n",
      "\n",
      "\n",
      "At random state 94,the training accuracy is:-0.3848739710866186\n",
      "At random state 94,the training accuracy is:-0.23864232422146692\n",
      "\n",
      "\n",
      "At random state 95,the training accuracy is:-0.36606762257848047\n",
      "At random state 95,the training accuracy is:-0.32771842190678857\n",
      "\n",
      "\n",
      "At random state 96,the training accuracy is:-0.3676095933128163\n",
      "At random state 96,the training accuracy is:-0.31778388745841024\n",
      "\n",
      "\n",
      "At random state 97,the training accuracy is:-0.3740195705014857\n",
      "At random state 97,the training accuracy is:-0.29867387040583315\n",
      "\n",
      "\n",
      "At random state 98,the training accuracy is:-0.3581109911243957\n",
      "At random state 98,the training accuracy is:-0.36072219155989627\n",
      "\n",
      "\n",
      "At random state 99,the training accuracy is:-0.3657321664805211\n",
      "At random state 99,the training accuracy is:-0.32741357933011084\n",
      "\n",
      "\n"
     ]
    }
   ],
   "source": [
    "import warnings\n",
    "warnings.filterwarnings('ignore')\n",
    "\n",
    "\n",
    "for i in range(0,100):\n",
    "    features_train,features_test,target_train,target_test=train_test_split(features,target, test_size=0.2,random_state=i)\n",
    "    lr.fit(features_train,target_train)\n",
    "    pred_train=lr.predict(features_train)\n",
    "    pred_test=lr.predict(features_test)\n",
    "    print(f\"At random state {i},the training accuracy is:-{r2_score(target_train,pred_train)}\")\n",
    "    print(f\"At random state {i},the training accuracy is:-{r2_score(target_test,pred_test)}\")\n",
    "    print(\"\\n\")\n",
    "\n"
   ]
  },
  {
   "cell_type": "code",
   "execution_count": 51,
   "id": "6c7c2210",
   "metadata": {},
   "outputs": [
    {
     "name": "stdout",
     "output_type": "stream",
     "text": [
      "<function r2_score at 0x0000022B8D1F9D30> 1130    6\n",
      "1526    6\n",
      "1064    6\n",
      "673     5\n",
      "245     6\n",
      "       ..\n",
      "846     5\n",
      "372     6\n",
      "1544    7\n",
      "1524    6\n",
      "1329    6\n",
      "Name: quality, Length: 320, dtype: int64 [5.73274956 5.54179858 5.86452977 5.16513623 5.55378177 5.38980001\n",
      " 5.45469672 5.54622898 5.38938407 6.10174881 5.28693128 4.91268227\n",
      " 5.68952664 5.1315293  5.86420544 6.02985461 6.02985461 6.30450095\n",
      " 5.07401709 5.68767026 5.05911595 4.86165831 6.42782671 5.79272487\n",
      " 6.13509708 5.63709099 4.9492887  5.12362139 6.22308602 5.68875155\n",
      " 5.56772405 6.41592461 5.88953439 5.98055445 5.42864421 5.50982534\n",
      " 6.47999834 5.32634961 6.36106441 5.62520672 5.02357604 5.44644663\n",
      " 5.81791525 5.86753752 5.45453462 5.6339973  6.17056062 6.48905587\n",
      " 5.94507989 6.94417485 5.29509189 5.19843158 5.73779943 5.27460731\n",
      " 5.7487555  5.33808498 5.57230347 5.7781986  5.14979583 6.4148927\n",
      " 5.6185306  5.75404524 5.89181454 5.33428468 5.68976608 5.82848322\n",
      " 5.54892554 6.14878646 5.12915237 5.21816671 5.09490028 6.33278388\n",
      " 5.69731956 5.69521724 4.97290786 5.7278582  5.59435302 5.52169764\n",
      " 5.18548181 5.78957133 6.13495546 5.29022182 5.76573462 5.14896676\n",
      " 5.54693006 5.54164805 5.31398078 6.3663344  5.79756238 5.94315099\n",
      " 5.68402266 5.11445237 5.34774861 5.33933276 5.34276264 5.71653308\n",
      " 5.13058856 4.98531034 5.59321892 4.78975205 5.24363221 5.8211939\n",
      " 6.49438018 4.87818168 5.7781986  5.96374492 5.89795468 5.54114834\n",
      " 5.91773162 5.75241727 5.64223684 6.73934782 5.74351368 6.07230847\n",
      " 5.83318704 5.44484472 5.17923496 5.26210566 6.58794507 5.46937847\n",
      " 6.12246901 6.13963419 6.55255291 5.64378927 5.45918807 4.97640573\n",
      " 6.37402    4.30461655 5.84308347 5.55013336 5.99872302 6.18194868\n",
      " 5.22039034 6.54493817 5.93571615 5.14197305 5.19584925 5.34744201\n",
      " 5.65080899 6.60062592 4.7838349  5.48934165 6.02350731 6.25749135\n",
      " 4.84217791 5.94191184 5.11153598 6.56550534 5.67635024 6.13262775\n",
      " 5.3937407  5.55626981 6.11009868 5.51024174 5.66392757 6.24200004\n",
      " 4.71186269 5.15651846 6.01573527 5.56790855 5.44428666 5.15377037\n",
      " 6.48669879 5.35803914 5.09238155 5.25388689 5.74253515 4.97078467\n",
      " 5.34452184 5.05593431 5.78224535 5.67893766 5.89181454 5.62620619\n",
      " 5.71359432 4.82915431 5.81905412 5.90659223 6.55559472 6.02258442\n",
      " 5.6493295  5.59321892 5.17421894 6.36998191 6.10124309 6.28483396\n",
      " 5.65269595 5.40290229 5.2049544  5.54730167 5.35781388 5.45299885\n",
      " 5.61805663 5.25621264 5.36496218 5.10367384 5.60315302 5.74131192\n",
      " 5.06276499 5.52392979 6.21874844 5.41841647 5.61894929 5.34563482\n",
      " 5.91218353 5.66177917 5.40987204 5.65532399 4.98358475 5.71116785\n",
      " 5.22229915 6.09693673 6.48819516 5.86241824 5.26624833 5.3016366\n",
      " 5.57162538 5.32471404 5.80527078 5.75899841 6.46562405 5.59579019\n",
      " 5.36594916 6.61484368 5.49498821 5.44348019 6.14207314 5.75190487\n",
      " 5.0006329  5.60656016 5.33975127 5.23974317 5.44491698 5.3209085\n",
      " 5.62148129 6.23163924 5.66392757 5.9051122  5.94088113 5.81546402\n",
      " 5.52633906 4.99048021 5.01824755 5.77536478 5.8084219  4.87454614\n",
      " 6.22169567 6.38349477 5.3937407  5.05909365 5.08771888 5.3144907\n",
      " 5.13974429 5.92329069 6.22124934 5.42079729 5.66267989 5.05337095\n",
      " 5.14254396 5.24312583 5.11655902 6.21640776 5.49711748 5.3267031\n",
      " 4.89330198 6.29336114 5.54101157 5.26057025 5.46951349 5.85952729\n",
      " 5.53713212 5.99581548 6.32644852 5.23711878 5.11981484 5.98799373\n",
      " 5.78232247 5.68858766 5.42461939 5.05520385 5.49629445 5.02861491\n",
      " 6.49969895 4.89566838 5.4812872  4.67776587 5.33335615 5.49847796\n",
      " 6.2377011  5.6172275  5.61916542 6.55921576 6.01514475 5.17978436\n",
      " 5.33041279 6.37349546 5.03446733 5.37380129 5.63156569 6.16650559\n",
      " 5.13808204 5.30532822 5.50220719 5.94359541 5.54114834 4.80377353\n",
      " 6.1688241  5.34744201 6.02885218 6.36991385 5.62970886 5.44484472\n",
      " 5.28508485 4.79769318 6.16759238 5.26188071 6.38171455 6.33952085\n",
      " 5.7461141  5.17210644]\n"
     ]
    }
   ],
   "source": [
    "features_train,features_test,target_train,target_test=train_test_split(features,target, test_size=0.2,random_state=12)\n",
    "\n",
    "lr.fit(features_train,target_train)\n",
    "\n",
    "pred_test=lr.predict(features_test)\n",
    "\n",
    "print(r2_score,target_test,pred_test)\n",
    "\n"
   ]
  },
  {
   "cell_type": "markdown",
   "id": "1ea1e4d5",
   "metadata": {},
   "source": [
    "# Cross validation of the model"
   ]
  },
  {
   "cell_type": "code",
   "execution_count": 52,
   "id": "739a5741",
   "metadata": {},
   "outputs": [
    {
     "name": "stdout",
     "output_type": "stream",
     "text": [
      "At cross fold 2 the cv_score is 0.28482576602930315 and accuracy score for training is -0.35213486056220256 and accuracy score for testing is 0.31936958308068886\n",
      "\n",
      "\n",
      "At cross fold 3 the cv_score is 0.31157457784248205 and accuracy score for training is -0.35213486056220256 and accuracy score for testing is 0.31936958308068886\n",
      "\n",
      "\n",
      "At cross fold 4 the cv_score is 0.2871973003054049 and accuracy score for training is -0.35213486056220256 and accuracy score for testing is 0.31936958308068886\n",
      "\n",
      "\n",
      "At cross fold 5 the cv_score is 0.2900416288421962 and accuracy score for training is -0.35213486056220256 and accuracy score for testing is 0.31936958308068886\n",
      "\n",
      "\n",
      "At cross fold 6 the cv_score is 0.23454957393830222 and accuracy score for training is -0.35213486056220256 and accuracy score for testing is 0.31936958308068886\n",
      "\n",
      "\n",
      "At cross fold 7 the cv_score is 0.24947349742144928 and accuracy score for training is -0.35213486056220256 and accuracy score for testing is 0.31936958308068886\n",
      "\n",
      "\n",
      "At cross fold 8 the cv_score is 0.21815114893494822 and accuracy score for training is -0.35213486056220256 and accuracy score for testing is 0.31936958308068886\n",
      "\n",
      "\n",
      "At cross fold 9 the cv_score is 0.23763933720991792 and accuracy score for training is -0.35213486056220256 and accuracy score for testing is 0.31936958308068886\n",
      "\n",
      "\n"
     ]
    }
   ],
   "source": [
    "#Using cross validating techniquie\n",
    "Train_accuracy=r2_score(target_train,pred_train)\n",
    "Test_accuracy=r2_score(target_test,pred_test)\n",
    "\n",
    "from sklearn.model_selection import cross_val_score\n",
    "for j in range(2,10):\n",
    "    cv_score=cross_val_score(lr,features,target,cv=j)\n",
    "    cv_mean=cv_score.mean()\n",
    "    print(f\"At cross fold {j} the cv_score is {cv_mean} and accuracy score for training is {Train_accuracy} and accuracy score for testing is {Test_accuracy}\")\n",
    "    print(\"\\n\")\n",
    "\n"
   ]
  },
  {
   "cell_type": "markdown",
   "id": "2c530348",
   "metadata": {},
   "source": [
    "# Plotting the Linear Regression model"
   ]
  },
  {
   "cell_type": "code",
   "execution_count": 53,
   "id": "76089660",
   "metadata": {},
   "outputs": [
    {
     "data": {
      "image/png": "[encoded data removed]",
      "text/plain": [
       "<Figure size 576x432 with 1 Axes>"
      ]
     },
     "metadata": {
      "needs_background": "light"
     },
     "output_type": "display_data"
    }
   ],
   "source": [
    "#finding out the linear regression \n",
    "import matplotlib.pyplot as plt\n",
    "plt.figure(figsize=(8,6))\n",
    "plt.scatter(x=target_test, y=pred_test, color='r')\n",
    "plt.plot(target_test, target_test, color='b')\n",
    "plt.xlabel('Actual quality',fontsize=14)\n",
    "plt.ylabel('Predicted quality',fontsize=14)\n",
    "plt.title('Linear Regression',fontsize=18)\n",
    "plt.show()"
   ]
  },
  {
   "cell_type": "markdown",
   "id": "b655f689",
   "metadata": {},
   "source": [
    "# Regularization"
   ]
  },
  {
   "cell_type": "code",
   "execution_count": 54,
   "id": "9726d2fe",
   "metadata": {},
   "outputs": [
    {
     "name": "stdout",
     "output_type": "stream",
     "text": [
      "{'alpha': 0.0001, 'random_state': 0}\n"
     ]
    }
   ],
   "source": [
    "#regulatization\n",
    "from sklearn.model_selection import GridSearchCV\n",
    "from sklearn.model_selection import cross_val_score\n",
    "import warnings\n",
    "warnings.filterwarnings('ignore')\n",
    "\n",
    "from sklearn.linear_model import Lasso\n",
    "\n",
    "parameters={'alpha':[.0001,.001,.01,.1,1,10],'random_state':list(range(0,10))}\n",
    "ls = Lasso()\n",
    "clf=GridSearchCV(ls,parameters)\n",
    "clf.fit(features_train,target_train)\n",
    "\n",
    "print(clf.best_params_)"
   ]
  },
  {
   "cell_type": "code",
   "execution_count": 55,
   "id": "d720b3d7",
   "metadata": {},
   "outputs": [
    {
     "data": {
      "text/plain": [
       "0.03188556093247241"
      ]
     },
     "execution_count": 55,
     "metadata": {},
     "output_type": "execute_result"
    }
   ],
   "source": [
    "ls=Lasso(alpha=1,random_state=0)\n",
    "ls.fit(features_train,target_train)\n",
    "ls.score(features_train,target_train)\n",
    "pred_ls=ls.predict(features_test)\n",
    "\n",
    "lss=r2_score(target_test,pred_ls)\n",
    "lss"
   ]
  },
  {
   "cell_type": "code",
   "execution_count": 56,
   "id": "e73a8d18",
   "metadata": {},
   "outputs": [
    {
     "data": {
      "text/plain": [
       "-0.0419944898180884"
      ]
     },
     "execution_count": 56,
     "metadata": {},
     "output_type": "execute_result"
    }
   ],
   "source": [
    "cv_score=cross_val_score(ls,features,target,cv=5)\n",
    "cv_mean=cv_score.mean()\n",
    "cv_mean"
   ]
  },
  {
   "cell_type": "markdown",
   "id": "8e8012b6",
   "metadata": {},
   "source": [
    "# Ensemble Technique"
   ]
  },
  {
   "cell_type": "code",
   "execution_count": 57,
   "id": "249b1cb5",
   "metadata": {},
   "outputs": [
    {
     "name": "stdout",
     "output_type": "stream",
     "text": [
      "{'criterion': 'mse', 'max_features': 'log2'}\n"
     ]
    }
   ],
   "source": [
    "#using the ensemnle tehnique\n",
    "from sklearn.model_selection import GridSearchCV\n",
    "from sklearn.ensemble import RandomForestRegressor\n",
    "\n",
    "parameters={'criterion':['mse','mae'],'max_features':[\"auto\",\"sqrt\",\"log2\"]}\n",
    "rf=RandomForestRegressor()\n",
    "clf=GridSearchCV(rf,parameters)\n",
    "clf.fit(features_train,target_train)\n",
    "print(clf.best_params_)"
   ]
  },
  {
   "cell_type": "code",
   "execution_count": 58,
   "id": "d8a15c26",
   "metadata": {},
   "outputs": [
    {
     "name": "stdout",
     "output_type": "stream",
     "text": [
      "R2 Score: 44.50489551517662\n",
      "Cross val score: 30.362806366228277\n"
     ]
    }
   ],
   "source": [
    "rf=RandomForestRegressor(criterion=\"mse\",max_features=\"auto\")\n",
    "rf.fit(features_train,target_train)\n",
    "rf.score(features_train,target_train)\n",
    "pred_decision=rf.predict(features_test)\n",
    "\n",
    "rfs=r2_score(target_test,pred_decision)\n",
    "print('R2 Score:',rfs*100)\n",
    "\n",
    "rfscore=cross_val_score(rf,features,target,cv=5)\n",
    "rfc=rfscore.mean()\n",
    "print('Cross val score:',rfc*100)"
   ]
  },
  {
   "cell_type": "markdown",
   "id": "54c0ded3",
   "metadata": {},
   "source": [
    "# Conclusion"
   ]
  },
  {
   "cell_type": "code",
   "execution_count": 59,
   "id": "d19cedf5",
   "metadata": {},
   "outputs": [
    {
     "name": "stdout",
     "output_type": "stream",
     "text": [
      "0.44504895515176623\n"
     ]
    }
   ],
   "source": [
    "#importing pickle library to find the conculsion\n",
    "import pickle\n",
    "filename='quality.pkl'\n",
    "pickle.dump(rf,open(filename,'wb'))\n",
    "\n",
    "loaded_model=pickle.load(open('quality.pkl','rb'))\n",
    "result=loaded_model.score(features_test,target_test)\n",
    "print(result)"
   ]
  },
  {
   "cell_type": "code",
   "execution_count": 60,
   "id": "4a1efd6b",
   "metadata": {},
   "outputs": [
    {
     "data": {
      "text/html": [
       "<div>\n",
       "<style scoped>\n",
       "    .dataframe tbody tr th:only-of-type {\n",
       "        vertical-align: middle;\n",
       "    }\n",
       "\n",
       "    .dataframe tbody tr th {\n",
       "        vertical-align: top;\n",
       "    }\n",
       "\n",
       "    .dataframe thead th {\n",
       "        text-align: right;\n",
       "    }\n",
       "</style>\n",
       "<table border=\"1\" class=\"dataframe\">\n",
       "  <thead>\n",
       "    <tr style=\"text-align: right;\">\n",
       "      <th></th>\n",
       "      <th>0</th>\n",
       "      <th>1</th>\n",
       "      <th>2</th>\n",
       "      <th>3</th>\n",
       "      <th>4</th>\n",
       "      <th>5</th>\n",
       "      <th>6</th>\n",
       "      <th>7</th>\n",
       "      <th>8</th>\n",
       "      <th>9</th>\n",
       "      <th>...</th>\n",
       "      <th>310</th>\n",
       "      <th>311</th>\n",
       "      <th>312</th>\n",
       "      <th>313</th>\n",
       "      <th>314</th>\n",
       "      <th>315</th>\n",
       "      <th>316</th>\n",
       "      <th>317</th>\n",
       "      <th>318</th>\n",
       "      <th>319</th>\n",
       "    </tr>\n",
       "  </thead>\n",
       "  <tbody>\n",
       "    <tr>\n",
       "      <th>Predicted Red wine Quality</th>\n",
       "      <td>5.35</td>\n",
       "      <td>5.68</td>\n",
       "      <td>5.76</td>\n",
       "      <td>5.05</td>\n",
       "      <td>5.77</td>\n",
       "      <td>5.44</td>\n",
       "      <td>5.27</td>\n",
       "      <td>5.5</td>\n",
       "      <td>5.51</td>\n",
       "      <td>6.57</td>\n",
       "      <td>...</td>\n",
       "      <td>5.39</td>\n",
       "      <td>5.24</td>\n",
       "      <td>5.07</td>\n",
       "      <td>4.87</td>\n",
       "      <td>6.13</td>\n",
       "      <td>5.05</td>\n",
       "      <td>6.19</td>\n",
       "      <td>6.49</td>\n",
       "      <td>5.75</td>\n",
       "      <td>5.68</td>\n",
       "    </tr>\n",
       "    <tr>\n",
       "      <th>Original Red wine quality</th>\n",
       "      <td>5.35</td>\n",
       "      <td>5.68</td>\n",
       "      <td>5.76</td>\n",
       "      <td>5.05</td>\n",
       "      <td>5.77</td>\n",
       "      <td>5.44</td>\n",
       "      <td>5.27</td>\n",
       "      <td>5.5</td>\n",
       "      <td>5.51</td>\n",
       "      <td>6.57</td>\n",
       "      <td>...</td>\n",
       "      <td>5.39</td>\n",
       "      <td>5.24</td>\n",
       "      <td>5.07</td>\n",
       "      <td>4.87</td>\n",
       "      <td>6.13</td>\n",
       "      <td>5.05</td>\n",
       "      <td>6.19</td>\n",
       "      <td>6.49</td>\n",
       "      <td>5.75</td>\n",
       "      <td>5.68</td>\n",
       "    </tr>\n",
       "  </tbody>\n",
       "</table>\n",
       "<p>2 rows × 320 columns</p>\n",
       "</div>"
      ],
      "text/plain": [
       "                             0     1     2     3     4     5     6    7    \\\n",
       "Predicted Red wine Quality  5.35  5.68  5.76  5.05  5.77  5.44  5.27  5.5   \n",
       "Original Red wine quality   5.35  5.68  5.76  5.05  5.77  5.44  5.27  5.5   \n",
       "\n",
       "                             8     9    ...   310   311   312   313   314  \\\n",
       "Predicted Red wine Quality  5.51  6.57  ...  5.39  5.24  5.07  4.87  6.13   \n",
       "Original Red wine quality   5.51  6.57  ...  5.39  5.24  5.07  4.87  6.13   \n",
       "\n",
       "                             315   316   317   318   319  \n",
       "Predicted Red wine Quality  5.05  6.19  6.49  5.75  5.68  \n",
       "Original Red wine quality   5.05  6.19  6.49  5.75  5.68  \n",
       "\n",
       "[2 rows x 320 columns]"
      ]
     },
     "execution_count": 60,
     "metadata": {},
     "output_type": "execute_result"
    }
   ],
   "source": [
    "conclusion=pd.DataFrame([loaded_model.predict(features_test)[:],pred_decision[:]],index=[\"Predicted Red wine Quality\",\"Original Red wine quality\"])\n",
    "conclusion"
   ]
  },
  {
   "cell_type": "code",
   "execution_count": null,
   "id": "866e3f8a",
   "metadata": {},
   "outputs": [],
   "source": []
  }
 ],
 "metadata": {
  "kernelspec": {
   "display_name": "Python 3 (ipykernel)",
   "language": "python",
   "name": "python3"
  },
  "language_info": {
   "codemirror_mode": {
    "name": "ipython",
    "version": 3
   },
   "file_extension": ".py",
   "mimetype": "text/x-python",
   "name": "python",
   "nbconvert_exporter": "python",
   "pygments_lexer": "ipython3",
   "version": "3.9.7"
  }
 },
 "nbformat": 4,
 "nbformat_minor": 5
}
